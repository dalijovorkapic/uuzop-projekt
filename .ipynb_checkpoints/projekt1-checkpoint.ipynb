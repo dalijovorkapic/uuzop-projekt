{
 "cells": [
  {
   "cell_type": "markdown",
   "id": "18b074d7",
   "metadata": {},
   "source": [
    "# Priprema i vizualizacija podataka - Dalijo Vorkapić"
   ]
  },
  {
   "cell_type": "markdown",
   "id": "24152b7f",
   "metadata": {},
   "source": [
    "Skup ovih podataka je sakupljen i izmjeren u svrhu istraživanja kako ljudski stres utječe na uspješnost pri pisanju ispita.\n",
    "Skup sadrži odvojene podatke mjerenja za 10 studenata. Ti podaci uključuju mjerenja elektrodermalne aktivnosti, brzinu otkucaja srca, krvnog pulsa, intervala između otkucaja, temperature površine kože i podatke akcelerometra.\n",
    "Mjerenja su se provodila tijekom tri ispitna roka - međuispit 1, međuispit 2 i završni ispit, čiji su bodovni rezultati zapisani."
   ]
  },
  {
   "cell_type": "markdown",
   "id": "d7ad753b",
   "metadata": {},
   "source": [
    "#### POTREBNE BIBLIOTEKE"
   ]
  },
  {
   "cell_type": "code",
   "execution_count": 1,
   "id": "25d03f7e",
   "metadata": {},
   "outputs": [],
   "source": [
    "import numpy as np\n",
    "import pandas as pd\n",
    "import os\n",
    "import glob\n",
    "import matplotlib.pyplot as plt\n",
    "import seaborn as sns\n",
    "from pandas.errors import EmptyDataError\n",
    "%config InteractiveShell.ast_node_interactivity = 'all'"
   ]
  },
  {
   "cell_type": "markdown",
   "id": "fc97060c",
   "metadata": {},
   "source": [
    "### UČITAVANJE PODATAKA\n",
    "Učitat čemo podatke svih mjerenja za prvog studenta tijekom završnog ispita."
   ]
  },
  {
   "cell_type": "code",
   "execution_count": 3,
   "id": "a599aa88",
   "metadata": {},
   "outputs": [],
   "source": [
    "path = os.getcwd()\n",
    "student_csv_files = glob.glob(path+'\\\\Data\\\\S01\\\\Final\\\\*.csv')\n",
    "grades = pd.read_csv(path+'\\\\Student Grades.csv')"
   ]
  },
  {
   "cell_type": "markdown",
   "id": "e98fcd3f",
   "metadata": {},
   "source": [
    "### PRIKAZ PODATAKA"
   ]
  },
  {
   "cell_type": "code",
   "execution_count": 4,
   "id": "a1dd4442",
   "metadata": {
    "scrolled": true
   },
   "outputs": [
    {
     "name": "stdout",
     "output_type": "stream",
     "text": [
      "Student Grades.csv\n",
      "-----------------------------------------------------------------\n"
     ]
    },
    {
     "data": {
      "text/html": [
       "<div>\n",
       "<style scoped>\n",
       "    .dataframe tbody tr th:only-of-type {\n",
       "        vertical-align: middle;\n",
       "    }\n",
       "\n",
       "    .dataframe tbody tr th {\n",
       "        vertical-align: top;\n",
       "    }\n",
       "\n",
       "    .dataframe thead th {\n",
       "        text-align: right;\n",
       "    }\n",
       "</style>\n",
       "<table border=\"1\" class=\"dataframe\">\n",
       "  <thead>\n",
       "    <tr style=\"text-align: right;\">\n",
       "      <th></th>\n",
       "      <th>Exam</th>\n",
       "      <th>S01</th>\n",
       "      <th>S02</th>\n",
       "      <th>S03</th>\n",
       "      <th>S04</th>\n",
       "      <th>S05</th>\n",
       "      <th>S06</th>\n",
       "      <th>S07</th>\n",
       "      <th>S08</th>\n",
       "      <th>S09</th>\n",
       "      <th>S10</th>\n",
       "    </tr>\n",
       "  </thead>\n",
       "  <tbody>\n",
       "    <tr>\n",
       "      <th>0</th>\n",
       "      <td>Midterm 1</td>\n",
       "      <td>78</td>\n",
       "      <td>82</td>\n",
       "      <td>77</td>\n",
       "      <td>75</td>\n",
       "      <td>67</td>\n",
       "      <td>71</td>\n",
       "      <td>64</td>\n",
       "      <td>92</td>\n",
       "      <td>80</td>\n",
       "      <td>89</td>\n",
       "    </tr>\n",
       "    <tr>\n",
       "      <th>1</th>\n",
       "      <td>Midterm 2</td>\n",
       "      <td>82</td>\n",
       "      <td>85</td>\n",
       "      <td>90</td>\n",
       "      <td>77</td>\n",
       "      <td>77</td>\n",
       "      <td>64</td>\n",
       "      <td>33</td>\n",
       "      <td>88</td>\n",
       "      <td>39</td>\n",
       "      <td>64</td>\n",
       "    </tr>\n",
       "    <tr>\n",
       "      <th>2</th>\n",
       "      <td>Final</td>\n",
       "      <td>182</td>\n",
       "      <td>180</td>\n",
       "      <td>188</td>\n",
       "      <td>149</td>\n",
       "      <td>157</td>\n",
       "      <td>175</td>\n",
       "      <td>110</td>\n",
       "      <td>184</td>\n",
       "      <td>126</td>\n",
       "      <td>116</td>\n",
       "    </tr>\n",
       "  </tbody>\n",
       "</table>\n",
       "</div>"
      ],
      "text/plain": [
       "        Exam  S01  S02  S03  S04  S05  S06  S07  S08  S09  S10\n",
       "0  Midterm 1   78   82   77   75   67   71   64   92   80   89\n",
       "1  Midterm 2   82   85   90   77   77   64   33   88   39   64\n",
       "2      Final  182  180  188  149  157  175  110  184  126  116"
      ]
     },
     "metadata": {},
     "output_type": "display_data"
    },
    {
     "name": "stdout",
     "output_type": "stream",
     "text": [
      "<class 'pandas.core.frame.DataFrame'>\n",
      "RangeIndex: 3 entries, 0 to 2\n",
      "Data columns (total 11 columns):\n",
      " #   Column  Non-Null Count  Dtype \n",
      "---  ------  --------------  ----- \n",
      " 0   Exam    3 non-null      object\n",
      " 1   S01     3 non-null      int64 \n",
      " 2   S02     3 non-null      int64 \n",
      " 3   S03     3 non-null      int64 \n",
      " 4   S04     3 non-null      int64 \n",
      " 5   S05     3 non-null      int64 \n",
      " 6   S06     3 non-null      int64 \n",
      " 7   S07     3 non-null      int64 \n",
      " 8   S08     3 non-null      int64 \n",
      " 9   S09     3 non-null      int64 \n",
      " 10  S10     3 non-null      int64 \n",
      "dtypes: int64(10), object(1)\n",
      "memory usage: 392.0+ bytes\n",
      "\n",
      "ACC.csv\n",
      "-----------------------------------------------------------------\n"
     ]
    },
    {
     "data": {
      "text/html": [
       "<div>\n",
       "<style scoped>\n",
       "    .dataframe tbody tr th:only-of-type {\n",
       "        vertical-align: middle;\n",
       "    }\n",
       "\n",
       "    .dataframe tbody tr th {\n",
       "        vertical-align: top;\n",
       "    }\n",
       "\n",
       "    .dataframe thead th {\n",
       "        text-align: right;\n",
       "    }\n",
       "</style>\n",
       "<table border=\"1\" class=\"dataframe\">\n",
       "  <thead>\n",
       "    <tr style=\"text-align: right;\">\n",
       "      <th></th>\n",
       "      <th>1544027337.000000</th>\n",
       "      <th>1544027337.000000</th>\n",
       "      <th>1544027337.000000.1</th>\n",
       "    </tr>\n",
       "  </thead>\n",
       "  <tbody>\n",
       "    <tr>\n",
       "      <th>0</th>\n",
       "      <td>32.0</td>\n",
       "      <td>32.0</td>\n",
       "      <td>32.0</td>\n",
       "    </tr>\n",
       "    <tr>\n",
       "      <th>1</th>\n",
       "      <td>-3.0</td>\n",
       "      <td>65.0</td>\n",
       "      <td>6.0</td>\n",
       "    </tr>\n",
       "    <tr>\n",
       "      <th>2</th>\n",
       "      <td>-3.0</td>\n",
       "      <td>65.0</td>\n",
       "      <td>6.0</td>\n",
       "    </tr>\n",
       "    <tr>\n",
       "      <th>3</th>\n",
       "      <td>-3.0</td>\n",
       "      <td>65.0</td>\n",
       "      <td>6.0</td>\n",
       "    </tr>\n",
       "    <tr>\n",
       "      <th>4</th>\n",
       "      <td>-3.0</td>\n",
       "      <td>65.0</td>\n",
       "      <td>6.0</td>\n",
       "    </tr>\n",
       "    <tr>\n",
       "      <th>...</th>\n",
       "      <td>...</td>\n",
       "      <td>...</td>\n",
       "      <td>...</td>\n",
       "    </tr>\n",
       "    <tr>\n",
       "      <th>748682</th>\n",
       "      <td>-24.0</td>\n",
       "      <td>42.0</td>\n",
       "      <td>42.0</td>\n",
       "    </tr>\n",
       "    <tr>\n",
       "      <th>748683</th>\n",
       "      <td>-24.0</td>\n",
       "      <td>42.0</td>\n",
       "      <td>43.0</td>\n",
       "    </tr>\n",
       "    <tr>\n",
       "      <th>748684</th>\n",
       "      <td>-25.0</td>\n",
       "      <td>42.0</td>\n",
       "      <td>42.0</td>\n",
       "    </tr>\n",
       "    <tr>\n",
       "      <th>748685</th>\n",
       "      <td>-24.0</td>\n",
       "      <td>42.0</td>\n",
       "      <td>44.0</td>\n",
       "    </tr>\n",
       "    <tr>\n",
       "      <th>748686</th>\n",
       "      <td>-24.0</td>\n",
       "      <td>43.0</td>\n",
       "      <td>42.0</td>\n",
       "    </tr>\n",
       "  </tbody>\n",
       "</table>\n",
       "<p>748687 rows × 3 columns</p>\n",
       "</div>"
      ],
      "text/plain": [
       "        1544027337.000000   1544027337.000000   1544027337.000000.1\n",
       "0                    32.0                32.0                  32.0\n",
       "1                    -3.0                65.0                   6.0\n",
       "2                    -3.0                65.0                   6.0\n",
       "3                    -3.0                65.0                   6.0\n",
       "4                    -3.0                65.0                   6.0\n",
       "...                   ...                 ...                   ...\n",
       "748682              -24.0                42.0                  42.0\n",
       "748683              -24.0                42.0                  43.0\n",
       "748684              -25.0                42.0                  42.0\n",
       "748685              -24.0                42.0                  44.0\n",
       "748686              -24.0                43.0                  42.0\n",
       "\n",
       "[748687 rows x 3 columns]"
      ]
     },
     "metadata": {},
     "output_type": "display_data"
    },
    {
     "name": "stdout",
     "output_type": "stream",
     "text": [
      "<class 'pandas.core.frame.DataFrame'>\n",
      "RangeIndex: 748687 entries, 0 to 748686\n",
      "Data columns (total 3 columns):\n",
      " #   Column                Non-Null Count   Dtype  \n",
      "---  ------                --------------   -----  \n",
      " 0   1544027337.000000     748687 non-null  float64\n",
      " 1    1544027337.000000    748687 non-null  float64\n",
      " 2    1544027337.000000.1  748687 non-null  float64\n",
      "dtypes: float64(3)\n",
      "memory usage: 17.1 MB\n",
      "\n",
      "BVP.csv\n",
      "-----------------------------------------------------------------\n"
     ]
    },
    {
     "data": {
      "text/html": [
       "<div>\n",
       "<style scoped>\n",
       "    .dataframe tbody tr th:only-of-type {\n",
       "        vertical-align: middle;\n",
       "    }\n",
       "\n",
       "    .dataframe tbody tr th {\n",
       "        vertical-align: top;\n",
       "    }\n",
       "\n",
       "    .dataframe thead th {\n",
       "        text-align: right;\n",
       "    }\n",
       "</style>\n",
       "<table border=\"1\" class=\"dataframe\">\n",
       "  <thead>\n",
       "    <tr style=\"text-align: right;\">\n",
       "      <th></th>\n",
       "      <th>1544027337.00</th>\n",
       "    </tr>\n",
       "  </thead>\n",
       "  <tbody>\n",
       "    <tr>\n",
       "      <th>0</th>\n",
       "      <td>64.00</td>\n",
       "    </tr>\n",
       "    <tr>\n",
       "      <th>1</th>\n",
       "      <td>-0.00</td>\n",
       "    </tr>\n",
       "    <tr>\n",
       "      <th>2</th>\n",
       "      <td>-0.00</td>\n",
       "    </tr>\n",
       "    <tr>\n",
       "      <th>3</th>\n",
       "      <td>-0.00</td>\n",
       "    </tr>\n",
       "    <tr>\n",
       "      <th>4</th>\n",
       "      <td>-0.00</td>\n",
       "    </tr>\n",
       "    <tr>\n",
       "      <th>...</th>\n",
       "      <td>...</td>\n",
       "    </tr>\n",
       "    <tr>\n",
       "      <th>1497371</th>\n",
       "      <td>3.47</td>\n",
       "    </tr>\n",
       "    <tr>\n",
       "      <th>1497372</th>\n",
       "      <td>3.56</td>\n",
       "    </tr>\n",
       "    <tr>\n",
       "      <th>1497373</th>\n",
       "      <td>3.35</td>\n",
       "    </tr>\n",
       "    <tr>\n",
       "      <th>1497374</th>\n",
       "      <td>2.84</td>\n",
       "    </tr>\n",
       "    <tr>\n",
       "      <th>1497375</th>\n",
       "      <td>2.11</td>\n",
       "    </tr>\n",
       "  </tbody>\n",
       "</table>\n",
       "<p>1497376 rows × 1 columns</p>\n",
       "</div>"
      ],
      "text/plain": [
       "         1544027337.00\n",
       "0                64.00\n",
       "1                -0.00\n",
       "2                -0.00\n",
       "3                -0.00\n",
       "4                -0.00\n",
       "...                ...\n",
       "1497371           3.47\n",
       "1497372           3.56\n",
       "1497373           3.35\n",
       "1497374           2.84\n",
       "1497375           2.11\n",
       "\n",
       "[1497376 rows x 1 columns]"
      ]
     },
     "metadata": {},
     "output_type": "display_data"
    },
    {
     "name": "stdout",
     "output_type": "stream",
     "text": [
      "<class 'pandas.core.frame.DataFrame'>\n",
      "RangeIndex: 1497376 entries, 0 to 1497375\n",
      "Data columns (total 1 columns):\n",
      " #   Column         Non-Null Count    Dtype  \n",
      "---  ------         --------------    -----  \n",
      " 0   1544027337.00  1497376 non-null  float64\n",
      "dtypes: float64(1)\n",
      "memory usage: 11.4 MB\n",
      "\n",
      "EDA.csv\n",
      "-----------------------------------------------------------------\n"
     ]
    },
    {
     "data": {
      "text/html": [
       "<div>\n",
       "<style scoped>\n",
       "    .dataframe tbody tr th:only-of-type {\n",
       "        vertical-align: middle;\n",
       "    }\n",
       "\n",
       "    .dataframe tbody tr th {\n",
       "        vertical-align: top;\n",
       "    }\n",
       "\n",
       "    .dataframe thead th {\n",
       "        text-align: right;\n",
       "    }\n",
       "</style>\n",
       "<table border=\"1\" class=\"dataframe\">\n",
       "  <thead>\n",
       "    <tr style=\"text-align: right;\">\n",
       "      <th></th>\n",
       "      <th>1544027337.000000</th>\n",
       "    </tr>\n",
       "  </thead>\n",
       "  <tbody>\n",
       "    <tr>\n",
       "      <th>0</th>\n",
       "      <td>4.000000</td>\n",
       "    </tr>\n",
       "    <tr>\n",
       "      <th>1</th>\n",
       "      <td>0.000000</td>\n",
       "    </tr>\n",
       "    <tr>\n",
       "      <th>2</th>\n",
       "      <td>0.005125</td>\n",
       "    </tr>\n",
       "    <tr>\n",
       "      <th>3</th>\n",
       "      <td>0.020501</td>\n",
       "    </tr>\n",
       "    <tr>\n",
       "      <th>4</th>\n",
       "      <td>0.021783</td>\n",
       "    </tr>\n",
       "    <tr>\n",
       "      <th>...</th>\n",
       "      <td>...</td>\n",
       "    </tr>\n",
       "    <tr>\n",
       "      <th>93578</th>\n",
       "      <td>0.025627</td>\n",
       "    </tr>\n",
       "    <tr>\n",
       "      <th>93579</th>\n",
       "      <td>0.025627</td>\n",
       "    </tr>\n",
       "    <tr>\n",
       "      <th>93580</th>\n",
       "      <td>0.026908</td>\n",
       "    </tr>\n",
       "    <tr>\n",
       "      <th>93581</th>\n",
       "      <td>0.025627</td>\n",
       "    </tr>\n",
       "    <tr>\n",
       "      <th>93582</th>\n",
       "      <td>0.026908</td>\n",
       "    </tr>\n",
       "  </tbody>\n",
       "</table>\n",
       "<p>93583 rows × 1 columns</p>\n",
       "</div>"
      ],
      "text/plain": [
       "       1544027337.000000\n",
       "0               4.000000\n",
       "1               0.000000\n",
       "2               0.005125\n",
       "3               0.020501\n",
       "4               0.021783\n",
       "...                  ...\n",
       "93578           0.025627\n",
       "93579           0.025627\n",
       "93580           0.026908\n",
       "93581           0.025627\n",
       "93582           0.026908\n",
       "\n",
       "[93583 rows x 1 columns]"
      ]
     },
     "metadata": {},
     "output_type": "display_data"
    },
    {
     "name": "stdout",
     "output_type": "stream",
     "text": [
      "<class 'pandas.core.frame.DataFrame'>\n",
      "RangeIndex: 93583 entries, 0 to 93582\n",
      "Data columns (total 1 columns):\n",
      " #   Column             Non-Null Count  Dtype  \n",
      "---  ------             --------------  -----  \n",
      " 0   1544027337.000000  93583 non-null  float64\n",
      "dtypes: float64(1)\n",
      "memory usage: 731.2 KB\n",
      "\n",
      "HR.csv\n",
      "-----------------------------------------------------------------\n"
     ]
    },
    {
     "data": {
      "text/html": [
       "<div>\n",
       "<style scoped>\n",
       "    .dataframe tbody tr th:only-of-type {\n",
       "        vertical-align: middle;\n",
       "    }\n",
       "\n",
       "    .dataframe tbody tr th {\n",
       "        vertical-align: top;\n",
       "    }\n",
       "\n",
       "    .dataframe thead th {\n",
       "        text-align: right;\n",
       "    }\n",
       "</style>\n",
       "<table border=\"1\" class=\"dataframe\">\n",
       "  <thead>\n",
       "    <tr style=\"text-align: right;\">\n",
       "      <th></th>\n",
       "      <th>1544027347.000000</th>\n",
       "    </tr>\n",
       "  </thead>\n",
       "  <tbody>\n",
       "    <tr>\n",
       "      <th>0</th>\n",
       "      <td>1.00</td>\n",
       "    </tr>\n",
       "    <tr>\n",
       "      <th>1</th>\n",
       "      <td>116.00</td>\n",
       "    </tr>\n",
       "    <tr>\n",
       "      <th>2</th>\n",
       "      <td>82.50</td>\n",
       "    </tr>\n",
       "    <tr>\n",
       "      <th>3</th>\n",
       "      <td>96.33</td>\n",
       "    </tr>\n",
       "    <tr>\n",
       "      <th>4</th>\n",
       "      <td>86.25</td>\n",
       "    </tr>\n",
       "    <tr>\n",
       "      <th>...</th>\n",
       "      <td>...</td>\n",
       "    </tr>\n",
       "    <tr>\n",
       "      <th>23383</th>\n",
       "      <td>123.15</td>\n",
       "    </tr>\n",
       "    <tr>\n",
       "      <th>23384</th>\n",
       "      <td>122.73</td>\n",
       "    </tr>\n",
       "    <tr>\n",
       "      <th>23385</th>\n",
       "      <td>122.40</td>\n",
       "    </tr>\n",
       "    <tr>\n",
       "      <th>23386</th>\n",
       "      <td>121.95</td>\n",
       "    </tr>\n",
       "    <tr>\n",
       "      <th>23387</th>\n",
       "      <td>120.80</td>\n",
       "    </tr>\n",
       "  </tbody>\n",
       "</table>\n",
       "<p>23388 rows × 1 columns</p>\n",
       "</div>"
      ],
      "text/plain": [
       "       1544027347.000000\n",
       "0                   1.00\n",
       "1                 116.00\n",
       "2                  82.50\n",
       "3                  96.33\n",
       "4                  86.25\n",
       "...                  ...\n",
       "23383             123.15\n",
       "23384             122.73\n",
       "23385             122.40\n",
       "23386             121.95\n",
       "23387             120.80\n",
       "\n",
       "[23388 rows x 1 columns]"
      ]
     },
     "metadata": {},
     "output_type": "display_data"
    },
    {
     "name": "stdout",
     "output_type": "stream",
     "text": [
      "<class 'pandas.core.frame.DataFrame'>\n",
      "RangeIndex: 23388 entries, 0 to 23387\n",
      "Data columns (total 1 columns):\n",
      " #   Column             Non-Null Count  Dtype  \n",
      "---  ------             --------------  -----  \n",
      " 0   1544027347.000000  23388 non-null  float64\n",
      "dtypes: float64(1)\n",
      "memory usage: 182.8 KB\n",
      "\n",
      "IBI.csv\n",
      "-----------------------------------------------------------------\n"
     ]
    },
    {
     "data": {
      "text/html": [
       "<div>\n",
       "<style scoped>\n",
       "    .dataframe tbody tr th:only-of-type {\n",
       "        vertical-align: middle;\n",
       "    }\n",
       "\n",
       "    .dataframe tbody tr th {\n",
       "        vertical-align: top;\n",
       "    }\n",
       "\n",
       "    .dataframe thead th {\n",
       "        text-align: right;\n",
       "    }\n",
       "</style>\n",
       "<table border=\"1\" class=\"dataframe\">\n",
       "  <thead>\n",
       "    <tr style=\"text-align: right;\">\n",
       "      <th></th>\n",
       "      <th>1544027337.000000</th>\n",
       "      <th>IBI</th>\n",
       "    </tr>\n",
       "  </thead>\n",
       "  <tbody>\n",
       "    <tr>\n",
       "      <th>0</th>\n",
       "      <td>84.847634</td>\n",
       "      <td>0.468771</td>\n",
       "    </tr>\n",
       "    <tr>\n",
       "      <th>1</th>\n",
       "      <td>85.347657</td>\n",
       "      <td>0.500023</td>\n",
       "    </tr>\n",
       "    <tr>\n",
       "      <th>2</th>\n",
       "      <td>85.722674</td>\n",
       "      <td>0.375017</td>\n",
       "    </tr>\n",
       "    <tr>\n",
       "      <th>3</th>\n",
       "      <td>107.754932</td>\n",
       "      <td>0.437520</td>\n",
       "    </tr>\n",
       "    <tr>\n",
       "      <th>4</th>\n",
       "      <td>108.223704</td>\n",
       "      <td>0.468771</td>\n",
       "    </tr>\n",
       "    <tr>\n",
       "      <th>...</th>\n",
       "      <td>...</td>\n",
       "      <td>...</td>\n",
       "    </tr>\n",
       "    <tr>\n",
       "      <th>2163</th>\n",
       "      <td>19364.448896</td>\n",
       "      <td>0.703157</td>\n",
       "    </tr>\n",
       "    <tr>\n",
       "      <th>2164</th>\n",
       "      <td>19439.249195</td>\n",
       "      <td>0.515649</td>\n",
       "    </tr>\n",
       "    <tr>\n",
       "      <th>2165</th>\n",
       "      <td>19450.515336</td>\n",
       "      <td>0.406269</td>\n",
       "    </tr>\n",
       "    <tr>\n",
       "      <th>2166</th>\n",
       "      <td>19458.406322</td>\n",
       "      <td>0.437520</td>\n",
       "    </tr>\n",
       "    <tr>\n",
       "      <th>2167</th>\n",
       "      <td>20794.217468</td>\n",
       "      <td>0.375017</td>\n",
       "    </tr>\n",
       "  </tbody>\n",
       "</table>\n",
       "<p>2168 rows × 2 columns</p>\n",
       "</div>"
      ],
      "text/plain": [
       "      1544027337.000000       IBI\n",
       "0             84.847634  0.468771\n",
       "1             85.347657  0.500023\n",
       "2             85.722674  0.375017\n",
       "3            107.754932  0.437520\n",
       "4            108.223704  0.468771\n",
       "...                 ...       ...\n",
       "2163       19364.448896  0.703157\n",
       "2164       19439.249195  0.515649\n",
       "2165       19450.515336  0.406269\n",
       "2166       19458.406322  0.437520\n",
       "2167       20794.217468  0.375017\n",
       "\n",
       "[2168 rows x 2 columns]"
      ]
     },
     "metadata": {},
     "output_type": "display_data"
    },
    {
     "name": "stdout",
     "output_type": "stream",
     "text": [
      "<class 'pandas.core.frame.DataFrame'>\n",
      "RangeIndex: 2168 entries, 0 to 2167\n",
      "Data columns (total 2 columns):\n",
      " #   Column             Non-Null Count  Dtype  \n",
      "---  ------             --------------  -----  \n",
      " 0   1544027337.000000  2168 non-null   float64\n",
      " 1    IBI               2168 non-null   float64\n",
      "dtypes: float64(2)\n",
      "memory usage: 34.0 KB\n",
      "\n",
      "tags.csv\n",
      "-----------------------------------------------------------------\n",
      "No columns to parse from file tags.csv\n",
      "\n",
      "TEMP.csv\n",
      "-----------------------------------------------------------------\n"
     ]
    },
    {
     "data": {
      "text/html": [
       "<div>\n",
       "<style scoped>\n",
       "    .dataframe tbody tr th:only-of-type {\n",
       "        vertical-align: middle;\n",
       "    }\n",
       "\n",
       "    .dataframe tbody tr th {\n",
       "        vertical-align: top;\n",
       "    }\n",
       "\n",
       "    .dataframe thead th {\n",
       "        text-align: right;\n",
       "    }\n",
       "</style>\n",
       "<table border=\"1\" class=\"dataframe\">\n",
       "  <thead>\n",
       "    <tr style=\"text-align: right;\">\n",
       "      <th></th>\n",
       "      <th>1544027337.000000</th>\n",
       "    </tr>\n",
       "  </thead>\n",
       "  <tbody>\n",
       "    <tr>\n",
       "      <th>0</th>\n",
       "      <td>4.00</td>\n",
       "    </tr>\n",
       "    <tr>\n",
       "      <th>1</th>\n",
       "      <td>21.89</td>\n",
       "    </tr>\n",
       "    <tr>\n",
       "      <th>2</th>\n",
       "      <td>21.89</td>\n",
       "    </tr>\n",
       "    <tr>\n",
       "      <th>3</th>\n",
       "      <td>21.89</td>\n",
       "    </tr>\n",
       "    <tr>\n",
       "      <th>4</th>\n",
       "      <td>21.89</td>\n",
       "    </tr>\n",
       "    <tr>\n",
       "      <th>...</th>\n",
       "      <td>...</td>\n",
       "    </tr>\n",
       "    <tr>\n",
       "      <th>93580</th>\n",
       "      <td>26.67</td>\n",
       "    </tr>\n",
       "    <tr>\n",
       "      <th>93581</th>\n",
       "      <td>26.67</td>\n",
       "    </tr>\n",
       "    <tr>\n",
       "      <th>93582</th>\n",
       "      <td>26.67</td>\n",
       "    </tr>\n",
       "    <tr>\n",
       "      <th>93583</th>\n",
       "      <td>26.67</td>\n",
       "    </tr>\n",
       "    <tr>\n",
       "      <th>93584</th>\n",
       "      <td>26.67</td>\n",
       "    </tr>\n",
       "  </tbody>\n",
       "</table>\n",
       "<p>93585 rows × 1 columns</p>\n",
       "</div>"
      ],
      "text/plain": [
       "       1544027337.000000\n",
       "0                   4.00\n",
       "1                  21.89\n",
       "2                  21.89\n",
       "3                  21.89\n",
       "4                  21.89\n",
       "...                  ...\n",
       "93580              26.67\n",
       "93581              26.67\n",
       "93582              26.67\n",
       "93583              26.67\n",
       "93584              26.67\n",
       "\n",
       "[93585 rows x 1 columns]"
      ]
     },
     "metadata": {},
     "output_type": "display_data"
    },
    {
     "name": "stdout",
     "output_type": "stream",
     "text": [
      "<class 'pandas.core.frame.DataFrame'>\n",
      "RangeIndex: 93585 entries, 0 to 93584\n",
      "Data columns (total 1 columns):\n",
      " #   Column             Non-Null Count  Dtype  \n",
      "---  ------             --------------  -----  \n",
      " 0   1544027337.000000  93585 non-null  float64\n",
      "dtypes: float64(1)\n",
      "memory usage: 731.3 KB\n",
      "\n"
     ]
    }
   ],
   "source": [
    "print(\"Student Grades.csv\")\n",
    "print(\"-\"*65)\n",
    "display(grades)\n",
    "grades.info()\n",
    "print(\"\")\n",
    "for csv in student_csv_files:\n",
    "    filename = csv.split(\"\\\\\")[-1]\n",
    "    try:\n",
    "        print(filename)\n",
    "        print(\"-\"*65)\n",
    "        df = pd.read_csv(csv)\n",
    "        display(df)\n",
    "        df.info()\n",
    "        print(\"\")\n",
    "    except EmptyDataError:\n",
    "        print(f\"No columns to parse from file {filename}\\n\")\n"
   ]
  },
  {
   "cell_type": "markdown",
   "id": "565abd67",
   "metadata": {},
   "source": [
    "### OPIS PODATAKA\n",
    "#### POJAŠNJENJE TABLICA MJERENJA\n",
    "- Svi podaci u tablicama su numerički tipovi (float64)\n",
    "- Numerički podatak u prvom redu tablice (zaglavlju) predstavlja početno vrijeme mjerenja izraženo u UTC unix vremenskoj oznaci (primjer \t1544027337.000000 -> 05.12.2018. 16:28:57)\n",
    "- Numerički podatak u drugom redu tablice predstavlja brzinu uzorkovanja izraženu u Hz\n",
    "- Broj redaka tablica predstavlja broj mjerenja\n",
    "\n",
    "##### Student Grades.csv\n",
    "- Prikazuje brojeve bodova koje su studenti stekli na ispitima\n",
    "\n",
    "##### ACC.csv\n",
    "- Podaci mjerenja sa akcelerometarskim senzorom\n",
    "- Očitanja sa x, y i z os predstavljeni sa tri stupca tablice\n",
    "\n",
    "##### BVP.csv\n",
    "- Podaci mjerenja promjene volumena krvi mikrovaskularnom sloju tkiv sa fotopletizmografom\n",
    "- Promjene volumena krvi su prikazana kroz jedan stupac tablice\n",
    "\n",
    "##### EDA.csv\n",
    "- Podaci mjerenja električnih karakteristika kože elektrodermalnim senzorom\n",
    "- Očitanja su predstavljena u mikrosimens jedinici i prikazana su u stupcu tablice\n",
    "\n",
    "##### HR.csv\n",
    "- Podaci prosječne brzine otkucaja srca, izvedeni iz BVP signala\n",
    "- Prikazani kroz jedan stupac tablice\n",
    "\n",
    "##### IBI.csv\n",
    "- Prikazuje vrijeme između otkucaja, izvedeno iz BVP signala\n",
    "- Ne prikazuje brzinu uzorkovanja u prvom redu (nije potrebna)\n",
    "- Prvi stupac je vrijeme otkrivenog međuotkucajnog intervala (u odnosu na početno vrijeme mjerenja) izraženo u sekundama\n",
    "- Drugi stupac predstavlja duljinu trajanja otkrivenog međuotkucajnog intervala izraženu u sekundama\n",
    "\n",
    "##### TEMP.csv\n",
    "- Podaci sa temperaturnog senora\n",
    "- Prikazuje očitanja u Celzijusima u jednom stupcu tablice\n",
    "\n",
    "##### tags.csv\n",
    "- Predstavlja očitavanja pritiska gumba na uređaju u isto vrijeme paljenja statusne LED lampice"
   ]
  },
  {
   "cell_type": "markdown",
   "id": "8a8c78ad",
   "metadata": {},
   "source": [
    "### ČIŠĆENJE PODATAKA\n",
    "Budući da kod svih studenata datoteka tags.csv nema podataka, maknut će se iz skupa datoteka analize.\n",
    "Također tablica Student Grades je izvučena iz tekstualne datoteke"
   ]
  },
  {
   "cell_type": "markdown",
   "id": "6d68ef1b",
   "metadata": {},
   "source": [
    "### DESKRIPTIVNA STATISTIKA PODATAKA\n",
    "Radi boljeg pregleda podataka u svrhu deskriptivne analize, sva odvojena mjerenja za jednog studenta su spojena u jedan dataframe kroz funkciju merge_student_data_readings() koja za parametre prima studenta i ispit iz kojih će uzimati podatke (npr merge_student_data_readings('S01', 'Final') ).\n",
    "Također su dodana konkretna imena stupaca umjesto vremenskih oznaka radi boljeg uvida u značenje stupaca i maknut je prvi red iz tablica, koji je predstavljao brzinu uzorkovanja, budući da ta dva podatka nisu potrebna za opisivanje izmjerenih podataka.\n"
   ]
  },
  {
   "cell_type": "code",
   "execution_count": 5,
   "id": "3e9d211b",
   "metadata": {},
   "outputs": [],
   "source": [
    "def merge_student_data_readings(student, exam):\n",
    "    student_data_readings_path = path + '\\\\Data\\\\' + student + '\\\\' + exam\n",
    "    student_data_readings_files = glob.glob(student_data_readings_path+'\\\\*.csv')\n",
    "    result_df = pd.DataFrame()\n",
    "    \n",
    "    for file in student_data_readings_files:\n",
    "        if 'tags.csv' in file:\n",
    "            continue\n",
    "        df = pd.read_csv(file)\n",
    "        result_df = pd.concat([result_df, df], axis=1)\n",
    "    return result_df"
   ]
  },
  {
   "cell_type": "code",
   "execution_count": 6,
   "id": "95f1e504",
   "metadata": {
    "scrolled": true
   },
   "outputs": [
    {
     "data": {
      "text/html": [
       "<div>\n",
       "<style scoped>\n",
       "    .dataframe tbody tr th:only-of-type {\n",
       "        vertical-align: middle;\n",
       "    }\n",
       "\n",
       "    .dataframe tbody tr th {\n",
       "        vertical-align: top;\n",
       "    }\n",
       "\n",
       "    .dataframe thead th {\n",
       "        text-align: right;\n",
       "    }\n",
       "</style>\n",
       "<table border=\"1\" class=\"dataframe\">\n",
       "  <thead>\n",
       "    <tr style=\"text-align: right;\">\n",
       "      <th></th>\n",
       "      <th>1544027337.000000</th>\n",
       "      <th>1544027337.000000</th>\n",
       "      <th>1544027337.000000.1</th>\n",
       "      <th>1544027337.00</th>\n",
       "      <th>1544027337.000000</th>\n",
       "      <th>1544027347.000000</th>\n",
       "      <th>1544027337.000000</th>\n",
       "      <th>IBI</th>\n",
       "      <th>1544027337.000000</th>\n",
       "    </tr>\n",
       "  </thead>\n",
       "  <tbody>\n",
       "    <tr>\n",
       "      <th>0</th>\n",
       "      <td>32.0</td>\n",
       "      <td>32.0</td>\n",
       "      <td>32.0</td>\n",
       "      <td>64.00</td>\n",
       "      <td>4.000000</td>\n",
       "      <td>1.00</td>\n",
       "      <td>84.847634</td>\n",
       "      <td>0.468771</td>\n",
       "      <td>4.00</td>\n",
       "    </tr>\n",
       "    <tr>\n",
       "      <th>1</th>\n",
       "      <td>-3.0</td>\n",
       "      <td>65.0</td>\n",
       "      <td>6.0</td>\n",
       "      <td>-0.00</td>\n",
       "      <td>0.000000</td>\n",
       "      <td>116.00</td>\n",
       "      <td>85.347657</td>\n",
       "      <td>0.500023</td>\n",
       "      <td>21.89</td>\n",
       "    </tr>\n",
       "    <tr>\n",
       "      <th>2</th>\n",
       "      <td>-3.0</td>\n",
       "      <td>65.0</td>\n",
       "      <td>6.0</td>\n",
       "      <td>-0.00</td>\n",
       "      <td>0.005125</td>\n",
       "      <td>82.50</td>\n",
       "      <td>85.722674</td>\n",
       "      <td>0.375017</td>\n",
       "      <td>21.89</td>\n",
       "    </tr>\n",
       "    <tr>\n",
       "      <th>3</th>\n",
       "      <td>-3.0</td>\n",
       "      <td>65.0</td>\n",
       "      <td>6.0</td>\n",
       "      <td>-0.00</td>\n",
       "      <td>0.020501</td>\n",
       "      <td>96.33</td>\n",
       "      <td>107.754932</td>\n",
       "      <td>0.437520</td>\n",
       "      <td>21.89</td>\n",
       "    </tr>\n",
       "    <tr>\n",
       "      <th>4</th>\n",
       "      <td>-3.0</td>\n",
       "      <td>65.0</td>\n",
       "      <td>6.0</td>\n",
       "      <td>-0.00</td>\n",
       "      <td>0.021783</td>\n",
       "      <td>86.25</td>\n",
       "      <td>108.223704</td>\n",
       "      <td>0.468771</td>\n",
       "      <td>21.89</td>\n",
       "    </tr>\n",
       "    <tr>\n",
       "      <th>...</th>\n",
       "      <td>...</td>\n",
       "      <td>...</td>\n",
       "      <td>...</td>\n",
       "      <td>...</td>\n",
       "      <td>...</td>\n",
       "      <td>...</td>\n",
       "      <td>...</td>\n",
       "      <td>...</td>\n",
       "      <td>...</td>\n",
       "    </tr>\n",
       "    <tr>\n",
       "      <th>1497371</th>\n",
       "      <td>NaN</td>\n",
       "      <td>NaN</td>\n",
       "      <td>NaN</td>\n",
       "      <td>3.47</td>\n",
       "      <td>NaN</td>\n",
       "      <td>NaN</td>\n",
       "      <td>NaN</td>\n",
       "      <td>NaN</td>\n",
       "      <td>NaN</td>\n",
       "    </tr>\n",
       "    <tr>\n",
       "      <th>1497372</th>\n",
       "      <td>NaN</td>\n",
       "      <td>NaN</td>\n",
       "      <td>NaN</td>\n",
       "      <td>3.56</td>\n",
       "      <td>NaN</td>\n",
       "      <td>NaN</td>\n",
       "      <td>NaN</td>\n",
       "      <td>NaN</td>\n",
       "      <td>NaN</td>\n",
       "    </tr>\n",
       "    <tr>\n",
       "      <th>1497373</th>\n",
       "      <td>NaN</td>\n",
       "      <td>NaN</td>\n",
       "      <td>NaN</td>\n",
       "      <td>3.35</td>\n",
       "      <td>NaN</td>\n",
       "      <td>NaN</td>\n",
       "      <td>NaN</td>\n",
       "      <td>NaN</td>\n",
       "      <td>NaN</td>\n",
       "    </tr>\n",
       "    <tr>\n",
       "      <th>1497374</th>\n",
       "      <td>NaN</td>\n",
       "      <td>NaN</td>\n",
       "      <td>NaN</td>\n",
       "      <td>2.84</td>\n",
       "      <td>NaN</td>\n",
       "      <td>NaN</td>\n",
       "      <td>NaN</td>\n",
       "      <td>NaN</td>\n",
       "      <td>NaN</td>\n",
       "    </tr>\n",
       "    <tr>\n",
       "      <th>1497375</th>\n",
       "      <td>NaN</td>\n",
       "      <td>NaN</td>\n",
       "      <td>NaN</td>\n",
       "      <td>2.11</td>\n",
       "      <td>NaN</td>\n",
       "      <td>NaN</td>\n",
       "      <td>NaN</td>\n",
       "      <td>NaN</td>\n",
       "      <td>NaN</td>\n",
       "    </tr>\n",
       "  </tbody>\n",
       "</table>\n",
       "<p>1497376 rows × 9 columns</p>\n",
       "</div>"
      ],
      "text/plain": [
       "         1544027337.000000   1544027337.000000   1544027337.000000.1  \\\n",
       "0                     32.0                32.0                  32.0   \n",
       "1                     -3.0                65.0                   6.0   \n",
       "2                     -3.0                65.0                   6.0   \n",
       "3                     -3.0                65.0                   6.0   \n",
       "4                     -3.0                65.0                   6.0   \n",
       "...                    ...                 ...                   ...   \n",
       "1497371                NaN                 NaN                   NaN   \n",
       "1497372                NaN                 NaN                   NaN   \n",
       "1497373                NaN                 NaN                   NaN   \n",
       "1497374                NaN                 NaN                   NaN   \n",
       "1497375                NaN                 NaN                   NaN   \n",
       "\n",
       "         1544027337.00  1544027337.000000  1544027347.000000  \\\n",
       "0                64.00           4.000000               1.00   \n",
       "1                -0.00           0.000000             116.00   \n",
       "2                -0.00           0.005125              82.50   \n",
       "3                -0.00           0.020501              96.33   \n",
       "4                -0.00           0.021783              86.25   \n",
       "...                ...                ...                ...   \n",
       "1497371           3.47                NaN                NaN   \n",
       "1497372           3.56                NaN                NaN   \n",
       "1497373           3.35                NaN                NaN   \n",
       "1497374           2.84                NaN                NaN   \n",
       "1497375           2.11                NaN                NaN   \n",
       "\n",
       "         1544027337.000000       IBI  1544027337.000000  \n",
       "0                84.847634  0.468771               4.00  \n",
       "1                85.347657  0.500023              21.89  \n",
       "2                85.722674  0.375017              21.89  \n",
       "3               107.754932  0.437520              21.89  \n",
       "4               108.223704  0.468771              21.89  \n",
       "...                    ...       ...                ...  \n",
       "1497371                NaN       NaN                NaN  \n",
       "1497372                NaN       NaN                NaN  \n",
       "1497373                NaN       NaN                NaN  \n",
       "1497374                NaN       NaN                NaN  \n",
       "1497375                NaN       NaN                NaN  \n",
       "\n",
       "[1497376 rows x 9 columns]"
      ]
     },
     "metadata": {},
     "output_type": "display_data"
    }
   ],
   "source": [
    "student_data_readings_df = merge_student_data_readings('S01','Final')\n",
    "display(student_data_readings_df)"
   ]
  },
  {
   "cell_type": "code",
   "execution_count": 7,
   "id": "99e6582d",
   "metadata": {
    "scrolled": false
   },
   "outputs": [
    {
     "name": "stdout",
     "output_type": "stream",
     "text": [
      "Index(['1544027337.000000', ' 1544027337.000000', ' 1544027337.000000.1',\n",
      "       '1544027337.00', '1544027337.000000', '1544027347.000000',\n",
      "       '1544027337.000000', ' IBI', '1544027337.000000'],\n",
      "      dtype='object')\n",
      "Index(['Accelerometer X', 'Accelerometer Y', 'Accelerometer Z',\n",
      "       'Blood volume pulse', 'Electrodermal activity', 'Heart rate',\n",
      "       'Heart beat detection time', 'Heart beat duration', 'Temperature'],\n",
      "      dtype='object')\n"
     ]
    }
   ],
   "source": [
    "#Preimenovanje imena stupaca radi boljeg uvida u vrstu podatka\n",
    "def rename_columns(df):\n",
    "    new_column_names = [\n",
    "    'Accelerometer X',\n",
    "    'Accelerometer Y',\n",
    "    'Accelerometer Z',\n",
    "    'Blood volume pulse',\n",
    "    'Electrodermal activity',\n",
    "    'Heart rate',\n",
    "    'Heart beat detection time',\n",
    "    'Heart beat duration',\n",
    "    'Temperature'\n",
    "    ]\n",
    "    df.columns = new_column_names \n",
    "    \n",
    "print(student_data_readings_df.columns)\n",
    "rename_columns(student_data_readings_df)\n",
    "print(student_data_readings_df.columns)"
   ]
  },
  {
   "cell_type": "code",
   "execution_count": 8,
   "id": "91716361",
   "metadata": {
    "scrolled": true
   },
   "outputs": [
    {
     "data": {
      "text/html": [
       "<div>\n",
       "<style scoped>\n",
       "    .dataframe tbody tr th:only-of-type {\n",
       "        vertical-align: middle;\n",
       "    }\n",
       "\n",
       "    .dataframe tbody tr th {\n",
       "        vertical-align: top;\n",
       "    }\n",
       "\n",
       "    .dataframe thead th {\n",
       "        text-align: right;\n",
       "    }\n",
       "</style>\n",
       "<table border=\"1\" class=\"dataframe\">\n",
       "  <thead>\n",
       "    <tr style=\"text-align: right;\">\n",
       "      <th></th>\n",
       "      <th>Accelerometer X</th>\n",
       "      <th>Accelerometer Y</th>\n",
       "      <th>Accelerometer Z</th>\n",
       "      <th>Blood volume pulse</th>\n",
       "      <th>Electrodermal activity</th>\n",
       "      <th>Heart rate</th>\n",
       "      <th>Heart beat detection time</th>\n",
       "      <th>Heart beat duration</th>\n",
       "      <th>Temperature</th>\n",
       "    </tr>\n",
       "  </thead>\n",
       "  <tbody>\n",
       "    <tr>\n",
       "      <th>0</th>\n",
       "      <td>32.0</td>\n",
       "      <td>32.0</td>\n",
       "      <td>32.0</td>\n",
       "      <td>64.0</td>\n",
       "      <td>4.000000</td>\n",
       "      <td>1.00</td>\n",
       "      <td>84.847634</td>\n",
       "      <td>0.468771</td>\n",
       "      <td>4.00</td>\n",
       "    </tr>\n",
       "    <tr>\n",
       "      <th>1</th>\n",
       "      <td>-3.0</td>\n",
       "      <td>65.0</td>\n",
       "      <td>6.0</td>\n",
       "      <td>-0.0</td>\n",
       "      <td>0.000000</td>\n",
       "      <td>116.00</td>\n",
       "      <td>85.347657</td>\n",
       "      <td>0.500023</td>\n",
       "      <td>21.89</td>\n",
       "    </tr>\n",
       "    <tr>\n",
       "      <th>2</th>\n",
       "      <td>-3.0</td>\n",
       "      <td>65.0</td>\n",
       "      <td>6.0</td>\n",
       "      <td>-0.0</td>\n",
       "      <td>0.005125</td>\n",
       "      <td>82.50</td>\n",
       "      <td>85.722674</td>\n",
       "      <td>0.375017</td>\n",
       "      <td>21.89</td>\n",
       "    </tr>\n",
       "    <tr>\n",
       "      <th>3</th>\n",
       "      <td>-3.0</td>\n",
       "      <td>65.0</td>\n",
       "      <td>6.0</td>\n",
       "      <td>-0.0</td>\n",
       "      <td>0.020501</td>\n",
       "      <td>96.33</td>\n",
       "      <td>107.754932</td>\n",
       "      <td>0.437520</td>\n",
       "      <td>21.89</td>\n",
       "    </tr>\n",
       "    <tr>\n",
       "      <th>4</th>\n",
       "      <td>-3.0</td>\n",
       "      <td>65.0</td>\n",
       "      <td>6.0</td>\n",
       "      <td>-0.0</td>\n",
       "      <td>0.021783</td>\n",
       "      <td>86.25</td>\n",
       "      <td>108.223704</td>\n",
       "      <td>0.468771</td>\n",
       "      <td>21.89</td>\n",
       "    </tr>\n",
       "  </tbody>\n",
       "</table>\n",
       "</div>"
      ],
      "text/plain": [
       "   Accelerometer X  Accelerometer Y  Accelerometer Z  Blood volume pulse  \\\n",
       "0             32.0             32.0             32.0                64.0   \n",
       "1             -3.0             65.0              6.0                -0.0   \n",
       "2             -3.0             65.0              6.0                -0.0   \n",
       "3             -3.0             65.0              6.0                -0.0   \n",
       "4             -3.0             65.0              6.0                -0.0   \n",
       "\n",
       "   Electrodermal activity  Heart rate  Heart beat detection time  \\\n",
       "0                4.000000        1.00                  84.847634   \n",
       "1                0.000000      116.00                  85.347657   \n",
       "2                0.005125       82.50                  85.722674   \n",
       "3                0.020501       96.33                 107.754932   \n",
       "4                0.021783       86.25                 108.223704   \n",
       "\n",
       "   Heart beat duration  Temperature  \n",
       "0             0.468771         4.00  \n",
       "1             0.500023        21.89  \n",
       "2             0.375017        21.89  \n",
       "3             0.437520        21.89  \n",
       "4             0.468771        21.89  "
      ]
     },
     "execution_count": 8,
     "metadata": {},
     "output_type": "execute_result"
    },
    {
     "data": {
      "text/html": [
       "<div>\n",
       "<style scoped>\n",
       "    .dataframe tbody tr th:only-of-type {\n",
       "        vertical-align: middle;\n",
       "    }\n",
       "\n",
       "    .dataframe tbody tr th {\n",
       "        vertical-align: top;\n",
       "    }\n",
       "\n",
       "    .dataframe thead th {\n",
       "        text-align: right;\n",
       "    }\n",
       "</style>\n",
       "<table border=\"1\" class=\"dataframe\">\n",
       "  <thead>\n",
       "    <tr style=\"text-align: right;\">\n",
       "      <th></th>\n",
       "      <th>Accelerometer X</th>\n",
       "      <th>Accelerometer Y</th>\n",
       "      <th>Accelerometer Z</th>\n",
       "      <th>Blood volume pulse</th>\n",
       "      <th>Electrodermal activity</th>\n",
       "      <th>Heart rate</th>\n",
       "      <th>Heart beat detection time</th>\n",
       "      <th>Heart beat duration</th>\n",
       "      <th>Temperature</th>\n",
       "    </tr>\n",
       "  </thead>\n",
       "  <tbody>\n",
       "    <tr>\n",
       "      <th>1</th>\n",
       "      <td>-3.0</td>\n",
       "      <td>65.0</td>\n",
       "      <td>6.0</td>\n",
       "      <td>-0.0</td>\n",
       "      <td>0.000000</td>\n",
       "      <td>116.00</td>\n",
       "      <td>85.347657</td>\n",
       "      <td>0.500023</td>\n",
       "      <td>21.89</td>\n",
       "    </tr>\n",
       "    <tr>\n",
       "      <th>2</th>\n",
       "      <td>-3.0</td>\n",
       "      <td>65.0</td>\n",
       "      <td>6.0</td>\n",
       "      <td>-0.0</td>\n",
       "      <td>0.005125</td>\n",
       "      <td>82.50</td>\n",
       "      <td>85.722674</td>\n",
       "      <td>0.375017</td>\n",
       "      <td>21.89</td>\n",
       "    </tr>\n",
       "    <tr>\n",
       "      <th>3</th>\n",
       "      <td>-3.0</td>\n",
       "      <td>65.0</td>\n",
       "      <td>6.0</td>\n",
       "      <td>-0.0</td>\n",
       "      <td>0.020501</td>\n",
       "      <td>96.33</td>\n",
       "      <td>107.754932</td>\n",
       "      <td>0.437520</td>\n",
       "      <td>21.89</td>\n",
       "    </tr>\n",
       "    <tr>\n",
       "      <th>4</th>\n",
       "      <td>-3.0</td>\n",
       "      <td>65.0</td>\n",
       "      <td>6.0</td>\n",
       "      <td>-0.0</td>\n",
       "      <td>0.021783</td>\n",
       "      <td>86.25</td>\n",
       "      <td>108.223704</td>\n",
       "      <td>0.468771</td>\n",
       "      <td>21.89</td>\n",
       "    </tr>\n",
       "    <tr>\n",
       "      <th>5</th>\n",
       "      <td>-3.0</td>\n",
       "      <td>65.0</td>\n",
       "      <td>6.0</td>\n",
       "      <td>-0.0</td>\n",
       "      <td>0.023064</td>\n",
       "      <td>98.60</td>\n",
       "      <td>108.645598</td>\n",
       "      <td>0.421894</td>\n",
       "      <td>21.89</td>\n",
       "    </tr>\n",
       "  </tbody>\n",
       "</table>\n",
       "</div>"
      ],
      "text/plain": [
       "   Accelerometer X  Accelerometer Y  Accelerometer Z  Blood volume pulse  \\\n",
       "1             -3.0             65.0              6.0                -0.0   \n",
       "2             -3.0             65.0              6.0                -0.0   \n",
       "3             -3.0             65.0              6.0                -0.0   \n",
       "4             -3.0             65.0              6.0                -0.0   \n",
       "5             -3.0             65.0              6.0                -0.0   \n",
       "\n",
       "   Electrodermal activity  Heart rate  Heart beat detection time  \\\n",
       "1                0.000000      116.00                  85.347657   \n",
       "2                0.005125       82.50                  85.722674   \n",
       "3                0.020501       96.33                 107.754932   \n",
       "4                0.021783       86.25                 108.223704   \n",
       "5                0.023064       98.60                 108.645598   \n",
       "\n",
       "   Heart beat duration  Temperature  \n",
       "1             0.500023        21.89  \n",
       "2             0.375017        21.89  \n",
       "3             0.437520        21.89  \n",
       "4             0.468771        21.89  \n",
       "5             0.421894        21.89  "
      ]
     },
     "execution_count": 8,
     "metadata": {},
     "output_type": "execute_result"
    }
   ],
   "source": [
    "#Micanje prvog reda budući da ono predstavlja frekvenciju uzorkovanja i nema utjecaja na deskriptivnu analizu podataka mjerenja\n",
    "def remove_first_row(df):\n",
    "    return df.iloc[1:]\n",
    "    \n",
    "student_data_readings_df.head()\n",
    "student_data_readings_df = remove_first_row(student_data_readings_df)\n",
    "student_data_readings_df.head()"
   ]
  },
  {
   "cell_type": "markdown",
   "id": "bbb9c64e",
   "metadata": {},
   "source": [
    "#### Monotoni atributi"
   ]
  },
  {
   "cell_type": "code",
   "execution_count": 9,
   "id": "de50eebf",
   "metadata": {
    "scrolled": false
   },
   "outputs": [
    {
     "data": {
      "text/plain": [
       "Accelerometer X                246\n",
       "Accelerometer Y                249\n",
       "Accelerometer Z                253\n",
       "Blood volume pulse           47624\n",
       "Electrodermal activity         202\n",
       "Heart rate                    4895\n",
       "Heart beat detection time     2167\n",
       "Heart beat duration             43\n",
       "Temperature                    553\n",
       "dtype: int64"
      ]
     },
     "execution_count": 9,
     "metadata": {},
     "output_type": "execute_result"
    }
   ],
   "source": [
    "student_data_readings_df.nunique()"
   ]
  },
  {
   "cell_type": "markdown",
   "id": "83e3ed42",
   "metadata": {},
   "source": [
    "### Deskriptivna statistika svih mjerenja za svakog od studenata tijekom završnog ispita (Final) i ispis monotonih atributa"
   ]
  },
  {
   "cell_type": "code",
   "execution_count": 10,
   "id": "f1e361ab",
   "metadata": {
    "scrolled": true
   },
   "outputs": [
    {
     "name": "stdout",
     "output_type": "stream",
     "text": [
      "Student S01\n",
      "------------------------------------------------------------------------------------------------------------------------\n"
     ]
    },
    {
     "data": {
      "text/html": [
       "<div>\n",
       "<style scoped>\n",
       "    .dataframe tbody tr th:only-of-type {\n",
       "        vertical-align: middle;\n",
       "    }\n",
       "\n",
       "    .dataframe tbody tr th {\n",
       "        vertical-align: top;\n",
       "    }\n",
       "\n",
       "    .dataframe thead th {\n",
       "        text-align: right;\n",
       "    }\n",
       "</style>\n",
       "<table border=\"1\" class=\"dataframe\">\n",
       "  <thead>\n",
       "    <tr style=\"text-align: right;\">\n",
       "      <th></th>\n",
       "      <th>Accelerometer X</th>\n",
       "      <th>Accelerometer Y</th>\n",
       "      <th>Accelerometer Z</th>\n",
       "      <th>Blood volume pulse</th>\n",
       "      <th>Electrodermal activity</th>\n",
       "      <th>Heart rate</th>\n",
       "      <th>Heart beat detection time</th>\n",
       "      <th>Heart beat duration</th>\n",
       "      <th>Temperature</th>\n",
       "    </tr>\n",
       "  </thead>\n",
       "  <tbody>\n",
       "    <tr>\n",
       "      <th>count</th>\n",
       "      <td>748686.000000</td>\n",
       "      <td>748686.000000</td>\n",
       "      <td>748686.000000</td>\n",
       "      <td>1.497375e+06</td>\n",
       "      <td>93582.000000</td>\n",
       "      <td>23387.000000</td>\n",
       "      <td>2167.000000</td>\n",
       "      <td>2167.000000</td>\n",
       "      <td>93584.000000</td>\n",
       "    </tr>\n",
       "    <tr>\n",
       "      <th>mean</th>\n",
       "      <td>-15.147696</td>\n",
       "      <td>-2.671894</td>\n",
       "      <td>0.865034</td>\n",
       "      <td>2.804909e-04</td>\n",
       "      <td>0.102925</td>\n",
       "      <td>106.121509</td>\n",
       "      <td>6222.101301</td>\n",
       "      <td>0.564451</td>\n",
       "      <td>26.184411</td>\n",
       "    </tr>\n",
       "    <tr>\n",
       "      <th>std</th>\n",
       "      <td>33.683219</td>\n",
       "      <td>30.311671</td>\n",
       "      <td>42.862523</td>\n",
       "      <td>4.479241e+01</td>\n",
       "      <td>0.083391</td>\n",
       "      <td>18.716789</td>\n",
       "      <td>3384.500134</td>\n",
       "      <td>0.080109</td>\n",
       "      <td>3.849641</td>\n",
       "    </tr>\n",
       "    <tr>\n",
       "      <th>min</th>\n",
       "      <td>-128.000000</td>\n",
       "      <td>-128.000000</td>\n",
       "      <td>-128.000000</td>\n",
       "      <td>-1.631490e+03</td>\n",
       "      <td>0.000000</td>\n",
       "      <td>62.280000</td>\n",
       "      <td>85.347657</td>\n",
       "      <td>0.328140</td>\n",
       "      <td>17.190000</td>\n",
       "    </tr>\n",
       "    <tr>\n",
       "      <th>25%</th>\n",
       "      <td>-42.000000</td>\n",
       "      <td>-9.000000</td>\n",
       "      <td>-32.000000</td>\n",
       "      <td>-3.470000e+00</td>\n",
       "      <td>0.025627</td>\n",
       "      <td>91.170000</td>\n",
       "      <td>3640.502580</td>\n",
       "      <td>0.515649</td>\n",
       "      <td>22.810000</td>\n",
       "    </tr>\n",
       "    <tr>\n",
       "      <th>50%</th>\n",
       "      <td>-7.000000</td>\n",
       "      <td>1.000000</td>\n",
       "      <td>-1.000000</td>\n",
       "      <td>2.000000e-02</td>\n",
       "      <td>0.028189</td>\n",
       "      <td>108.280000</td>\n",
       "      <td>6319.648654</td>\n",
       "      <td>0.562526</td>\n",
       "      <td>24.110000</td>\n",
       "    </tr>\n",
       "    <tr>\n",
       "      <th>75%</th>\n",
       "      <td>0.000000</td>\n",
       "      <td>6.000000</td>\n",
       "      <td>40.000000</td>\n",
       "      <td>3.350000e+00</td>\n",
       "      <td>0.189637</td>\n",
       "      <td>118.550000</td>\n",
       "      <td>8750.002090</td>\n",
       "      <td>0.609403</td>\n",
       "      <td>29.950000</td>\n",
       "    </tr>\n",
       "    <tr>\n",
       "      <th>max</th>\n",
       "      <td>127.000000</td>\n",
       "      <td>127.000000</td>\n",
       "      <td>127.000000</td>\n",
       "      <td>2.659680e+03</td>\n",
       "      <td>0.440778</td>\n",
       "      <td>174.850000</td>\n",
       "      <td>20794.217468</td>\n",
       "      <td>1.062549</td>\n",
       "      <td>31.210000</td>\n",
       "    </tr>\n",
       "  </tbody>\n",
       "</table>\n",
       "</div>"
      ],
      "text/plain": [
       "       Accelerometer X  Accelerometer Y  Accelerometer Z  Blood volume pulse  \\\n",
       "count    748686.000000    748686.000000    748686.000000        1.497375e+06   \n",
       "mean        -15.147696        -2.671894         0.865034        2.804909e-04   \n",
       "std          33.683219        30.311671        42.862523        4.479241e+01   \n",
       "min        -128.000000      -128.000000      -128.000000       -1.631490e+03   \n",
       "25%         -42.000000        -9.000000       -32.000000       -3.470000e+00   \n",
       "50%          -7.000000         1.000000        -1.000000        2.000000e-02   \n",
       "75%           0.000000         6.000000        40.000000        3.350000e+00   \n",
       "max         127.000000       127.000000       127.000000        2.659680e+03   \n",
       "\n",
       "       Electrodermal activity    Heart rate  Heart beat detection time  \\\n",
       "count            93582.000000  23387.000000                2167.000000   \n",
       "mean                 0.102925    106.121509                6222.101301   \n",
       "std                  0.083391     18.716789                3384.500134   \n",
       "min                  0.000000     62.280000                  85.347657   \n",
       "25%                  0.025627     91.170000                3640.502580   \n",
       "50%                  0.028189    108.280000                6319.648654   \n",
       "75%                  0.189637    118.550000                8750.002090   \n",
       "max                  0.440778    174.850000               20794.217468   \n",
       "\n",
       "       Heart beat duration   Temperature  \n",
       "count          2167.000000  93584.000000  \n",
       "mean              0.564451     26.184411  \n",
       "std               0.080109      3.849641  \n",
       "min               0.328140     17.190000  \n",
       "25%               0.515649     22.810000  \n",
       "50%               0.562526     24.110000  \n",
       "75%               0.609403     29.950000  \n",
       "max               1.062549     31.210000  "
      ]
     },
     "execution_count": 10,
     "metadata": {},
     "output_type": "execute_result"
    },
    {
     "name": "stdout",
     "output_type": "stream",
     "text": [
      "\n",
      "Monotoni atributi\n"
     ]
    },
    {
     "data": {
      "text/plain": [
       "Accelerometer X                246\n",
       "Accelerometer Y                249\n",
       "Accelerometer Z                253\n",
       "Blood volume pulse           47624\n",
       "Electrodermal activity         202\n",
       "Heart rate                    4895\n",
       "Heart beat detection time     2167\n",
       "Heart beat duration             43\n",
       "Temperature                    553\n",
       "dtype: int64"
      ]
     },
     "execution_count": 10,
     "metadata": {},
     "output_type": "execute_result"
    },
    {
     "name": "stdout",
     "output_type": "stream",
     "text": [
      "\n",
      "Student S02\n",
      "------------------------------------------------------------------------------------------------------------------------\n"
     ]
    },
    {
     "data": {
      "text/html": [
       "<div>\n",
       "<style scoped>\n",
       "    .dataframe tbody tr th:only-of-type {\n",
       "        vertical-align: middle;\n",
       "    }\n",
       "\n",
       "    .dataframe tbody tr th {\n",
       "        vertical-align: top;\n",
       "    }\n",
       "\n",
       "    .dataframe thead th {\n",
       "        text-align: right;\n",
       "    }\n",
       "</style>\n",
       "<table border=\"1\" class=\"dataframe\">\n",
       "  <thead>\n",
       "    <tr style=\"text-align: right;\">\n",
       "      <th></th>\n",
       "      <th>Accelerometer X</th>\n",
       "      <th>Accelerometer Y</th>\n",
       "      <th>Accelerometer Z</th>\n",
       "      <th>Blood volume pulse</th>\n",
       "      <th>Electrodermal activity</th>\n",
       "      <th>Heart rate</th>\n",
       "      <th>Heart beat detection time</th>\n",
       "      <th>Heart beat duration</th>\n",
       "      <th>Temperature</th>\n",
       "    </tr>\n",
       "  </thead>\n",
       "  <tbody>\n",
       "    <tr>\n",
       "      <th>count</th>\n",
       "      <td>810780.000000</td>\n",
       "      <td>810780.000000</td>\n",
       "      <td>810780.000000</td>\n",
       "      <td>1.621554e+06</td>\n",
       "      <td>101346.000000</td>\n",
       "      <td>25327.000000</td>\n",
       "      <td>8401.000000</td>\n",
       "      <td>8401.000000</td>\n",
       "      <td>101344.000000</td>\n",
       "    </tr>\n",
       "    <tr>\n",
       "      <th>mean</th>\n",
       "      <td>-36.306657</td>\n",
       "      <td>-23.115729</td>\n",
       "      <td>4.443100</td>\n",
       "      <td>2.518078e-04</td>\n",
       "      <td>0.078296</td>\n",
       "      <td>119.901866</td>\n",
       "      <td>6416.978701</td>\n",
       "      <td>0.565905</td>\n",
       "      <td>28.182078</td>\n",
       "    </tr>\n",
       "    <tr>\n",
       "      <th>std</th>\n",
       "      <td>23.600241</td>\n",
       "      <td>27.894428</td>\n",
       "      <td>30.623428</td>\n",
       "      <td>6.816824e+01</td>\n",
       "      <td>0.095946</td>\n",
       "      <td>21.711578</td>\n",
       "      <td>3159.749062</td>\n",
       "      <td>0.055988</td>\n",
       "      <td>6.144974</td>\n",
       "    </tr>\n",
       "    <tr>\n",
       "      <th>min</th>\n",
       "      <td>-128.000000</td>\n",
       "      <td>-128.000000</td>\n",
       "      <td>-128.000000</td>\n",
       "      <td>-1.798650e+03</td>\n",
       "      <td>0.000000</td>\n",
       "      <td>69.800000</td>\n",
       "      <td>78.378588</td>\n",
       "      <td>0.328140</td>\n",
       "      <td>17.990000</td>\n",
       "    </tr>\n",
       "    <tr>\n",
       "      <th>25%</th>\n",
       "      <td>-54.000000</td>\n",
       "      <td>-38.000000</td>\n",
       "      <td>-25.000000</td>\n",
       "      <td>-1.157000e+01</td>\n",
       "      <td>0.015376</td>\n",
       "      <td>105.380000</td>\n",
       "      <td>3986.088712</td>\n",
       "      <td>0.531274</td>\n",
       "      <td>23.010000</td>\n",
       "    </tr>\n",
       "    <tr>\n",
       "      <th>50%</th>\n",
       "      <td>-45.000000</td>\n",
       "      <td>-24.000000</td>\n",
       "      <td>4.000000</td>\n",
       "      <td>2.700000e-01</td>\n",
       "      <td>0.016657</td>\n",
       "      <td>114.950000</td>\n",
       "      <td>6267.068122</td>\n",
       "      <td>0.562526</td>\n",
       "      <td>23.770000</td>\n",
       "    </tr>\n",
       "    <tr>\n",
       "      <th>75%</th>\n",
       "      <td>-24.000000</td>\n",
       "      <td>-1.000000</td>\n",
       "      <td>34.000000</td>\n",
       "      <td>1.437000e+01</td>\n",
       "      <td>0.121993</td>\n",
       "      <td>134.380000</td>\n",
       "      <td>8863.733858</td>\n",
       "      <td>0.593777</td>\n",
       "      <td>35.650000</td>\n",
       "    </tr>\n",
       "    <tr>\n",
       "      <th>max</th>\n",
       "      <td>127.000000</td>\n",
       "      <td>127.000000</td>\n",
       "      <td>127.000000</td>\n",
       "      <td>2.823900e+03</td>\n",
       "      <td>0.733188</td>\n",
       "      <td>201.670000</td>\n",
       "      <td>19120.047083</td>\n",
       "      <td>1.062549</td>\n",
       "      <td>36.070000</td>\n",
       "    </tr>\n",
       "  </tbody>\n",
       "</table>\n",
       "</div>"
      ],
      "text/plain": [
       "       Accelerometer X  Accelerometer Y  Accelerometer Z  Blood volume pulse  \\\n",
       "count    810780.000000    810780.000000    810780.000000        1.621554e+06   \n",
       "mean        -36.306657       -23.115729         4.443100        2.518078e-04   \n",
       "std          23.600241        27.894428        30.623428        6.816824e+01   \n",
       "min        -128.000000      -128.000000      -128.000000       -1.798650e+03   \n",
       "25%         -54.000000       -38.000000       -25.000000       -1.157000e+01   \n",
       "50%         -45.000000       -24.000000         4.000000        2.700000e-01   \n",
       "75%         -24.000000        -1.000000        34.000000        1.437000e+01   \n",
       "max         127.000000       127.000000       127.000000        2.823900e+03   \n",
       "\n",
       "       Electrodermal activity    Heart rate  Heart beat detection time  \\\n",
       "count           101346.000000  25327.000000                8401.000000   \n",
       "mean                 0.078296    119.901866                6416.978701   \n",
       "std                  0.095946     21.711578                3159.749062   \n",
       "min                  0.000000     69.800000                  78.378588   \n",
       "25%                  0.015376    105.380000                3986.088712   \n",
       "50%                  0.016657    114.950000                6267.068122   \n",
       "75%                  0.121993    134.380000                8863.733858   \n",
       "max                  0.733188    201.670000               19120.047083   \n",
       "\n",
       "       Heart beat duration    Temperature  \n",
       "count          8401.000000  101344.000000  \n",
       "mean              0.565905      28.182078  \n",
       "std               0.055988       6.144974  \n",
       "min               0.328140      17.990000  \n",
       "25%               0.531274      23.010000  \n",
       "50%               0.562526      23.770000  \n",
       "75%               0.593777      35.650000  \n",
       "max               1.062549      36.070000  "
      ]
     },
     "execution_count": 10,
     "metadata": {},
     "output_type": "execute_result"
    },
    {
     "name": "stdout",
     "output_type": "stream",
     "text": [
      "\n",
      "Monotoni atributi\n"
     ]
    },
    {
     "data": {
      "text/plain": [
       "Accelerometer X                224\n",
       "Accelerometer Y                241\n",
       "Accelerometer Z                248\n",
       "Blood volume pulse           61485\n",
       "Electrodermal activity         814\n",
       "Heart rate                    5695\n",
       "Heart beat detection time     8401\n",
       "Heart beat duration             36\n",
       "Temperature                    677\n",
       "dtype: int64"
      ]
     },
     "execution_count": 10,
     "metadata": {},
     "output_type": "execute_result"
    },
    {
     "name": "stdout",
     "output_type": "stream",
     "text": [
      "\n",
      "Student S03\n",
      "------------------------------------------------------------------------------------------------------------------------\n"
     ]
    },
    {
     "data": {
      "text/html": [
       "<div>\n",
       "<style scoped>\n",
       "    .dataframe tbody tr th:only-of-type {\n",
       "        vertical-align: middle;\n",
       "    }\n",
       "\n",
       "    .dataframe tbody tr th {\n",
       "        vertical-align: top;\n",
       "    }\n",
       "\n",
       "    .dataframe thead th {\n",
       "        text-align: right;\n",
       "    }\n",
       "</style>\n",
       "<table border=\"1\" class=\"dataframe\">\n",
       "  <thead>\n",
       "    <tr style=\"text-align: right;\">\n",
       "      <th></th>\n",
       "      <th>Accelerometer X</th>\n",
       "      <th>Accelerometer Y</th>\n",
       "      <th>Accelerometer Z</th>\n",
       "      <th>Blood volume pulse</th>\n",
       "      <th>Electrodermal activity</th>\n",
       "      <th>Heart rate</th>\n",
       "      <th>Heart beat detection time</th>\n",
       "      <th>Heart beat duration</th>\n",
       "      <th>Temperature</th>\n",
       "    </tr>\n",
       "  </thead>\n",
       "  <tbody>\n",
       "    <tr>\n",
       "      <th>count</th>\n",
       "      <td>826308.000000</td>\n",
       "      <td>826308.000000</td>\n",
       "      <td>826308.000000</td>\n",
       "      <td>1.652607e+06</td>\n",
       "      <td>103284.000000</td>\n",
       "      <td>25812.000000</td>\n",
       "      <td>1079.000000</td>\n",
       "      <td>1079.000000</td>\n",
       "      <td>103288.000000</td>\n",
       "    </tr>\n",
       "    <tr>\n",
       "      <th>mean</th>\n",
       "      <td>-24.089768</td>\n",
       "      <td>-2.895256</td>\n",
       "      <td>-14.130450</td>\n",
       "      <td>5.326433e-04</td>\n",
       "      <td>0.169664</td>\n",
       "      <td>104.510099</td>\n",
       "      <td>5960.842320</td>\n",
       "      <td>0.664592</td>\n",
       "      <td>26.509118</td>\n",
       "    </tr>\n",
       "    <tr>\n",
       "      <th>std</th>\n",
       "      <td>30.544971</td>\n",
       "      <td>20.744420</td>\n",
       "      <td>45.171189</td>\n",
       "      <td>1.229088e+02</td>\n",
       "      <td>0.257327</td>\n",
       "      <td>21.950049</td>\n",
       "      <td>2572.370606</td>\n",
       "      <td>0.072375</td>\n",
       "      <td>4.767461</td>\n",
       "    </tr>\n",
       "    <tr>\n",
       "      <th>min</th>\n",
       "      <td>-128.000000</td>\n",
       "      <td>-128.000000</td>\n",
       "      <td>-128.000000</td>\n",
       "      <td>-2.605580e+03</td>\n",
       "      <td>0.000000</td>\n",
       "      <td>59.300000</td>\n",
       "      <td>30.016999</td>\n",
       "      <td>0.359391</td>\n",
       "      <td>13.890000</td>\n",
       "    </tr>\n",
       "    <tr>\n",
       "      <th>25%</th>\n",
       "      <td>-48.000000</td>\n",
       "      <td>-4.000000</td>\n",
       "      <td>-62.000000</td>\n",
       "      <td>-1.041000e+01</td>\n",
       "      <td>0.000000</td>\n",
       "      <td>85.700000</td>\n",
       "      <td>4476.322089</td>\n",
       "      <td>0.625029</td>\n",
       "      <td>22.630000</td>\n",
       "    </tr>\n",
       "    <tr>\n",
       "      <th>50%</th>\n",
       "      <td>-29.000000</td>\n",
       "      <td>0.000000</td>\n",
       "      <td>-20.000000</td>\n",
       "      <td>1.800000e-01</td>\n",
       "      <td>0.001281</td>\n",
       "      <td>107.520000</td>\n",
       "      <td>5666.790645</td>\n",
       "      <td>0.656280</td>\n",
       "      <td>23.330000</td>\n",
       "    </tr>\n",
       "    <tr>\n",
       "      <th>75%</th>\n",
       "      <td>4.000000</td>\n",
       "      <td>2.000000</td>\n",
       "      <td>25.000000</td>\n",
       "      <td>1.146000e+01</td>\n",
       "      <td>0.256282</td>\n",
       "      <td>120.020000</td>\n",
       "      <td>7361.782295</td>\n",
       "      <td>0.703157</td>\n",
       "      <td>31.790000</td>\n",
       "    </tr>\n",
       "    <tr>\n",
       "      <th>max</th>\n",
       "      <td>127.000000</td>\n",
       "      <td>127.000000</td>\n",
       "      <td>127.000000</td>\n",
       "      <td>2.369200e+03</td>\n",
       "      <td>1.699582</td>\n",
       "      <td>185.920000</td>\n",
       "      <td>13395.019400</td>\n",
       "      <td>1.000046</td>\n",
       "      <td>33.250000</td>\n",
       "    </tr>\n",
       "  </tbody>\n",
       "</table>\n",
       "</div>"
      ],
      "text/plain": [
       "       Accelerometer X  Accelerometer Y  Accelerometer Z  Blood volume pulse  \\\n",
       "count    826308.000000    826308.000000    826308.000000        1.652607e+06   \n",
       "mean        -24.089768        -2.895256       -14.130450        5.326433e-04   \n",
       "std          30.544971        20.744420        45.171189        1.229088e+02   \n",
       "min        -128.000000      -128.000000      -128.000000       -2.605580e+03   \n",
       "25%         -48.000000        -4.000000       -62.000000       -1.041000e+01   \n",
       "50%         -29.000000         0.000000       -20.000000        1.800000e-01   \n",
       "75%           4.000000         2.000000        25.000000        1.146000e+01   \n",
       "max         127.000000       127.000000       127.000000        2.369200e+03   \n",
       "\n",
       "       Electrodermal activity    Heart rate  Heart beat detection time  \\\n",
       "count           103284.000000  25812.000000                1079.000000   \n",
       "mean                 0.169664    104.510099                5960.842320   \n",
       "std                  0.257327     21.950049                2572.370606   \n",
       "min                  0.000000     59.300000                  30.016999   \n",
       "25%                  0.000000     85.700000                4476.322089   \n",
       "50%                  0.001281    107.520000                5666.790645   \n",
       "75%                  0.256282    120.020000                7361.782295   \n",
       "max                  1.699582    185.920000               13395.019400   \n",
       "\n",
       "       Heart beat duration    Temperature  \n",
       "count          1079.000000  103288.000000  \n",
       "mean              0.664592      26.509118  \n",
       "std               0.072375       4.767461  \n",
       "min               0.359391      13.890000  \n",
       "25%               0.625029      22.630000  \n",
       "50%               0.656280      23.330000  \n",
       "75%               0.703157      31.790000  \n",
       "max               1.000046      33.250000  "
      ]
     },
     "execution_count": 10,
     "metadata": {},
     "output_type": "execute_result"
    },
    {
     "name": "stdout",
     "output_type": "stream",
     "text": [
      "\n",
      "Monotoni atributi\n"
     ]
    },
    {
     "data": {
      "text/plain": [
       "Accelerometer X                 256\n",
       "Accelerometer Y                 241\n",
       "Accelerometer Z                 254\n",
       "Blood volume pulse           103713\n",
       "Electrodermal activity         2003\n",
       "Heart rate                     5442\n",
       "Heart beat detection time      1079\n",
       "Heart beat duration              37\n",
       "Temperature                     755\n",
       "dtype: int64"
      ]
     },
     "execution_count": 10,
     "metadata": {},
     "output_type": "execute_result"
    },
    {
     "name": "stdout",
     "output_type": "stream",
     "text": [
      "\n",
      "Student S04\n",
      "------------------------------------------------------------------------------------------------------------------------\n"
     ]
    },
    {
     "data": {
      "text/html": [
       "<div>\n",
       "<style scoped>\n",
       "    .dataframe tbody tr th:only-of-type {\n",
       "        vertical-align: middle;\n",
       "    }\n",
       "\n",
       "    .dataframe tbody tr th {\n",
       "        vertical-align: top;\n",
       "    }\n",
       "\n",
       "    .dataframe thead th {\n",
       "        text-align: right;\n",
       "    }\n",
       "</style>\n",
       "<table border=\"1\" class=\"dataframe\">\n",
       "  <thead>\n",
       "    <tr style=\"text-align: right;\">\n",
       "      <th></th>\n",
       "      <th>Accelerometer X</th>\n",
       "      <th>Accelerometer Y</th>\n",
       "      <th>Accelerometer Z</th>\n",
       "      <th>Blood volume pulse</th>\n",
       "      <th>Electrodermal activity</th>\n",
       "      <th>Heart rate</th>\n",
       "      <th>Heart beat detection time</th>\n",
       "      <th>Heart beat duration</th>\n",
       "      <th>Temperature</th>\n",
       "    </tr>\n",
       "  </thead>\n",
       "  <tbody>\n",
       "    <tr>\n",
       "      <th>count</th>\n",
       "      <td>509334.000000</td>\n",
       "      <td>509334.000000</td>\n",
       "      <td>509334.000000</td>\n",
       "      <td>1.018666e+06</td>\n",
       "      <td>63666.000000</td>\n",
       "      <td>15907.000000</td>\n",
       "      <td>1469.000000</td>\n",
       "      <td>1469.000000</td>\n",
       "      <td>63632.000000</td>\n",
       "    </tr>\n",
       "    <tr>\n",
       "      <th>mean</th>\n",
       "      <td>-32.685057</td>\n",
       "      <td>-16.496611</td>\n",
       "      <td>20.669561</td>\n",
       "      <td>6.338780e-04</td>\n",
       "      <td>0.526248</td>\n",
       "      <td>92.670820</td>\n",
       "      <td>5847.735597</td>\n",
       "      <td>0.804240</td>\n",
       "      <td>28.376879</td>\n",
       "    </tr>\n",
       "    <tr>\n",
       "      <th>std</th>\n",
       "      <td>28.174360</td>\n",
       "      <td>27.876170</td>\n",
       "      <td>29.657369</td>\n",
       "      <td>1.166140e+02</td>\n",
       "      <td>0.612597</td>\n",
       "      <td>25.290137</td>\n",
       "      <td>2740.636688</td>\n",
       "      <td>0.105324</td>\n",
       "      <td>4.664319</td>\n",
       "    </tr>\n",
       "    <tr>\n",
       "      <th>min</th>\n",
       "      <td>-128.000000</td>\n",
       "      <td>-128.000000</td>\n",
       "      <td>-128.000000</td>\n",
       "      <td>-1.459640e+03</td>\n",
       "      <td>0.000000</td>\n",
       "      <td>57.630000</td>\n",
       "      <td>88.566554</td>\n",
       "      <td>0.375017</td>\n",
       "      <td>16.370000</td>\n",
       "    </tr>\n",
       "    <tr>\n",
       "      <th>25%</th>\n",
       "      <td>-55.000000</td>\n",
       "      <td>-30.000000</td>\n",
       "      <td>2.000000</td>\n",
       "      <td>-1.460000e+01</td>\n",
       "      <td>0.000000</td>\n",
       "      <td>75.680000</td>\n",
       "      <td>3996.729823</td>\n",
       "      <td>0.765660</td>\n",
       "      <td>22.590000</td>\n",
       "    </tr>\n",
       "    <tr>\n",
       "      <th>50%</th>\n",
       "      <td>-37.000000</td>\n",
       "      <td>-9.000000</td>\n",
       "      <td>16.000000</td>\n",
       "      <td>2.600000e-01</td>\n",
       "      <td>0.391026</td>\n",
       "      <td>84.300000</td>\n",
       "      <td>5314.321385</td>\n",
       "      <td>0.812537</td>\n",
       "      <td>30.730000</td>\n",
       "    </tr>\n",
       "    <tr>\n",
       "      <th>75%</th>\n",
       "      <td>-17.000000</td>\n",
       "      <td>-3.000000</td>\n",
       "      <td>50.000000</td>\n",
       "      <td>1.622000e+01</td>\n",
       "      <td>0.598576</td>\n",
       "      <td>102.680000</td>\n",
       "      <td>7646.193751</td>\n",
       "      <td>0.859414</td>\n",
       "      <td>31.670000</td>\n",
       "    </tr>\n",
       "    <tr>\n",
       "      <th>max</th>\n",
       "      <td>127.000000</td>\n",
       "      <td>127.000000</td>\n",
       "      <td>127.000000</td>\n",
       "      <td>1.739740e+03</td>\n",
       "      <td>6.570713</td>\n",
       "      <td>193.580000</td>\n",
       "      <td>13718.893599</td>\n",
       "      <td>1.187554</td>\n",
       "      <td>32.430000</td>\n",
       "    </tr>\n",
       "  </tbody>\n",
       "</table>\n",
       "</div>"
      ],
      "text/plain": [
       "       Accelerometer X  Accelerometer Y  Accelerometer Z  Blood volume pulse  \\\n",
       "count    509334.000000    509334.000000    509334.000000        1.018666e+06   \n",
       "mean        -32.685057       -16.496611        20.669561        6.338780e-04   \n",
       "std          28.174360        27.876170        29.657369        1.166140e+02   \n",
       "min        -128.000000      -128.000000      -128.000000       -1.459640e+03   \n",
       "25%         -55.000000       -30.000000         2.000000       -1.460000e+01   \n",
       "50%         -37.000000        -9.000000        16.000000        2.600000e-01   \n",
       "75%         -17.000000        -3.000000        50.000000        1.622000e+01   \n",
       "max         127.000000       127.000000       127.000000        1.739740e+03   \n",
       "\n",
       "       Electrodermal activity    Heart rate  Heart beat detection time  \\\n",
       "count            63666.000000  15907.000000                1469.000000   \n",
       "mean                 0.526248     92.670820                5847.735597   \n",
       "std                  0.612597     25.290137                2740.636688   \n",
       "min                  0.000000     57.630000                  88.566554   \n",
       "25%                  0.000000     75.680000                3996.729823   \n",
       "50%                  0.391026     84.300000                5314.321385   \n",
       "75%                  0.598576    102.680000                7646.193751   \n",
       "max                  6.570713    193.580000               13718.893599   \n",
       "\n",
       "       Heart beat duration   Temperature  \n",
       "count          1469.000000  63632.000000  \n",
       "mean              0.804240     28.376879  \n",
       "std               0.105324      4.664319  \n",
       "min               0.375017     16.370000  \n",
       "25%               0.765660     22.590000  \n",
       "50%               0.812537     30.730000  \n",
       "75%               0.859414     31.670000  \n",
       "max               1.187554     32.430000  "
      ]
     },
     "execution_count": 10,
     "metadata": {},
     "output_type": "execute_result"
    },
    {
     "name": "stdout",
     "output_type": "stream",
     "text": [
      "\n",
      "Monotoni atributi\n"
     ]
    },
    {
     "data": {
      "text/plain": [
       "Accelerometer X                254\n",
       "Accelerometer Y                251\n",
       "Accelerometer Z                239\n",
       "Blood volume pulse           85864\n",
       "Electrodermal activity        3678\n",
       "Heart rate                    4665\n",
       "Heart beat detection time     1469\n",
       "Heart beat duration             50\n",
       "Temperature                    584\n",
       "dtype: int64"
      ]
     },
     "execution_count": 10,
     "metadata": {},
     "output_type": "execute_result"
    },
    {
     "name": "stdout",
     "output_type": "stream",
     "text": [
      "\n",
      "Student S05\n",
      "------------------------------------------------------------------------------------------------------------------------\n"
     ]
    },
    {
     "data": {
      "text/html": [
       "<div>\n",
       "<style scoped>\n",
       "    .dataframe tbody tr th:only-of-type {\n",
       "        vertical-align: middle;\n",
       "    }\n",
       "\n",
       "    .dataframe tbody tr th {\n",
       "        vertical-align: top;\n",
       "    }\n",
       "\n",
       "    .dataframe thead th {\n",
       "        text-align: right;\n",
       "    }\n",
       "</style>\n",
       "<table border=\"1\" class=\"dataframe\">\n",
       "  <thead>\n",
       "    <tr style=\"text-align: right;\">\n",
       "      <th></th>\n",
       "      <th>Accelerometer X</th>\n",
       "      <th>Accelerometer Y</th>\n",
       "      <th>Accelerometer Z</th>\n",
       "      <th>Blood volume pulse</th>\n",
       "      <th>Electrodermal activity</th>\n",
       "      <th>Heart rate</th>\n",
       "      <th>Heart beat detection time</th>\n",
       "      <th>Heart beat duration</th>\n",
       "      <th>Temperature</th>\n",
       "    </tr>\n",
       "  </thead>\n",
       "  <tbody>\n",
       "    <tr>\n",
       "      <th>count</th>\n",
       "      <td>487986.000000</td>\n",
       "      <td>487986.000000</td>\n",
       "      <td>487986.000000</td>\n",
       "      <td>975964.000000</td>\n",
       "      <td>60996.000000</td>\n",
       "      <td>15240.00000</td>\n",
       "      <td>3577.000000</td>\n",
       "      <td>3577.000000</td>\n",
       "      <td>60968.000000</td>\n",
       "    </tr>\n",
       "    <tr>\n",
       "      <th>mean</th>\n",
       "      <td>-34.042692</td>\n",
       "      <td>9.909276</td>\n",
       "      <td>-13.110558</td>\n",
       "      <td>0.001029</td>\n",
       "      <td>0.542024</td>\n",
       "      <td>95.40444</td>\n",
       "      <td>6638.787850</td>\n",
       "      <td>0.611561</td>\n",
       "      <td>30.185718</td>\n",
       "    </tr>\n",
       "    <tr>\n",
       "      <th>std</th>\n",
       "      <td>34.210536</td>\n",
       "      <td>27.719466</td>\n",
       "      <td>29.499983</td>\n",
       "      <td>83.813853</td>\n",
       "      <td>0.352991</td>\n",
       "      <td>14.98944</td>\n",
       "      <td>3417.720511</td>\n",
       "      <td>0.078448</td>\n",
       "      <td>4.906106</td>\n",
       "    </tr>\n",
       "    <tr>\n",
       "      <th>min</th>\n",
       "      <td>-128.000000</td>\n",
       "      <td>-128.000000</td>\n",
       "      <td>-128.000000</td>\n",
       "      <td>-1654.290000</td>\n",
       "      <td>0.000000</td>\n",
       "      <td>56.38000</td>\n",
       "      <td>242.589229</td>\n",
       "      <td>0.343766</td>\n",
       "      <td>17.070000</td>\n",
       "    </tr>\n",
       "    <tr>\n",
       "      <th>25%</th>\n",
       "      <td>-61.000000</td>\n",
       "      <td>-2.000000</td>\n",
       "      <td>-36.000000</td>\n",
       "      <td>-14.170000</td>\n",
       "      <td>0.296165</td>\n",
       "      <td>83.90000</td>\n",
       "      <td>3731.936452</td>\n",
       "      <td>0.562526</td>\n",
       "      <td>28.310000</td>\n",
       "    </tr>\n",
       "    <tr>\n",
       "      <th>50%</th>\n",
       "      <td>-49.000000</td>\n",
       "      <td>6.000000</td>\n",
       "      <td>-14.000000</td>\n",
       "      <td>0.460000</td>\n",
       "      <td>0.629211</td>\n",
       "      <td>95.60000</td>\n",
       "      <td>6175.938949</td>\n",
       "      <td>0.593777</td>\n",
       "      <td>33.050000</td>\n",
       "    </tr>\n",
       "    <tr>\n",
       "      <th>75%</th>\n",
       "      <td>-13.000000</td>\n",
       "      <td>21.000000</td>\n",
       "      <td>12.000000</td>\n",
       "      <td>14.310000</td>\n",
       "      <td>0.770184</td>\n",
       "      <td>104.97000</td>\n",
       "      <td>9814.980523</td>\n",
       "      <td>0.640654</td>\n",
       "      <td>33.330000</td>\n",
       "    </tr>\n",
       "    <tr>\n",
       "      <th>max</th>\n",
       "      <td>127.000000</td>\n",
       "      <td>127.000000</td>\n",
       "      <td>127.000000</td>\n",
       "      <td>3975.750000</td>\n",
       "      <td>3.671499</td>\n",
       "      <td>139.68000</td>\n",
       "      <td>13575.012011</td>\n",
       "      <td>1.765706</td>\n",
       "      <td>34.000000</td>\n",
       "    </tr>\n",
       "  </tbody>\n",
       "</table>\n",
       "</div>"
      ],
      "text/plain": [
       "       Accelerometer X  Accelerometer Y  Accelerometer Z  Blood volume pulse  \\\n",
       "count    487986.000000    487986.000000    487986.000000       975964.000000   \n",
       "mean        -34.042692         9.909276       -13.110558            0.001029   \n",
       "std          34.210536        27.719466        29.499983           83.813853   \n",
       "min        -128.000000      -128.000000      -128.000000        -1654.290000   \n",
       "25%         -61.000000        -2.000000       -36.000000          -14.170000   \n",
       "50%         -49.000000         6.000000       -14.000000            0.460000   \n",
       "75%         -13.000000        21.000000        12.000000           14.310000   \n",
       "max         127.000000       127.000000       127.000000         3975.750000   \n",
       "\n",
       "       Electrodermal activity   Heart rate  Heart beat detection time  \\\n",
       "count            60996.000000  15240.00000                3577.000000   \n",
       "mean                 0.542024     95.40444                6638.787850   \n",
       "std                  0.352991     14.98944                3417.720511   \n",
       "min                  0.000000     56.38000                 242.589229   \n",
       "25%                  0.296165     83.90000                3731.936452   \n",
       "50%                  0.629211     95.60000                6175.938949   \n",
       "75%                  0.770184    104.97000                9814.980523   \n",
       "max                  3.671499    139.68000               13575.012011   \n",
       "\n",
       "       Heart beat duration   Temperature  \n",
       "count          3577.000000  60968.000000  \n",
       "mean              0.611561     30.185718  \n",
       "std               0.078448      4.906106  \n",
       "min               0.343766     17.070000  \n",
       "25%               0.562526     28.310000  \n",
       "50%               0.593777     33.050000  \n",
       "75%               0.640654     33.330000  \n",
       "max               1.765706     34.000000  "
      ]
     },
     "execution_count": 10,
     "metadata": {},
     "output_type": "execute_result"
    },
    {
     "name": "stdout",
     "output_type": "stream",
     "text": [
      "\n",
      "Monotoni atributi\n"
     ]
    },
    {
     "data": {
      "text/plain": [
       "Accelerometer X                256\n",
       "Accelerometer Y                238\n",
       "Accelerometer Z                237\n",
       "Blood volume pulse           64534\n",
       "Electrodermal activity        2090\n",
       "Heart rate                    3787\n",
       "Heart beat detection time     3577\n",
       "Heart beat duration             45\n",
       "Temperature                    697\n",
       "dtype: int64"
      ]
     },
     "execution_count": 10,
     "metadata": {},
     "output_type": "execute_result"
    },
    {
     "name": "stdout",
     "output_type": "stream",
     "text": [
      "\n",
      "Student S06\n",
      "------------------------------------------------------------------------------------------------------------------------\n"
     ]
    },
    {
     "data": {
      "text/html": [
       "<div>\n",
       "<style scoped>\n",
       "    .dataframe tbody tr th:only-of-type {\n",
       "        vertical-align: middle;\n",
       "    }\n",
       "\n",
       "    .dataframe tbody tr th {\n",
       "        vertical-align: top;\n",
       "    }\n",
       "\n",
       "    .dataframe thead th {\n",
       "        text-align: right;\n",
       "    }\n",
       "</style>\n",
       "<table border=\"1\" class=\"dataframe\">\n",
       "  <thead>\n",
       "    <tr style=\"text-align: right;\">\n",
       "      <th></th>\n",
       "      <th>Accelerometer X</th>\n",
       "      <th>Accelerometer Y</th>\n",
       "      <th>Accelerometer Z</th>\n",
       "      <th>Blood volume pulse</th>\n",
       "      <th>Electrodermal activity</th>\n",
       "      <th>Heart rate</th>\n",
       "      <th>Heart beat detection time</th>\n",
       "      <th>Heart beat duration</th>\n",
       "      <th>Temperature</th>\n",
       "    </tr>\n",
       "  </thead>\n",
       "  <tbody>\n",
       "    <tr>\n",
       "      <th>count</th>\n",
       "      <td>765486.000000</td>\n",
       "      <td>765486.000000</td>\n",
       "      <td>765486.000000</td>\n",
       "      <td>1.530969e+06</td>\n",
       "      <td>95682.000000</td>\n",
       "      <td>23912.000000</td>\n",
       "      <td>4425.000000</td>\n",
       "      <td>4425.000000</td>\n",
       "      <td>95656.000000</td>\n",
       "    </tr>\n",
       "    <tr>\n",
       "      <th>mean</th>\n",
       "      <td>-25.022974</td>\n",
       "      <td>4.413340</td>\n",
       "      <td>6.084494</td>\n",
       "      <td>6.259892e-04</td>\n",
       "      <td>0.129721</td>\n",
       "      <td>103.860285</td>\n",
       "      <td>6699.285364</td>\n",
       "      <td>0.811979</td>\n",
       "      <td>27.047806</td>\n",
       "    </tr>\n",
       "    <tr>\n",
       "      <th>std</th>\n",
       "      <td>24.743804</td>\n",
       "      <td>42.434755</td>\n",
       "      <td>32.612814</td>\n",
       "      <td>4.201078e+01</td>\n",
       "      <td>0.188652</td>\n",
       "      <td>31.561675</td>\n",
       "      <td>3605.819451</td>\n",
       "      <td>0.129421</td>\n",
       "      <td>4.920455</td>\n",
       "    </tr>\n",
       "    <tr>\n",
       "      <th>min</th>\n",
       "      <td>-128.000000</td>\n",
       "      <td>-128.000000</td>\n",
       "      <td>-128.000000</td>\n",
       "      <td>-1.198990e+03</td>\n",
       "      <td>0.000000</td>\n",
       "      <td>56.900000</td>\n",
       "      <td>77.816062</td>\n",
       "      <td>0.312514</td>\n",
       "      <td>16.310000</td>\n",
       "    </tr>\n",
       "    <tr>\n",
       "      <th>25%</th>\n",
       "      <td>-48.000000</td>\n",
       "      <td>-36.000000</td>\n",
       "      <td>-23.000000</td>\n",
       "      <td>-8.540000e+00</td>\n",
       "      <td>0.000000</td>\n",
       "      <td>74.870000</td>\n",
       "      <td>4161.284232</td>\n",
       "      <td>0.750034</td>\n",
       "      <td>22.750000</td>\n",
       "    </tr>\n",
       "    <tr>\n",
       "      <th>50%</th>\n",
       "      <td>-24.000000</td>\n",
       "      <td>4.000000</td>\n",
       "      <td>4.000000</td>\n",
       "      <td>5.900000e-01</td>\n",
       "      <td>0.002562</td>\n",
       "      <td>97.270000</td>\n",
       "      <td>6574.285311</td>\n",
       "      <td>0.828163</td>\n",
       "      <td>23.750000</td>\n",
       "    </tr>\n",
       "    <tr>\n",
       "      <th>75%</th>\n",
       "      <td>-5.000000</td>\n",
       "      <td>41.000000</td>\n",
       "      <td>27.000000</td>\n",
       "      <td>1.047000e+01</td>\n",
       "      <td>0.211648</td>\n",
       "      <td>126.880000</td>\n",
       "      <td>9057.727113</td>\n",
       "      <td>0.906291</td>\n",
       "      <td>32.250000</td>\n",
       "    </tr>\n",
       "    <tr>\n",
       "      <th>max</th>\n",
       "      <td>127.000000</td>\n",
       "      <td>127.000000</td>\n",
       "      <td>127.000000</td>\n",
       "      <td>1.352690e+03</td>\n",
       "      <td>3.559353</td>\n",
       "      <td>198.700000</td>\n",
       "      <td>23488.528297</td>\n",
       "      <td>1.203180</td>\n",
       "      <td>33.450000</td>\n",
       "    </tr>\n",
       "  </tbody>\n",
       "</table>\n",
       "</div>"
      ],
      "text/plain": [
       "       Accelerometer X  Accelerometer Y  Accelerometer Z  Blood volume pulse  \\\n",
       "count    765486.000000    765486.000000    765486.000000        1.530969e+06   \n",
       "mean        -25.022974         4.413340         6.084494        6.259892e-04   \n",
       "std          24.743804        42.434755        32.612814        4.201078e+01   \n",
       "min        -128.000000      -128.000000      -128.000000       -1.198990e+03   \n",
       "25%         -48.000000       -36.000000       -23.000000       -8.540000e+00   \n",
       "50%         -24.000000         4.000000         4.000000        5.900000e-01   \n",
       "75%          -5.000000        41.000000        27.000000        1.047000e+01   \n",
       "max         127.000000       127.000000       127.000000        1.352690e+03   \n",
       "\n",
       "       Electrodermal activity    Heart rate  Heart beat detection time  \\\n",
       "count            95682.000000  23912.000000                4425.000000   \n",
       "mean                 0.129721    103.860285                6699.285364   \n",
       "std                  0.188652     31.561675                3605.819451   \n",
       "min                  0.000000     56.900000                  77.816062   \n",
       "25%                  0.000000     74.870000                4161.284232   \n",
       "50%                  0.002562     97.270000                6574.285311   \n",
       "75%                  0.211648    126.880000                9057.727113   \n",
       "max                  3.559353    198.700000               23488.528297   \n",
       "\n",
       "       Heart beat duration   Temperature  \n",
       "count          4425.000000  95656.000000  \n",
       "mean              0.811979     27.047806  \n",
       "std               0.129421      4.920455  \n",
       "min               0.312514     16.310000  \n",
       "25%               0.750034     22.750000  \n",
       "50%               0.828163     23.750000  \n",
       "75%               0.906291     32.250000  \n",
       "max               1.203180     33.450000  "
      ]
     },
     "execution_count": 10,
     "metadata": {},
     "output_type": "execute_result"
    },
    {
     "name": "stdout",
     "output_type": "stream",
     "text": [
      "\n",
      "Monotoni atributi\n"
     ]
    },
    {
     "data": {
      "text/plain": [
       "Accelerometer X                256\n",
       "Accelerometer Y                250\n",
       "Accelerometer Z                253\n",
       "Blood volume pulse           44359\n",
       "Electrodermal activity        1688\n",
       "Heart rate                    6419\n",
       "Heart beat detection time     4425\n",
       "Heart beat duration             56\n",
       "Temperature                    619\n",
       "dtype: int64"
      ]
     },
     "execution_count": 10,
     "metadata": {},
     "output_type": "execute_result"
    },
    {
     "name": "stdout",
     "output_type": "stream",
     "text": [
      "\n",
      "Student S07\n",
      "------------------------------------------------------------------------------------------------------------------------\n"
     ]
    },
    {
     "data": {
      "text/html": [
       "<div>\n",
       "<style scoped>\n",
       "    .dataframe tbody tr th:only-of-type {\n",
       "        vertical-align: middle;\n",
       "    }\n",
       "\n",
       "    .dataframe tbody tr th {\n",
       "        vertical-align: top;\n",
       "    }\n",
       "\n",
       "    .dataframe thead th {\n",
       "        text-align: right;\n",
       "    }\n",
       "</style>\n",
       "<table border=\"1\" class=\"dataframe\">\n",
       "  <thead>\n",
       "    <tr style=\"text-align: right;\">\n",
       "      <th></th>\n",
       "      <th>Accelerometer X</th>\n",
       "      <th>Accelerometer Y</th>\n",
       "      <th>Accelerometer Z</th>\n",
       "      <th>Blood volume pulse</th>\n",
       "      <th>Electrodermal activity</th>\n",
       "      <th>Heart rate</th>\n",
       "      <th>Heart beat detection time</th>\n",
       "      <th>Heart beat duration</th>\n",
       "      <th>Temperature</th>\n",
       "    </tr>\n",
       "  </thead>\n",
       "  <tbody>\n",
       "    <tr>\n",
       "      <th>count</th>\n",
       "      <td>628770.000000</td>\n",
       "      <td>628770.000000</td>\n",
       "      <td>628770.000000</td>\n",
       "      <td>1.257531e+06</td>\n",
       "      <td>78594.000000</td>\n",
       "      <td>19639.000000</td>\n",
       "      <td>1079.000000</td>\n",
       "      <td>1079.000000</td>\n",
       "      <td>78592.000000</td>\n",
       "    </tr>\n",
       "    <tr>\n",
       "      <th>mean</th>\n",
       "      <td>15.516085</td>\n",
       "      <td>-11.749554</td>\n",
       "      <td>17.178180</td>\n",
       "      <td>7.275288e-04</td>\n",
       "      <td>0.212143</td>\n",
       "      <td>101.228184</td>\n",
       "      <td>5486.796769</td>\n",
       "      <td>0.678683</td>\n",
       "      <td>25.964929</td>\n",
       "    </tr>\n",
       "    <tr>\n",
       "      <th>std</th>\n",
       "      <td>27.079422</td>\n",
       "      <td>41.284018</td>\n",
       "      <td>30.102024</td>\n",
       "      <td>7.994443e+01</td>\n",
       "      <td>0.343604</td>\n",
       "      <td>24.397774</td>\n",
       "      <td>3747.750720</td>\n",
       "      <td>0.132712</td>\n",
       "      <td>3.335100</td>\n",
       "    </tr>\n",
       "    <tr>\n",
       "      <th>min</th>\n",
       "      <td>-128.000000</td>\n",
       "      <td>-128.000000</td>\n",
       "      <td>-128.000000</td>\n",
       "      <td>-1.824590e+03</td>\n",
       "      <td>0.000000</td>\n",
       "      <td>54.880000</td>\n",
       "      <td>77.441045</td>\n",
       "      <td>0.328140</td>\n",
       "      <td>16.310000</td>\n",
       "    </tr>\n",
       "    <tr>\n",
       "      <th>25%</th>\n",
       "      <td>2.000000</td>\n",
       "      <td>-62.000000</td>\n",
       "      <td>7.000000</td>\n",
       "      <td>-6.270000e+00</td>\n",
       "      <td>0.000000</td>\n",
       "      <td>79.700000</td>\n",
       "      <td>2230.906805</td>\n",
       "      <td>0.625029</td>\n",
       "      <td>23.230000</td>\n",
       "    </tr>\n",
       "    <tr>\n",
       "      <th>50%</th>\n",
       "      <td>4.000000</td>\n",
       "      <td>-5.000000</td>\n",
       "      <td>11.000000</td>\n",
       "      <td>1.700000e-01</td>\n",
       "      <td>0.023056</td>\n",
       "      <td>96.080000</td>\n",
       "      <td>5827.673006</td>\n",
       "      <td>0.703157</td>\n",
       "      <td>27.610000</td>\n",
       "    </tr>\n",
       "    <tr>\n",
       "      <th>75%</th>\n",
       "      <td>33.000000</td>\n",
       "      <td>8.000000</td>\n",
       "      <td>41.000000</td>\n",
       "      <td>7.240000e+00</td>\n",
       "      <td>0.382980</td>\n",
       "      <td>122.630000</td>\n",
       "      <td>8433.862616</td>\n",
       "      <td>0.765660</td>\n",
       "      <td>28.370000</td>\n",
       "    </tr>\n",
       "    <tr>\n",
       "      <th>max</th>\n",
       "      <td>127.000000</td>\n",
       "      <td>127.000000</td>\n",
       "      <td>127.000000</td>\n",
       "      <td>4.458490e+03</td>\n",
       "      <td>1.706552</td>\n",
       "      <td>167.080000</td>\n",
       "      <td>13483.773458</td>\n",
       "      <td>1.296934</td>\n",
       "      <td>30.210000</td>\n",
       "    </tr>\n",
       "  </tbody>\n",
       "</table>\n",
       "</div>"
      ],
      "text/plain": [
       "       Accelerometer X  Accelerometer Y  Accelerometer Z  Blood volume pulse  \\\n",
       "count    628770.000000    628770.000000    628770.000000        1.257531e+06   \n",
       "mean         15.516085       -11.749554        17.178180        7.275288e-04   \n",
       "std          27.079422        41.284018        30.102024        7.994443e+01   \n",
       "min        -128.000000      -128.000000      -128.000000       -1.824590e+03   \n",
       "25%           2.000000       -62.000000         7.000000       -6.270000e+00   \n",
       "50%           4.000000        -5.000000        11.000000        1.700000e-01   \n",
       "75%          33.000000         8.000000        41.000000        7.240000e+00   \n",
       "max         127.000000       127.000000       127.000000        4.458490e+03   \n",
       "\n",
       "       Electrodermal activity    Heart rate  Heart beat detection time  \\\n",
       "count            78594.000000  19639.000000                1079.000000   \n",
       "mean                 0.212143    101.228184                5486.796769   \n",
       "std                  0.343604     24.397774                3747.750720   \n",
       "min                  0.000000     54.880000                  77.441045   \n",
       "25%                  0.000000     79.700000                2230.906805   \n",
       "50%                  0.023056     96.080000                5827.673006   \n",
       "75%                  0.382980    122.630000                8433.862616   \n",
       "max                  1.706552    167.080000               13483.773458   \n",
       "\n",
       "       Heart beat duration   Temperature  \n",
       "count          1079.000000  78592.000000  \n",
       "mean              0.678683     25.964929  \n",
       "std               0.132712      3.335100  \n",
       "min               0.328140     16.310000  \n",
       "25%               0.625029     23.230000  \n",
       "50%               0.703157     27.610000  \n",
       "75%               0.765660     28.370000  \n",
       "max               1.296934     30.210000  "
      ]
     },
     "execution_count": 10,
     "metadata": {},
     "output_type": "execute_result"
    },
    {
     "name": "stdout",
     "output_type": "stream",
     "text": [
      "\n",
      "Monotoni atributi\n"
     ]
    },
    {
     "data": {
      "text/plain": [
       "Accelerometer X                249\n",
       "Accelerometer Y                238\n",
       "Accelerometer Z                239\n",
       "Blood volume pulse           69162\n",
       "Electrodermal activity        2355\n",
       "Heart rate                    5271\n",
       "Heart beat detection time     1079\n",
       "Heart beat duration             47\n",
       "Temperature                    555\n",
       "dtype: int64"
      ]
     },
     "execution_count": 10,
     "metadata": {},
     "output_type": "execute_result"
    },
    {
     "name": "stdout",
     "output_type": "stream",
     "text": [
      "\n",
      "Student S08\n",
      "------------------------------------------------------------------------------------------------------------------------\n"
     ]
    },
    {
     "data": {
      "text/html": [
       "<div>\n",
       "<style scoped>\n",
       "    .dataframe tbody tr th:only-of-type {\n",
       "        vertical-align: middle;\n",
       "    }\n",
       "\n",
       "    .dataframe tbody tr th {\n",
       "        vertical-align: top;\n",
       "    }\n",
       "\n",
       "    .dataframe thead th {\n",
       "        text-align: right;\n",
       "    }\n",
       "</style>\n",
       "<table border=\"1\" class=\"dataframe\">\n",
       "  <thead>\n",
       "    <tr style=\"text-align: right;\">\n",
       "      <th></th>\n",
       "      <th>Accelerometer X</th>\n",
       "      <th>Accelerometer Y</th>\n",
       "      <th>Accelerometer Z</th>\n",
       "      <th>Blood volume pulse</th>\n",
       "      <th>Electrodermal activity</th>\n",
       "      <th>Heart rate</th>\n",
       "      <th>Heart beat detection time</th>\n",
       "      <th>Heart beat duration</th>\n",
       "      <th>Temperature</th>\n",
       "    </tr>\n",
       "  </thead>\n",
       "  <tbody>\n",
       "    <tr>\n",
       "      <th>count</th>\n",
       "      <td>572694.000000</td>\n",
       "      <td>572694.000000</td>\n",
       "      <td>572694.000000</td>\n",
       "      <td>1.145397e+06</td>\n",
       "      <td>71586.000000</td>\n",
       "      <td>17887.000000</td>\n",
       "      <td>239.000000</td>\n",
       "      <td>239.000000</td>\n",
       "      <td>71584.000000</td>\n",
       "    </tr>\n",
       "    <tr>\n",
       "      <th>mean</th>\n",
       "      <td>-34.029859</td>\n",
       "      <td>4.203412</td>\n",
       "      <td>-2.059396</td>\n",
       "      <td>7.341821e-04</td>\n",
       "      <td>0.534199</td>\n",
       "      <td>102.171506</td>\n",
       "      <td>7038.741846</td>\n",
       "      <td>0.606984</td>\n",
       "      <td>29.274745</td>\n",
       "    </tr>\n",
       "    <tr>\n",
       "      <th>std</th>\n",
       "      <td>25.763138</td>\n",
       "      <td>24.727806</td>\n",
       "      <td>42.908317</td>\n",
       "      <td>1.049980e+02</td>\n",
       "      <td>0.565413</td>\n",
       "      <td>26.968849</td>\n",
       "      <td>3965.536306</td>\n",
       "      <td>0.114249</td>\n",
       "      <td>5.138994</td>\n",
       "    </tr>\n",
       "    <tr>\n",
       "      <th>min</th>\n",
       "      <td>-128.000000</td>\n",
       "      <td>-128.000000</td>\n",
       "      <td>-128.000000</td>\n",
       "      <td>-2.340470e+03</td>\n",
       "      <td>0.000000</td>\n",
       "      <td>56.370000</td>\n",
       "      <td>19.672776</td>\n",
       "      <td>0.343766</td>\n",
       "      <td>16.830000</td>\n",
       "    </tr>\n",
       "    <tr>\n",
       "      <th>25%</th>\n",
       "      <td>-56.000000</td>\n",
       "      <td>-8.000000</td>\n",
       "      <td>-54.000000</td>\n",
       "      <td>-1.744000e+01</td>\n",
       "      <td>0.005126</td>\n",
       "      <td>80.420000</td>\n",
       "      <td>5110.132351</td>\n",
       "      <td>0.546900</td>\n",
       "      <td>23.650000</td>\n",
       "    </tr>\n",
       "    <tr>\n",
       "      <th>50%</th>\n",
       "      <td>-40.000000</td>\n",
       "      <td>1.000000</td>\n",
       "      <td>6.000000</td>\n",
       "      <td>3.100000e-01</td>\n",
       "      <td>0.453646</td>\n",
       "      <td>93.230000</td>\n",
       "      <td>9252.298517</td>\n",
       "      <td>0.609403</td>\n",
       "      <td>32.250000</td>\n",
       "    </tr>\n",
       "    <tr>\n",
       "      <th>75%</th>\n",
       "      <td>-12.000000</td>\n",
       "      <td>9.000000</td>\n",
       "      <td>36.000000</td>\n",
       "      <td>2.219000e+01</td>\n",
       "      <td>0.857581</td>\n",
       "      <td>125.770000</td>\n",
       "      <td>9900.750076</td>\n",
       "      <td>0.687531</td>\n",
       "      <td>33.550000</td>\n",
       "    </tr>\n",
       "    <tr>\n",
       "      <th>max</th>\n",
       "      <td>127.000000</td>\n",
       "      <td>127.000000</td>\n",
       "      <td>127.000000</td>\n",
       "      <td>1.783500e+03</td>\n",
       "      <td>3.789544</td>\n",
       "      <td>175.930000</td>\n",
       "      <td>13067.207518</td>\n",
       "      <td>0.953169</td>\n",
       "      <td>34.790000</td>\n",
       "    </tr>\n",
       "  </tbody>\n",
       "</table>\n",
       "</div>"
      ],
      "text/plain": [
       "       Accelerometer X  Accelerometer Y  Accelerometer Z  Blood volume pulse  \\\n",
       "count    572694.000000    572694.000000    572694.000000        1.145397e+06   \n",
       "mean        -34.029859         4.203412        -2.059396        7.341821e-04   \n",
       "std          25.763138        24.727806        42.908317        1.049980e+02   \n",
       "min        -128.000000      -128.000000      -128.000000       -2.340470e+03   \n",
       "25%         -56.000000        -8.000000       -54.000000       -1.744000e+01   \n",
       "50%         -40.000000         1.000000         6.000000        3.100000e-01   \n",
       "75%         -12.000000         9.000000        36.000000        2.219000e+01   \n",
       "max         127.000000       127.000000       127.000000        1.783500e+03   \n",
       "\n",
       "       Electrodermal activity    Heart rate  Heart beat detection time  \\\n",
       "count            71586.000000  17887.000000                 239.000000   \n",
       "mean                 0.534199    102.171506                7038.741846   \n",
       "std                  0.565413     26.968849                3965.536306   \n",
       "min                  0.000000     56.370000                  19.672776   \n",
       "25%                  0.005126     80.420000                5110.132351   \n",
       "50%                  0.453646     93.230000                9252.298517   \n",
       "75%                  0.857581    125.770000                9900.750076   \n",
       "max                  3.789544    175.930000               13067.207518   \n",
       "\n",
       "       Heart beat duration   Temperature  \n",
       "count           239.000000  71584.000000  \n",
       "mean              0.606984     29.274745  \n",
       "std               0.114249      5.138994  \n",
       "min               0.343766     16.830000  \n",
       "25%               0.546900     23.650000  \n",
       "50%               0.609403     32.250000  \n",
       "75%               0.687531     33.550000  \n",
       "max               0.953169     34.790000  "
      ]
     },
     "execution_count": 10,
     "metadata": {},
     "output_type": "execute_result"
    },
    {
     "name": "stdout",
     "output_type": "stream",
     "text": [
      "\n",
      "Monotoni atributi\n"
     ]
    },
    {
     "data": {
      "text/plain": [
       "Accelerometer X                248\n",
       "Accelerometer Y                248\n",
       "Accelerometer Z                256\n",
       "Blood volume pulse           80255\n",
       "Electrodermal activity        4346\n",
       "Heart rate                    5594\n",
       "Heart beat detection time      239\n",
       "Heart beat duration             36\n",
       "Temperature                    681\n",
       "dtype: int64"
      ]
     },
     "execution_count": 10,
     "metadata": {},
     "output_type": "execute_result"
    },
    {
     "name": "stdout",
     "output_type": "stream",
     "text": [
      "\n",
      "Student S09\n",
      "------------------------------------------------------------------------------------------------------------------------\n"
     ]
    },
    {
     "data": {
      "text/html": [
       "<div>\n",
       "<style scoped>\n",
       "    .dataframe tbody tr th:only-of-type {\n",
       "        vertical-align: middle;\n",
       "    }\n",
       "\n",
       "    .dataframe tbody tr th {\n",
       "        vertical-align: top;\n",
       "    }\n",
       "\n",
       "    .dataframe thead th {\n",
       "        text-align: right;\n",
       "    }\n",
       "</style>\n",
       "<table border=\"1\" class=\"dataframe\">\n",
       "  <thead>\n",
       "    <tr style=\"text-align: right;\">\n",
       "      <th></th>\n",
       "      <th>Accelerometer X</th>\n",
       "      <th>Accelerometer Y</th>\n",
       "      <th>Accelerometer Z</th>\n",
       "      <th>Blood volume pulse</th>\n",
       "      <th>Electrodermal activity</th>\n",
       "      <th>Heart rate</th>\n",
       "      <th>Heart beat detection time</th>\n",
       "      <th>Heart beat duration</th>\n",
       "      <th>Temperature</th>\n",
       "    </tr>\n",
       "  </thead>\n",
       "  <tbody>\n",
       "    <tr>\n",
       "      <th>count</th>\n",
       "      <td>454602.000000</td>\n",
       "      <td>454602.000000</td>\n",
       "      <td>454602.000000</td>\n",
       "      <td>909205.000000</td>\n",
       "      <td>56826.000000</td>\n",
       "      <td>14197.000000</td>\n",
       "      <td>3337.000000</td>\n",
       "      <td>3337.000000</td>\n",
       "      <td>56824.000000</td>\n",
       "    </tr>\n",
       "    <tr>\n",
       "      <th>mean</th>\n",
       "      <td>-43.029309</td>\n",
       "      <td>-12.382539</td>\n",
       "      <td>13.158235</td>\n",
       "      <td>0.001297</td>\n",
       "      <td>0.401226</td>\n",
       "      <td>86.703446</td>\n",
       "      <td>5615.324249</td>\n",
       "      <td>0.729651</td>\n",
       "      <td>30.808438</td>\n",
       "    </tr>\n",
       "    <tr>\n",
       "      <th>std</th>\n",
       "      <td>26.221102</td>\n",
       "      <td>21.746958</td>\n",
       "      <td>31.583604</td>\n",
       "      <td>68.908451</td>\n",
       "      <td>0.274870</td>\n",
       "      <td>14.053058</td>\n",
       "      <td>2893.621762</td>\n",
       "      <td>0.093316</td>\n",
       "      <td>5.529113</td>\n",
       "    </tr>\n",
       "    <tr>\n",
       "      <th>min</th>\n",
       "      <td>-128.000000</td>\n",
       "      <td>-128.000000</td>\n",
       "      <td>-128.000000</td>\n",
       "      <td>-1962.360000</td>\n",
       "      <td>0.000000</td>\n",
       "      <td>56.750000</td>\n",
       "      <td>80.644317</td>\n",
       "      <td>0.328140</td>\n",
       "      <td>17.460000</td>\n",
       "    </tr>\n",
       "    <tr>\n",
       "      <th>25%</th>\n",
       "      <td>-59.000000</td>\n",
       "      <td>-17.000000</td>\n",
       "      <td>-16.000000</td>\n",
       "      <td>-20.210000</td>\n",
       "      <td>0.029471</td>\n",
       "      <td>77.950000</td>\n",
       "      <td>3300.432325</td>\n",
       "      <td>0.687531</td>\n",
       "      <td>32.150000</td>\n",
       "    </tr>\n",
       "    <tr>\n",
       "      <th>50%</th>\n",
       "      <td>-51.000000</td>\n",
       "      <td>-4.000000</td>\n",
       "      <td>21.000000</td>\n",
       "      <td>1.040000</td>\n",
       "      <td>0.526627</td>\n",
       "      <td>82.800000</td>\n",
       "      <td>5054.528243</td>\n",
       "      <td>0.734409</td>\n",
       "      <td>33.710000</td>\n",
       "    </tr>\n",
       "    <tr>\n",
       "      <th>75%</th>\n",
       "      <td>-40.000000</td>\n",
       "      <td>0.000000</td>\n",
       "      <td>41.000000</td>\n",
       "      <td>22.290000</td>\n",
       "      <td>0.625290</td>\n",
       "      <td>90.220000</td>\n",
       "      <td>7835.327408</td>\n",
       "      <td>0.781286</td>\n",
       "      <td>34.160000</td>\n",
       "    </tr>\n",
       "    <tr>\n",
       "      <th>max</th>\n",
       "      <td>127.000000</td>\n",
       "      <td>127.000000</td>\n",
       "      <td>127.000000</td>\n",
       "      <td>2123.290000</td>\n",
       "      <td>1.680260</td>\n",
       "      <td>164.550000</td>\n",
       "      <td>13661.859740</td>\n",
       "      <td>1.406314</td>\n",
       "      <td>34.660000</td>\n",
       "    </tr>\n",
       "  </tbody>\n",
       "</table>\n",
       "</div>"
      ],
      "text/plain": [
       "       Accelerometer X  Accelerometer Y  Accelerometer Z  Blood volume pulse  \\\n",
       "count    454602.000000    454602.000000    454602.000000       909205.000000   \n",
       "mean        -43.029309       -12.382539        13.158235            0.001297   \n",
       "std          26.221102        21.746958        31.583604           68.908451   \n",
       "min        -128.000000      -128.000000      -128.000000        -1962.360000   \n",
       "25%         -59.000000       -17.000000       -16.000000          -20.210000   \n",
       "50%         -51.000000        -4.000000        21.000000            1.040000   \n",
       "75%         -40.000000         0.000000        41.000000           22.290000   \n",
       "max         127.000000       127.000000       127.000000         2123.290000   \n",
       "\n",
       "       Electrodermal activity    Heart rate  Heart beat detection time  \\\n",
       "count            56826.000000  14197.000000                3337.000000   \n",
       "mean                 0.401226     86.703446                5615.324249   \n",
       "std                  0.274870     14.053058                2893.621762   \n",
       "min                  0.000000     56.750000                  80.644317   \n",
       "25%                  0.029471     77.950000                3300.432325   \n",
       "50%                  0.526627     82.800000                5054.528243   \n",
       "75%                  0.625290     90.220000                7835.327408   \n",
       "max                  1.680260    164.550000               13661.859740   \n",
       "\n",
       "       Heart beat duration   Temperature  \n",
       "count          3337.000000  56824.000000  \n",
       "mean              0.729651     30.808438  \n",
       "std               0.093316      5.529113  \n",
       "min               0.328140     17.460000  \n",
       "25%               0.687531     32.150000  \n",
       "50%               0.734409     33.710000  \n",
       "75%               0.781286     34.160000  \n",
       "max               1.406314     34.660000  "
      ]
     },
     "execution_count": 10,
     "metadata": {},
     "output_type": "execute_result"
    },
    {
     "name": "stdout",
     "output_type": "stream",
     "text": [
      "\n",
      "Monotoni atributi\n"
     ]
    },
    {
     "data": {
      "text/plain": [
       "Accelerometer X                236\n",
       "Accelerometer Y                248\n",
       "Accelerometer Z                236\n",
       "Blood volume pulse           53047\n",
       "Electrodermal activity        1235\n",
       "Heart rate                    3255\n",
       "Heart beat detection time     3337\n",
       "Heart beat duration             50\n",
       "Temperature                    545\n",
       "dtype: int64"
      ]
     },
     "execution_count": 10,
     "metadata": {},
     "output_type": "execute_result"
    },
    {
     "name": "stdout",
     "output_type": "stream",
     "text": [
      "\n",
      "Student S10\n",
      "------------------------------------------------------------------------------------------------------------------------\n"
     ]
    },
    {
     "data": {
      "text/html": [
       "<div>\n",
       "<style scoped>\n",
       "    .dataframe tbody tr th:only-of-type {\n",
       "        vertical-align: middle;\n",
       "    }\n",
       "\n",
       "    .dataframe tbody tr th {\n",
       "        vertical-align: top;\n",
       "    }\n",
       "\n",
       "    .dataframe thead th {\n",
       "        text-align: right;\n",
       "    }\n",
       "</style>\n",
       "<table border=\"1\" class=\"dataframe\">\n",
       "  <thead>\n",
       "    <tr style=\"text-align: right;\">\n",
       "      <th></th>\n",
       "      <th>Accelerometer X</th>\n",
       "      <th>Accelerometer Y</th>\n",
       "      <th>Accelerometer Z</th>\n",
       "      <th>Blood volume pulse</th>\n",
       "      <th>Electrodermal activity</th>\n",
       "      <th>Heart rate</th>\n",
       "      <th>Heart beat detection time</th>\n",
       "      <th>Heart beat duration</th>\n",
       "      <th>Temperature</th>\n",
       "    </tr>\n",
       "  </thead>\n",
       "  <tbody>\n",
       "    <tr>\n",
       "      <th>count</th>\n",
       "      <td>738348.000000</td>\n",
       "      <td>738348.000000</td>\n",
       "      <td>738348.000000</td>\n",
       "      <td>1.476695e+06</td>\n",
       "      <td>92292.000000</td>\n",
       "      <td>23064.000000</td>\n",
       "      <td>2167.000000</td>\n",
       "      <td>2167.000000</td>\n",
       "      <td>92288.000000</td>\n",
       "    </tr>\n",
       "    <tr>\n",
       "      <th>mean</th>\n",
       "      <td>-10.710487</td>\n",
       "      <td>-9.536827</td>\n",
       "      <td>2.723340</td>\n",
       "      <td>3.714714e-04</td>\n",
       "      <td>0.111095</td>\n",
       "      <td>105.473729</td>\n",
       "      <td>7003.661742</td>\n",
       "      <td>0.714723</td>\n",
       "      <td>26.331471</td>\n",
       "    </tr>\n",
       "    <tr>\n",
       "      <th>std</th>\n",
       "      <td>37.080956</td>\n",
       "      <td>29.600882</td>\n",
       "      <td>40.684568</td>\n",
       "      <td>6.456463e+01</td>\n",
       "      <td>0.151944</td>\n",
       "      <td>27.312394</td>\n",
       "      <td>3337.037779</td>\n",
       "      <td>0.089440</td>\n",
       "      <td>4.436842</td>\n",
       "    </tr>\n",
       "    <tr>\n",
       "      <th>min</th>\n",
       "      <td>-128.000000</td>\n",
       "      <td>-128.000000</td>\n",
       "      <td>-128.000000</td>\n",
       "      <td>-1.157720e+03</td>\n",
       "      <td>0.000000</td>\n",
       "      <td>56.520000</td>\n",
       "      <td>90.910411</td>\n",
       "      <td>0.343766</td>\n",
       "      <td>17.230000</td>\n",
       "    </tr>\n",
       "    <tr>\n",
       "      <th>25%</th>\n",
       "      <td>-38.000000</td>\n",
       "      <td>-17.000000</td>\n",
       "      <td>-40.000000</td>\n",
       "      <td>-6.770000e+00</td>\n",
       "      <td>0.020500</td>\n",
       "      <td>81.415000</td>\n",
       "      <td>4534.668508</td>\n",
       "      <td>0.671906</td>\n",
       "      <td>22.750000</td>\n",
       "    </tr>\n",
       "    <tr>\n",
       "      <th>50%</th>\n",
       "      <td>-19.000000</td>\n",
       "      <td>-2.000000</td>\n",
       "      <td>2.000000</td>\n",
       "      <td>3.000000e-01</td>\n",
       "      <td>0.023063</td>\n",
       "      <td>99.910000</td>\n",
       "      <td>6795.982956</td>\n",
       "      <td>0.718783</td>\n",
       "      <td>23.650000</td>\n",
       "    </tr>\n",
       "    <tr>\n",
       "      <th>75%</th>\n",
       "      <td>25.000000</td>\n",
       "      <td>3.000000</td>\n",
       "      <td>48.000000</td>\n",
       "      <td>7.580000e+00</td>\n",
       "      <td>0.200143</td>\n",
       "      <td>126.535000</td>\n",
       "      <td>9855.919899</td>\n",
       "      <td>0.765660</td>\n",
       "      <td>30.730000</td>\n",
       "    </tr>\n",
       "    <tr>\n",
       "      <th>max</th>\n",
       "      <td>127.000000</td>\n",
       "      <td>127.000000</td>\n",
       "      <td>127.000000</td>\n",
       "      <td>1.754350e+03</td>\n",
       "      <td>6.985178</td>\n",
       "      <td>187.670000</td>\n",
       "      <td>13621.264131</td>\n",
       "      <td>1.062549</td>\n",
       "      <td>32.030000</td>\n",
       "    </tr>\n",
       "  </tbody>\n",
       "</table>\n",
       "</div>"
      ],
      "text/plain": [
       "       Accelerometer X  Accelerometer Y  Accelerometer Z  Blood volume pulse  \\\n",
       "count    738348.000000    738348.000000    738348.000000        1.476695e+06   \n",
       "mean        -10.710487        -9.536827         2.723340        3.714714e-04   \n",
       "std          37.080956        29.600882        40.684568        6.456463e+01   \n",
       "min        -128.000000      -128.000000      -128.000000       -1.157720e+03   \n",
       "25%         -38.000000       -17.000000       -40.000000       -6.770000e+00   \n",
       "50%         -19.000000        -2.000000         2.000000        3.000000e-01   \n",
       "75%          25.000000         3.000000        48.000000        7.580000e+00   \n",
       "max         127.000000       127.000000       127.000000        1.754350e+03   \n",
       "\n",
       "       Electrodermal activity    Heart rate  Heart beat detection time  \\\n",
       "count            92292.000000  23064.000000                2167.000000   \n",
       "mean                 0.111095    105.473729                7003.661742   \n",
       "std                  0.151944     27.312394                3337.037779   \n",
       "min                  0.000000     56.520000                  90.910411   \n",
       "25%                  0.020500     81.415000                4534.668508   \n",
       "50%                  0.023063     99.910000                6795.982956   \n",
       "75%                  0.200143    126.535000                9855.919899   \n",
       "max                  6.985178    187.670000               13621.264131   \n",
       "\n",
       "       Heart beat duration   Temperature  \n",
       "count          2167.000000  92288.000000  \n",
       "mean              0.714723     26.331471  \n",
       "std               0.089440      4.436842  \n",
       "min               0.343766     17.230000  \n",
       "25%               0.671906     22.750000  \n",
       "50%               0.718783     23.650000  \n",
       "75%               0.765660     30.730000  \n",
       "max               1.062549     32.030000  "
      ]
     },
     "execution_count": 10,
     "metadata": {},
     "output_type": "execute_result"
    },
    {
     "name": "stdout",
     "output_type": "stream",
     "text": [
      "\n",
      "Monotoni atributi\n"
     ]
    },
    {
     "data": {
      "text/plain": [
       "Accelerometer X                228\n",
       "Accelerometer Y                236\n",
       "Accelerometer Z                235\n",
       "Blood volume pulse           63865\n",
       "Electrodermal activity         690\n",
       "Heart rate                    5917\n",
       "Heart beat detection time     2167\n",
       "Heart beat duration             45\n",
       "Temperature                    526\n",
       "dtype: int64"
      ]
     },
     "execution_count": 10,
     "metadata": {},
     "output_type": "execute_result"
    },
    {
     "name": "stdout",
     "output_type": "stream",
     "text": [
      "\n"
     ]
    }
   ],
   "source": [
    "students = ['S01','S02','S03','S04','S05','S06','S07','S08','S09','S10']\n",
    "exam = 'Final'\n",
    "for student in students:\n",
    "    print(\"Student \"+ student)\n",
    "    print(\"-\"*120)\n",
    "    student_data_readings_df = merge_student_data_readings(student, exam)\n",
    "    \n",
    "    rename_columns(student_data_readings_df)\n",
    "    student_data_readings_df = remove_first_row(student_data_readings_df)\n",
    "    \n",
    "    student_data_readings_df.describe()\n",
    "    print()\n",
    "    print(\"Monotoni atributi\")\n",
    "    student_data_readings_df.nunique()\n",
    "    print()\n",
    "    "
   ]
  },
  {
   "cell_type": "markdown",
   "id": "de7300fc",
   "metadata": {},
   "source": [
    "##### Monotoni atributi\n",
    "Kroz ispis atributa sa .nunique() funkcijom vidljivo je da skup podataka nema monotonih atributa tj. atributa koji monotono rastu ili padaju."
   ]
  },
  {
   "cell_type": "markdown",
   "id": "b5e15c98",
   "metadata": {},
   "source": [
    "### Deskriptivna statistika ocjena"
   ]
  },
  {
   "cell_type": "code",
   "execution_count": 11,
   "id": "0f5f0d8c",
   "metadata": {},
   "outputs": [
    {
     "data": {
      "text/html": [
       "<div>\n",
       "<style scoped>\n",
       "    .dataframe tbody tr th:only-of-type {\n",
       "        vertical-align: middle;\n",
       "    }\n",
       "\n",
       "    .dataframe tbody tr th {\n",
       "        vertical-align: top;\n",
       "    }\n",
       "\n",
       "    .dataframe thead th {\n",
       "        text-align: right;\n",
       "    }\n",
       "</style>\n",
       "<table border=\"1\" class=\"dataframe\">\n",
       "  <thead>\n",
       "    <tr style=\"text-align: right;\">\n",
       "      <th></th>\n",
       "      <th>S01</th>\n",
       "      <th>S02</th>\n",
       "      <th>S03</th>\n",
       "      <th>S04</th>\n",
       "      <th>S05</th>\n",
       "      <th>S06</th>\n",
       "      <th>S07</th>\n",
       "      <th>S08</th>\n",
       "      <th>S09</th>\n",
       "      <th>S10</th>\n",
       "    </tr>\n",
       "  </thead>\n",
       "  <tbody>\n",
       "    <tr>\n",
       "      <th>count</th>\n",
       "      <td>3.000000</td>\n",
       "      <td>3.000000</td>\n",
       "      <td>3.000000</td>\n",
       "      <td>3.000000</td>\n",
       "      <td>3.000000</td>\n",
       "      <td>3.000000</td>\n",
       "      <td>3.000000</td>\n",
       "      <td>3.000000</td>\n",
       "      <td>3.000000</td>\n",
       "      <td>3.000000</td>\n",
       "    </tr>\n",
       "    <tr>\n",
       "      <th>mean</th>\n",
       "      <td>114.000000</td>\n",
       "      <td>115.666667</td>\n",
       "      <td>118.333333</td>\n",
       "      <td>100.333333</td>\n",
       "      <td>100.333333</td>\n",
       "      <td>103.333333</td>\n",
       "      <td>69.000000</td>\n",
       "      <td>121.333333</td>\n",
       "      <td>81.666667</td>\n",
       "      <td>89.666667</td>\n",
       "    </tr>\n",
       "    <tr>\n",
       "      <th>std</th>\n",
       "      <td>58.923679</td>\n",
       "      <td>55.734490</td>\n",
       "      <td>60.682232</td>\n",
       "      <td>42.158431</td>\n",
       "      <td>49.328829</td>\n",
       "      <td>62.163762</td>\n",
       "      <td>38.742741</td>\n",
       "      <td>54.307765</td>\n",
       "      <td>43.523940</td>\n",
       "      <td>26.006409</td>\n",
       "    </tr>\n",
       "    <tr>\n",
       "      <th>min</th>\n",
       "      <td>78.000000</td>\n",
       "      <td>82.000000</td>\n",
       "      <td>77.000000</td>\n",
       "      <td>75.000000</td>\n",
       "      <td>67.000000</td>\n",
       "      <td>64.000000</td>\n",
       "      <td>33.000000</td>\n",
       "      <td>88.000000</td>\n",
       "      <td>39.000000</td>\n",
       "      <td>64.000000</td>\n",
       "    </tr>\n",
       "    <tr>\n",
       "      <th>25%</th>\n",
       "      <td>80.000000</td>\n",
       "      <td>83.500000</td>\n",
       "      <td>83.500000</td>\n",
       "      <td>76.000000</td>\n",
       "      <td>72.000000</td>\n",
       "      <td>67.500000</td>\n",
       "      <td>48.500000</td>\n",
       "      <td>90.000000</td>\n",
       "      <td>59.500000</td>\n",
       "      <td>76.500000</td>\n",
       "    </tr>\n",
       "    <tr>\n",
       "      <th>50%</th>\n",
       "      <td>82.000000</td>\n",
       "      <td>85.000000</td>\n",
       "      <td>90.000000</td>\n",
       "      <td>77.000000</td>\n",
       "      <td>77.000000</td>\n",
       "      <td>71.000000</td>\n",
       "      <td>64.000000</td>\n",
       "      <td>92.000000</td>\n",
       "      <td>80.000000</td>\n",
       "      <td>89.000000</td>\n",
       "    </tr>\n",
       "    <tr>\n",
       "      <th>75%</th>\n",
       "      <td>132.000000</td>\n",
       "      <td>132.500000</td>\n",
       "      <td>139.000000</td>\n",
       "      <td>113.000000</td>\n",
       "      <td>117.000000</td>\n",
       "      <td>123.000000</td>\n",
       "      <td>87.000000</td>\n",
       "      <td>138.000000</td>\n",
       "      <td>103.000000</td>\n",
       "      <td>102.500000</td>\n",
       "    </tr>\n",
       "    <tr>\n",
       "      <th>max</th>\n",
       "      <td>182.000000</td>\n",
       "      <td>180.000000</td>\n",
       "      <td>188.000000</td>\n",
       "      <td>149.000000</td>\n",
       "      <td>157.000000</td>\n",
       "      <td>175.000000</td>\n",
       "      <td>110.000000</td>\n",
       "      <td>184.000000</td>\n",
       "      <td>126.000000</td>\n",
       "      <td>116.000000</td>\n",
       "    </tr>\n",
       "  </tbody>\n",
       "</table>\n",
       "</div>"
      ],
      "text/plain": [
       "              S01         S02         S03         S04         S05         S06  \\\n",
       "count    3.000000    3.000000    3.000000    3.000000    3.000000    3.000000   \n",
       "mean   114.000000  115.666667  118.333333  100.333333  100.333333  103.333333   \n",
       "std     58.923679   55.734490   60.682232   42.158431   49.328829   62.163762   \n",
       "min     78.000000   82.000000   77.000000   75.000000   67.000000   64.000000   \n",
       "25%     80.000000   83.500000   83.500000   76.000000   72.000000   67.500000   \n",
       "50%     82.000000   85.000000   90.000000   77.000000   77.000000   71.000000   \n",
       "75%    132.000000  132.500000  139.000000  113.000000  117.000000  123.000000   \n",
       "max    182.000000  180.000000  188.000000  149.000000  157.000000  175.000000   \n",
       "\n",
       "              S07         S08         S09         S10  \n",
       "count    3.000000    3.000000    3.000000    3.000000  \n",
       "mean    69.000000  121.333333   81.666667   89.666667  \n",
       "std     38.742741   54.307765   43.523940   26.006409  \n",
       "min     33.000000   88.000000   39.000000   64.000000  \n",
       "25%     48.500000   90.000000   59.500000   76.500000  \n",
       "50%     64.000000   92.000000   80.000000   89.000000  \n",
       "75%     87.000000  138.000000  103.000000  102.500000  \n",
       "max    110.000000  184.000000  126.000000  116.000000  "
      ]
     },
     "execution_count": 11,
     "metadata": {},
     "output_type": "execute_result"
    }
   ],
   "source": [
    "grades.describe()"
   ]
  },
  {
   "cell_type": "markdown",
   "id": "c19b8fe8",
   "metadata": {},
   "source": [
    "### Vizualizacija podataka"
   ]
  },
  {
   "cell_type": "markdown",
   "id": "61988286",
   "metadata": {},
   "source": [
    "#### Student 1, završni ispit"
   ]
  },
  {
   "cell_type": "code",
   "execution_count": 12,
   "id": "962220d9",
   "metadata": {},
   "outputs": [
    {
     "data": {
      "text/plain": [
       "[<matplotlib.lines.Line2D at 0x1a826ef60d0>]"
      ]
     },
     "execution_count": 12,
     "metadata": {},
     "output_type": "execute_result"
    },
    {
     "data": {
      "text/plain": [
       "Text(0.5, 1.0, 'Accelerometer X')"
      ]
     },
     "execution_count": 12,
     "metadata": {},
     "output_type": "execute_result"
    },
    {
     "data": {
      "image/png": "[encoded data removed]",
      "text/plain": [
       "<Figure size 432x288 with 1 Axes>"
      ]
     },
     "metadata": {
      "needs_background": "light"
     },
     "output_type": "display_data"
    },
    {
     "data": {
      "text/plain": [
       "[<matplotlib.lines.Line2D at 0x1a82840b490>]"
      ]
     },
     "execution_count": 12,
     "metadata": {},
     "output_type": "execute_result"
    },
    {
     "data": {
      "text/plain": [
       "Text(0.5, 1.0, 'Accelerometer Y')"
      ]
     },
     "execution_count": 12,
     "metadata": {},
     "output_type": "execute_result"
    },
    {
     "data": {
      "image/png": "[encoded data removed]",
      "text/plain": [
       "<Figure size 432x288 with 1 Axes>"
      ]
     },
     "metadata": {
      "needs_background": "light"
     },
     "output_type": "display_data"
    },
    {
     "data": {
      "text/plain": [
       "[<matplotlib.lines.Line2D at 0x1a82863a7c0>]"
      ]
     },
     "execution_count": 12,
     "metadata": {},
     "output_type": "execute_result"
    },
    {
     "data": {
      "text/plain": [
       "Text(0.5, 1.0, 'Accelerometer Z')"
      ]
     },
     "execution_count": 12,
     "metadata": {},
     "output_type": "execute_result"
    },
    {
     "data": {
      "image/png": "[encoded data removed]",
      "text/plain": [
       "<Figure size 432x288 with 1 Axes>"
      ]
     },
     "metadata": {
      "needs_background": "light"
     },
     "output_type": "display_data"
    },
    {
     "data": {
      "text/plain": [
       "[<matplotlib.lines.Line2D at 0x1a8289052e0>]"
      ]
     },
     "execution_count": 12,
     "metadata": {},
     "output_type": "execute_result"
    },
    {
     "data": {
      "text/plain": [
       "Text(0.5, 1.0, 'Blood volume pulse')"
      ]
     },
     "execution_count": 12,
     "metadata": {},
     "output_type": "execute_result"
    },
    {
     "data": {
      "image/png": "[encoded data removed]",
      "text/plain": [
       "<Figure size 432x288 with 1 Axes>"
      ]
     },
     "metadata": {
      "needs_background": "light"
     },
     "output_type": "display_data"
    },
    {
     "data": {
      "text/plain": [
       "[<matplotlib.lines.Line2D at 0x1a828964790>]"
      ]
     },
     "execution_count": 12,
     "metadata": {},
     "output_type": "execute_result"
    },
    {
     "data": {
      "text/plain": [
       "Text(0.5, 1.0, 'Electrodermal activity')"
      ]
     },
     "execution_count": 12,
     "metadata": {},
     "output_type": "execute_result"
    },
    {
     "data": {
      "image/png": "[encoded data removed]",
      "text/plain": [
       "<Figure size 432x288 with 1 Axes>"
      ]
     },
     "metadata": {
      "needs_background": "light"
     },
     "output_type": "display_data"
    },
    {
     "data": {
      "text/plain": [
       "[<matplotlib.lines.Line2D at 0x1a8289cc100>]"
      ]
     },
     "execution_count": 12,
     "metadata": {},
     "output_type": "execute_result"
    },
    {
     "data": {
      "text/plain": [
       "Text(0.5, 1.0, 'Heart rate')"
      ]
     },
     "execution_count": 12,
     "metadata": {},
     "output_type": "execute_result"
    },
    {
     "data": {
      "image/png": "[encoded data removed]",
      "text/plain": [
       "<Figure size 432x288 with 1 Axes>"
      ]
     },
     "metadata": {
      "needs_background": "light"
     },
     "output_type": "display_data"
    },
    {
     "data": {
      "text/plain": [
       "[<matplotlib.lines.Line2D at 0x1a828a29700>]"
      ]
     },
     "execution_count": 12,
     "metadata": {},
     "output_type": "execute_result"
    },
    {
     "data": {
      "text/plain": [
       "Text(0.5, 1.0, 'Heart beat detection time')"
      ]
     },
     "execution_count": 12,
     "metadata": {},
     "output_type": "execute_result"
    },
    {
     "data": {
      "image/png": "[encoded data removed]",
      "text/plain": [
       "<Figure size 432x288 with 1 Axes>"
      ]
     },
     "metadata": {
      "needs_background": "light"
     },
     "output_type": "display_data"
    },
    {
     "data": {
      "text/plain": [
       "[<matplotlib.lines.Line2D at 0x1a828a910a0>]"
      ]
     },
     "execution_count": 12,
     "metadata": {},
     "output_type": "execute_result"
    },
    {
     "data": {
      "text/plain": [
       "Text(0.5, 1.0, 'Heart beat duration')"
      ]
     },
     "execution_count": 12,
     "metadata": {},
     "output_type": "execute_result"
    },
    {
     "data": {
      "image/png": "[encoded data removed]",
      "text/plain": [
       "<Figure size 432x288 with 1 Axes>"
      ]
     },
     "metadata": {
      "needs_background": "light"
     },
     "output_type": "display_data"
    },
    {
     "data": {
      "text/plain": [
       "[<matplotlib.lines.Line2D at 0x1a828aecbe0>]"
      ]
     },
     "execution_count": 12,
     "metadata": {},
     "output_type": "execute_result"
    },
    {
     "data": {
      "text/plain": [
       "Text(0.5, 1.0, 'Temperature')"
      ]
     },
     "execution_count": 12,
     "metadata": {},
     "output_type": "execute_result"
    },
    {
     "data": {
      "image/png": "[encoded data removed]",
      "text/plain": [
       "<Figure size 432x288 with 1 Axes>"
      ]
     },
     "metadata": {
      "needs_background": "light"
     },
     "output_type": "display_data"
    }
   ],
   "source": [
    "student_data_readings_df = merge_student_data_readings('S01', 'Final')\n",
    "rename_columns(student_data_readings_df)\n",
    "student_data_readings_df = remove_first_row(student_data_readings_df)\n",
    "for column in student_data_readings_df.columns:\n",
    "    plt.plot(student_data_readings_df[column])\n",
    "    plt.title(column)\n",
    "    plt.show()"
   ]
  },
  {
   "cell_type": "markdown",
   "id": "b80a722d",
   "metadata": {},
   "source": [
    "#### Student 1, Međuispit 1"
   ]
  },
  {
   "cell_type": "code",
   "execution_count": 13,
   "id": "70673c54",
   "metadata": {},
   "outputs": [
    {
     "data": {
      "text/plain": [
       "[<matplotlib.lines.Line2D at 0x1a828cf58e0>]"
      ]
     },
     "execution_count": 13,
     "metadata": {},
     "output_type": "execute_result"
    },
    {
     "data": {
      "text/plain": [
       "Text(0.5, 1.0, 'Accelerometer X')"
      ]
     },
     "execution_count": 13,
     "metadata": {},
     "output_type": "execute_result"
    },
    {
     "data": {
      "image/png": "[encoded data removed]",
      "text/plain": [
       "<Figure size 432x288 with 1 Axes>"
      ]
     },
     "metadata": {
      "needs_background": "light"
     },
     "output_type": "display_data"
    },
    {
     "data": {
      "text/plain": [
       "[<matplotlib.lines.Line2D at 0x1a828d63220>]"
      ]
     },
     "execution_count": 13,
     "metadata": {},
     "output_type": "execute_result"
    },
    {
     "data": {
      "text/plain": [
       "Text(0.5, 1.0, 'Accelerometer Y')"
      ]
     },
     "execution_count": 13,
     "metadata": {},
     "output_type": "execute_result"
    },
    {
     "data": {
      "image/png": "[encoded data removed]",
      "text/plain": [
       "<Figure size 432x288 with 1 Axes>"
      ]
     },
     "metadata": {
      "needs_background": "light"
     },
     "output_type": "display_data"
    },
    {
     "data": {
      "text/plain": [
       "[<matplotlib.lines.Line2D at 0x1a828dc1b20>]"
      ]
     },
     "execution_count": 13,
     "metadata": {},
     "output_type": "execute_result"
    },
    {
     "data": {
      "text/plain": [
       "Text(0.5, 1.0, 'Accelerometer Z')"
      ]
     },
     "execution_count": 13,
     "metadata": {},
     "output_type": "execute_result"
    },
    {
     "data": {
      "image/png": "[encoded data removed]",
      "text/plain": [
       "<Figure size 432x288 with 1 Axes>"
      ]
     },
     "metadata": {
      "needs_background": "light"
     },
     "output_type": "display_data"
    },
    {
     "data": {
      "text/plain": [
       "[<matplotlib.lines.Line2D at 0x1a828e2d790>]"
      ]
     },
     "execution_count": 13,
     "metadata": {},
     "output_type": "execute_result"
    },
    {
     "data": {
      "text/plain": [
       "Text(0.5, 1.0, 'Blood volume pulse')"
      ]
     },
     "execution_count": 13,
     "metadata": {},
     "output_type": "execute_result"
    },
    {
     "data": {
      "image/png": "[encoded data removed]",
      "text/plain": [
       "<Figure size 432x288 with 1 Axes>"
      ]
     },
     "metadata": {
      "needs_background": "light"
     },
     "output_type": "display_data"
    },
    {
     "data": {
      "text/plain": [
       "[<matplotlib.lines.Line2D at 0x1a829040400>]"
      ]
     },
     "execution_count": 13,
     "metadata": {},
     "output_type": "execute_result"
    },
    {
     "data": {
      "text/plain": [
       "Text(0.5, 1.0, 'Electrodermal activity')"
      ]
     },
     "execution_count": 13,
     "metadata": {},
     "output_type": "execute_result"
    },
    {
     "data": {
      "image/png": "[encoded data removed]",
      "text/plain": [
       "<Figure size 432x288 with 1 Axes>"
      ]
     },
     "metadata": {
      "needs_background": "light"
     },
     "output_type": "display_data"
    },
    {
     "data": {
      "text/plain": [
       "[<matplotlib.lines.Line2D at 0x1a828dde850>]"
      ]
     },
     "execution_count": 13,
     "metadata": {},
     "output_type": "execute_result"
    },
    {
     "data": {
      "text/plain": [
       "Text(0.5, 1.0, 'Heart rate')"
      ]
     },
     "execution_count": 13,
     "metadata": {},
     "output_type": "execute_result"
    },
    {
     "data": {
      "image/png": "[encoded data removed]",
      "text/plain": [
       "<Figure size 432x288 with 1 Axes>"
      ]
     },
     "metadata": {
      "needs_background": "light"
     },
     "output_type": "display_data"
    },
    {
     "data": {
      "text/plain": [
       "[<matplotlib.lines.Line2D at 0x1a826e44430>]"
      ]
     },
     "execution_count": 13,
     "metadata": {},
     "output_type": "execute_result"
    },
    {
     "data": {
      "text/plain": [
       "Text(0.5, 1.0, 'Heart beat detection time')"
      ]
     },
     "execution_count": 13,
     "metadata": {},
     "output_type": "execute_result"
    },
    {
     "data": {
      "image/png": "[encoded data removed]",
      "text/plain": [
       "<Figure size 432x288 with 1 Axes>"
      ]
     },
     "metadata": {
      "needs_background": "light"
     },
     "output_type": "display_data"
    },
    {
     "data": {
      "text/plain": [
       "[<matplotlib.lines.Line2D at 0x1a828a392e0>]"
      ]
     },
     "execution_count": 13,
     "metadata": {},
     "output_type": "execute_result"
    },
    {
     "data": {
      "text/plain": [
       "Text(0.5, 1.0, 'Heart beat duration')"
      ]
     },
     "execution_count": 13,
     "metadata": {},
     "output_type": "execute_result"
    },
    {
     "data": {
      "image/png": "[encoded data removed]",
      "text/plain": [
       "<Figure size 432x288 with 1 Axes>"
      ]
     },
     "metadata": {
      "needs_background": "light"
     },
     "output_type": "display_data"
    },
    {
     "data": {
      "text/plain": [
       "[<matplotlib.lines.Line2D at 0x1a8289131c0>]"
      ]
     },
     "execution_count": 13,
     "metadata": {},
     "output_type": "execute_result"
    },
    {
     "data": {
      "text/plain": [
       "Text(0.5, 1.0, 'Temperature')"
      ]
     },
     "execution_count": 13,
     "metadata": {},
     "output_type": "execute_result"
    },
    {
     "data": {
      "image/png": "[encoded data removed]",
      "text/plain": [
       "<Figure size 432x288 with 1 Axes>"
      ]
     },
     "metadata": {
      "needs_background": "light"
     },
     "output_type": "display_data"
    }
   ],
   "source": [
    "student_data_readings_df = merge_student_data_readings('S01', 'Midterm 1')\n",
    "rename_columns(student_data_readings_df)\n",
    "student_data_readings_df = remove_first_row(student_data_readings_df)\n",
    "for column in student_data_readings_df.columns:\n",
    "    plt.plot(student_data_readings_df[column])\n",
    "    plt.title(column)\n",
    "    plt.show()"
   ]
  },
  {
   "cell_type": "markdown",
   "id": "ca793662",
   "metadata": {},
   "source": [
    "#### Student 1, Međuispit 2"
   ]
  },
  {
   "cell_type": "code",
   "execution_count": 14,
   "id": "fc4323bb",
   "metadata": {},
   "outputs": [
    {
     "data": {
      "text/plain": [
       "[<matplotlib.lines.Line2D at 0x1a828157220>]"
      ]
     },
     "execution_count": 14,
     "metadata": {},
     "output_type": "execute_result"
    },
    {
     "data": {
      "text/plain": [
       "Text(0.5, 1.0, 'Accelerometer X')"
      ]
     },
     "execution_count": 14,
     "metadata": {},
     "output_type": "execute_result"
    },
    {
     "data": {
      "image/png": "[encoded data removed]",
      "text/plain": [
       "<Figure size 432x288 with 1 Axes>"
      ]
     },
     "metadata": {
      "needs_background": "light"
     },
     "output_type": "display_data"
    },
    {
     "data": {
      "text/plain": [
       "[<matplotlib.lines.Line2D at 0x1a828a734c0>]"
      ]
     },
     "execution_count": 14,
     "metadata": {},
     "output_type": "execute_result"
    },
    {
     "data": {
      "text/plain": [
       "Text(0.5, 1.0, 'Accelerometer Y')"
      ]
     },
     "execution_count": 14,
     "metadata": {},
     "output_type": "execute_result"
    },
    {
     "data": {
      "image/png": "[encoded data removed]",
      "text/plain": [
       "<Figure size 432x288 with 1 Axes>"
      ]
     },
     "metadata": {
      "needs_background": "light"
     },
     "output_type": "display_data"
    },
    {
     "data": {
      "text/plain": [
       "[<matplotlib.lines.Line2D at 0x1a8289d00a0>]"
      ]
     },
     "execution_count": 14,
     "metadata": {},
     "output_type": "execute_result"
    },
    {
     "data": {
      "text/plain": [
       "Text(0.5, 1.0, 'Accelerometer Z')"
      ]
     },
     "execution_count": 14,
     "metadata": {},
     "output_type": "execute_result"
    },
    {
     "data": {
      "image/png": "[encoded data removed]",
      "text/plain": [
       "<Figure size 432x288 with 1 Axes>"
      ]
     },
     "metadata": {
      "needs_background": "light"
     },
     "output_type": "display_data"
    },
    {
     "data": {
      "text/plain": [
       "[<matplotlib.lines.Line2D at 0x1a828459a00>]"
      ]
     },
     "execution_count": 14,
     "metadata": {},
     "output_type": "execute_result"
    },
    {
     "data": {
      "text/plain": [
       "Text(0.5, 1.0, 'Blood volume pulse')"
      ]
     },
     "execution_count": 14,
     "metadata": {},
     "output_type": "execute_result"
    },
    {
     "data": {
      "image/png": "[encoded data removed]",
      "text/plain": [
       "<Figure size 432x288 with 1 Axes>"
      ]
     },
     "metadata": {
      "needs_background": "light"
     },
     "output_type": "display_data"
    },
    {
     "data": {
      "text/plain": [
       "[<matplotlib.lines.Line2D at 0x1a8289b66a0>]"
      ]
     },
     "execution_count": 14,
     "metadata": {},
     "output_type": "execute_result"
    },
    {
     "data": {
      "text/plain": [
       "Text(0.5, 1.0, 'Electrodermal activity')"
      ]
     },
     "execution_count": 14,
     "metadata": {},
     "output_type": "execute_result"
    },
    {
     "data": {
      "image/png": "[encoded data removed]",
      "text/plain": [
       "<Figure size 432x288 with 1 Axes>"
      ]
     },
     "metadata": {
      "needs_background": "light"
     },
     "output_type": "display_data"
    },
    {
     "data": {
      "text/plain": [
       "[<matplotlib.lines.Line2D at 0x1a8283fdc10>]"
      ]
     },
     "execution_count": 14,
     "metadata": {},
     "output_type": "execute_result"
    },
    {
     "data": {
      "text/plain": [
       "Text(0.5, 1.0, 'Heart rate')"
      ]
     },
     "execution_count": 14,
     "metadata": {},
     "output_type": "execute_result"
    },
    {
     "data": {
      "image/png": "[encoded data removed]",
      "text/plain": [
       "<Figure size 432x288 with 1 Axes>"
      ]
     },
     "metadata": {
      "needs_background": "light"
     },
     "output_type": "display_data"
    },
    {
     "data": {
      "text/plain": [
       "[<matplotlib.lines.Line2D at 0x1a82863b730>]"
      ]
     },
     "execution_count": 14,
     "metadata": {},
     "output_type": "execute_result"
    },
    {
     "data": {
      "text/plain": [
       "Text(0.5, 1.0, 'Heart beat detection time')"
      ]
     },
     "execution_count": 14,
     "metadata": {},
     "output_type": "execute_result"
    },
    {
     "data": {
      "image/png": "[encoded data removed]",
      "text/plain": [
       "<Figure size 432x288 with 1 Axes>"
      ]
     },
     "metadata": {
      "needs_background": "light"
     },
     "output_type": "display_data"
    },
    {
     "data": {
      "text/plain": [
       "[<matplotlib.lines.Line2D at 0x1a8290b92b0>]"
      ]
     },
     "execution_count": 14,
     "metadata": {},
     "output_type": "execute_result"
    },
    {
     "data": {
      "text/plain": [
       "Text(0.5, 1.0, 'Heart beat duration')"
      ]
     },
     "execution_count": 14,
     "metadata": {},
     "output_type": "execute_result"
    },
    {
     "data": {
      "image/png": "[encoded data removed]",
      "text/plain": [
       "<Figure size 432x288 with 1 Axes>"
      ]
     },
     "metadata": {
      "needs_background": "light"
     },
     "output_type": "display_data"
    },
    {
     "data": {
      "text/plain": [
       "[<matplotlib.lines.Line2D at 0x1a828b61ee0>]"
      ]
     },
     "execution_count": 14,
     "metadata": {},
     "output_type": "execute_result"
    },
    {
     "data": {
      "text/plain": [
       "Text(0.5, 1.0, 'Temperature')"
      ]
     },
     "execution_count": 14,
     "metadata": {},
     "output_type": "execute_result"
    },
    {
     "data": {
      "image/png": "[encoded data removed]",
      "text/plain": [
       "<Figure size 432x288 with 1 Axes>"
      ]
     },
     "metadata": {
      "needs_background": "light"
     },
     "output_type": "display_data"
    }
   ],
   "source": [
    "student_data_readings_df = merge_student_data_readings('S01', 'Midterm 2')\n",
    "rename_columns(student_data_readings_df)\n",
    "student_data_readings_df = remove_first_row(student_data_readings_df)\n",
    "for column in student_data_readings_df.columns:\n",
    "    plt.plot(student_data_readings_df[column])\n",
    "    plt.title(column)\n",
    "    plt.show()"
   ]
  },
  {
   "cell_type": "markdown",
   "id": "4cddcfd3",
   "metadata": {},
   "source": [
    "### Provjera stršećih vrijednosti\n",
    "Stršeće vrijednosti su one vrijednosti koje se razlikuju od većine drugih podataka u skupu. Zbog te razlike mogu imati veliki utjecaj na statističke analize zbog iskrivljavanja rezultata.\n",
    "Jedan od načina pronalska stršećih vrijednosti je kroz proučavanje boxplot dijagrama, gdje se stršeće vrijednosti mogu nalaziti izvan minimalnih i maksimalnih 25% rezultata."
   ]
  },
  {
   "cell_type": "markdown",
   "id": "f45ba042",
   "metadata": {},
   "source": [
    "#### Student 1, Završni ispit, očitanja otkucaja srca"
   ]
  },
  {
   "cell_type": "code",
   "execution_count": 15,
   "id": "1e062dea",
   "metadata": {
    "scrolled": true
   },
   "outputs": [
    {
     "data": {
      "text/plain": [
       "{'whiskers': [<matplotlib.lines.Line2D at 0x1a828bd19d0>,\n",
       "  <matplotlib.lines.Line2D at 0x1a828bd1ca0>],\n",
       " 'caps': [<matplotlib.lines.Line2D at 0x1a828bdf070>,\n",
       "  <matplotlib.lines.Line2D at 0x1a828bdf400>],\n",
       " 'boxes': [<matplotlib.lines.Line2D at 0x1a828bd1580>],\n",
       " 'medians': [<matplotlib.lines.Line2D at 0x1a828bdf790>],\n",
       " 'fliers': [<matplotlib.lines.Line2D at 0x1a828bdfb20>],\n",
       " 'means': []}"
      ]
     },
     "execution_count": 15,
     "metadata": {},
     "output_type": "execute_result"
    },
    {
     "data": {
      "image/png": "[encoded data removed]",
      "text/plain": [
       "<Figure size 432x288 with 1 Axes>"
      ]
     },
     "metadata": {
      "needs_background": "light"
     },
     "output_type": "display_data"
    }
   ],
   "source": [
    "hr_df = pd.read_csv(path+'\\\\Data\\\\S01\\\\Final\\\\HR.csv')\n",
    "hr_df = remove_first_row(hr_df)\n",
    "plt.boxplot(hr_df)\n",
    "plt.show()"
   ]
  },
  {
   "cell_type": "markdown",
   "id": "82155541",
   "metadata": {},
   "source": [
    "#### Student 1, Završni ispit, temperatura"
   ]
  },
  {
   "cell_type": "code",
   "execution_count": 16,
   "id": "86b5060e",
   "metadata": {},
   "outputs": [
    {
     "data": {
      "text/plain": [
       "{'whiskers': [<matplotlib.lines.Line2D at 0x1a8288e0c70>,\n",
       "  <matplotlib.lines.Line2D at 0x1a8288d82b0>],\n",
       " 'caps': [<matplotlib.lines.Line2D at 0x1a8288d84c0>,\n",
       "  <matplotlib.lines.Line2D at 0x1a8288d8070>],\n",
       " 'boxes': [<matplotlib.lines.Line2D at 0x1a8288e0e80>],\n",
       " 'medians': [<matplotlib.lines.Line2D at 0x1a829097ca0>],\n",
       " 'fliers': [<matplotlib.lines.Line2D at 0x1a829097c40>],\n",
       " 'means': []}"
      ]
     },
     "execution_count": 16,
     "metadata": {},
     "output_type": "execute_result"
    },
    {
     "data": {
      "image/png": "[encoded data removed]",
      "text/plain": [
       "<Figure size 432x288 with 1 Axes>"
      ]
     },
     "metadata": {
      "needs_background": "light"
     },
     "output_type": "display_data"
    }
   ],
   "source": [
    "temp_df = pd.read_csv(path+'\\\\Data\\\\S01\\\\Final\\\\TEMP.csv')\n",
    "temp_df = remove_first_row(temp_df)\n",
    "plt.boxplot(temp_df)\n",
    "plt.show()"
   ]
  },
  {
   "cell_type": "markdown",
   "id": "262ae864",
   "metadata": {},
   "source": [
    "#### Student 1, Zavšrni ispit, elektrodermalna aktivnost"
   ]
  },
  {
   "cell_type": "code",
   "execution_count": 316,
   "id": "0f928946",
   "metadata": {},
   "outputs": [
    {
     "data": {
      "text/plain": [
       "{'whiskers': [<matplotlib.lines.Line2D at 0x1c007489bb0>,\n",
       "  <matplotlib.lines.Line2D at 0x1c079cb6520>],\n",
       " 'caps': [<matplotlib.lines.Line2D at 0x1c079cb6370>,\n",
       "  <matplotlib.lines.Line2D at 0x1c006ca5c40>],\n",
       " 'boxes': [<matplotlib.lines.Line2D at 0x1c007489100>],\n",
       " 'medians': [<matplotlib.lines.Line2D at 0x1c006dba850>],\n",
       " 'fliers': [<matplotlib.lines.Line2D at 0x1c006dba2b0>],\n",
       " 'means': []}"
      ]
     },
     "execution_count": 316,
     "metadata": {},
     "output_type": "execute_result"
    },
    {
     "data": {
      "image/png": "[encoded data removed]",
      "text/plain": [
       "<Figure size 432x288 with 1 Axes>"
      ]
     },
     "metadata": {
      "needs_background": "light"
     },
     "output_type": "display_data"
    }
   ],
   "source": [
    "eda_df = pd.read_csv(path+'\\\\Data\\\\S01\\\\Final\\\\EDA.csv')\n",
    "eda_df = remove_first_row(eda_df)\n",
    "plt.boxplot(eda_df)\n",
    "plt.show()"
   ]
  },
  {
   "cell_type": "code",
   "execution_count": null,
   "id": "2453febe",
   "metadata": {},
   "outputs": [],
   "source": []
  }
 ],
 "metadata": {
  "kernelspec": {
   "display_name": "Python 3 (ipykernel)",
   "language": "python",
   "name": "python3"
  },
  "language_info": {
   "codemirror_mode": {
    "name": "ipython",
    "version": 3
   },
   "file_extension": ".py",
   "mimetype": "text/x-python",
   "name": "python",
   "nbconvert_exporter": "python",
   "pygments_lexer": "ipython3",
   "version": "3.9.7"
  }
 },
 "nbformat": 4,
 "nbformat_minor": 5
}
