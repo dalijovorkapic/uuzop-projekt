{
 "cells": [
  {
   "cell_type": "markdown",
   "id": "d2cea33e",
   "metadata": {},
   "source": [
    "#### SC - Skin Conductance\n",
    "SC signal se sastoji od sporo promjenjive toničke komponente\n",
    "na čijem vrhu se superponira brže promjenjiva fazna komponenta"
   ]
  },
  {
   "cell_type": "markdown",
   "id": "c7d51b2c",
   "metadata": {},
   "source": [
    "#### Fazna komponenta\n",
    "- Brzo promjenjiva\n",
    "- Očitava se na vrhu toničke komponente\n",
    "- Sastoji se od SCR-ova (skin conductance responses)\n",
    "- Svaki od SCR-ova je generiran neuralnom aktivnosti\n",
    "- Stope po kojima se javljaju SCR-ovi i njihove amplitedu su markeri uzbuđenja"
   ]
  },
  {
   "cell_type": "markdown",
   "id": "395f165c",
   "metadata": {},
   "source": [
    "#### Tonička komponenta\n",
    "- Sporo promjenjiva\n",
    "- Povezana sa termoregulacijom\n",
    "- Ovisi o temperaturi i vlažnosti okoline\n",
    "- Zahvaća opće varijacije u uzbuđenju"
   ]
  },
  {
   "cell_type": "markdown",
   "id": "b9bbb4d2",
   "metadata": {},
   "source": [
    "#### Komponente SC signala\n",
    "<img style=\"float: left;\" src=\"Skin Conductance.png\">"
   ]
  },
  {
   "cell_type": "markdown",
   "id": "4a0470e2",
   "metadata": {},
   "source": [
    "#### 1. korak - Niskopropusni filtar granične frekvencije (!?)\n",
    "- Za izdvajanje SC trendova\n",
    "- Visokopropusna filtrirana komponenta (s niskom graničnom frekvencijom) se oduzima od SC signala da bi se izdvojila tonička komponenta\n",
    "- Oni koriste lowpass FIR filter - (primjer za python: https://scipy-cookbook.readthedocs.io/items/FIRFilter.html)"
   ]
  },
  {
   "cell_type": "markdown",
   "id": "7e03d299",
   "metadata": {},
   "source": [
    "##### Odabir zasebnih graničnih frekvencija za filter (Budući da su razine buke različite za svaki signal)\n",
    "<img style=\"float: left; display:block;\" src=\"cutoff frequency.png\" />\n",
    "<br>\n",
    "- Po tablici se vidi da je za svakog studenta napravljen groupby njegovih očitanja za sva tri testa"
   ]
  },
  {
   "cell_type": "markdown",
   "id": "ea68c14a",
   "metadata": {},
   "source": [
    "#### 2. korak - Izdvajanje značajki i klasifikacija\n",
    "##### Vektor y \n",
    "- vektor svih uzoraka za svakog studenta za određeni ispit\n",
    "\n",
    "#### Ekstrackija tri segmenta iz svakog trenda\n",
    "- Uzimaju se segmenti sa početka, sredine i kraja testa (zbog pretpostavke oscilacija stresa tijekom vremena pisanja testa)\n",
    "- Početni stres - osobni osjećaj sudionika da nije pripremljen\n",
    "- Krajnji stres - zabrinutost u vezi s preostalim vremenom, umor, potreba za dovršavanjem ispita\n",
    "- Tw - trajanje segmenta\n",
    "- T - ukupno trajanje signala\n",
    "\n",
    "<img style=\"float: left; display:block;\" src=\"feature extraction.png\" />\n",
    "<br>\n",
    "- Što se tiće značajki, unutar svakog prozora se izračunava srednja vrijednost i varijanca SC linije trenda"
   ]
  },
  {
   "cell_type": "markdown",
   "id": "1be26ae6",
   "metadata": {},
   "source": [
    "##### Matematički"
   ]
  },
  {
   "cell_type": "markdown",
   "id": "62c7cebb",
   "metadata": {},
   "source": [
    "###### Računjanje segmenata sa Tw:\n",
    "- $y_{i:j}$ označava vektor koji se sastoji od uzoraka između i, j indeksa"
   ]
  },
  {
   "cell_type": "markdown",
   "id": "193d9f1a",
   "metadata": {},
   "source": [
    "<img style=\"float: left; display:block;\" src=\"segmenti.png\" />"
   ]
  },
  {
   "cell_type": "markdown",
   "id": "26baa7ba",
   "metadata": {},
   "source": [
    "##### Računanje srednje vrijednosti i varijance\n",
    "- q € {start, mid, end}"
   ]
  },
  {
   "cell_type": "markdown",
   "id": "198eeeac",
   "metadata": {},
   "source": [
    "<img style=\"float: left; display:block;\" src=\"mean.png\" />"
   ]
  },
  {
   "cell_type": "markdown",
   "id": "e1529244",
   "metadata": {},
   "source": [
    "##### Značajka omjera (ratio feature)\n",
    "- Kako bi vidjeli kako su razine stresa rasle/padale tijekom sredine ispita u usporedbi sa početkom ili krajem ispita"
   ]
  },
  {
   "cell_type": "markdown",
   "id": "12c26ab2",
   "metadata": {},
   "source": [
    "<img style=\"float: left; display:block;\" src=\"ratio.png\" />"
   ]
  },
  {
   "cell_type": "markdown",
   "id": "d393c2fa",
   "metadata": {},
   "source": [
    "##### Difference signal\n",
    "- informacija koliko se brzo/sporo povečavalo/smanjivalo uzbuđenje tijekom ispita"
   ]
  },
  {
   "cell_type": "markdown",
   "id": "403c5404",
   "metadata": {},
   "source": [
    "<img style=\"float: left; display:block;\" src=\"ydiff.png\" />"
   ]
  },
  {
   "cell_type": "markdown",
   "id": "93d804bf",
   "metadata": {},
   "source": [
    "#### Finalni vektor značajki\n",
    "$x = [ \\mu_{start}, \\mu_{mid}, \\mu_{end}, \\sigma^{2}_{start} \\sigma^{2}_{mid}, \\sigma^{2}_{end}, \\rho, \\mu_{diff}, \\sigma^{2}_{diff}]$"
   ]
  },
  {
   "cell_type": "markdown",
   "id": "bc88ffbf",
   "metadata": {},
   "source": [
    "#### Klasifikacija\n",
    "- Značajke se uzimaju za $T_{w} = 5, 15, 30 min$\n",
    "- Treniraju se zasebni klasifikatori za svaki $T_{w}$ te za svaki ispit\n",
    "- Svakom vektoru značajki se dodaje oznaka visoke ili niske ocjene na temelju toga je li sudionik postigao rezultat >= 80%"
   ]
  },
  {
   "cell_type": "markdown",
   "id": "9f61944a",
   "metadata": {},
   "source": [
    "- Koriste se klasifikatori iz aplikacije MATLAB 2017b sa defaultnim postavkama\n",
    "- Procjena izvedbe klasifikatora se vrši sa 10-fold cross-validation"
   ]
  },
  {
   "cell_type": "markdown",
   "id": "9ebc2357",
   "metadata": {},
   "source": [
    "#### Rezultati"
   ]
  },
  {
   "cell_type": "markdown",
   "id": "b8cbeec8",
   "metadata": {},
   "source": [
    "<img style=\"float: left; display:block;\" src=\"rezultati1.png\" />"
   ]
  },
  {
   "cell_type": "code",
   "execution_count": 4,
   "id": "8dccaf51",
   "metadata": {},
   "outputs": [],
   "source": [
    "import numpy as np\n",
    "import pandas as pd\n",
    "import os\n",
    "import glob\n",
    "import matplotlib.pyplot as plt\n",
    "import seaborn as sns"
   ]
  },
  {
   "cell_type": "code",
   "execution_count": 108,
   "id": "c4c287de",
   "metadata": {},
   "outputs": [],
   "source": [
    "path = os.getcwd()"
   ]
  },
  {
   "cell_type": "code",
   "execution_count": 109,
   "id": "c888eb2d",
   "metadata": {},
   "outputs": [],
   "source": [
    "def read_student_eda_files(student):\n",
    "    csv_files = glob.glob(path+'\\\\Data\\\\'+student+'\\\\*\\\\EDA.csv')\n",
    "    \n",
    "    midterm1_df = pd.read_csv(csv_files[0])\n",
    "    midterm2_df = pd.read_csv(csv_files[1])\n",
    "    final_df = pd.read_csv(csv_files[2])\n",
    "    \n",
    "    midterm1_df = midterm1_df.iloc[1:]\n",
    "    midterm2_df = midterm2_df.iloc[1:]\n",
    "    final_df = final_df.iloc[1:]\n",
    "    \n",
    "    return midterm1_df, midterm2_df, final_df"
   ]
  },
  {
   "cell_type": "code",
   "execution_count": 110,
   "id": "cb34b830",
   "metadata": {},
   "outputs": [],
   "source": [
    "students = ['S01', 'S02', 'S03', 'S04', 'S05', 'S06', 'S07', 'S08', 'S09', 'S10']\n",
    "grades = {\n",
    "    \"S01\": {\"midterm_1\": 78, \"midterm_2\": 82, \"final\": 182},\n",
    "    \"S02\": {\"midterm_1\": 82, \"midterm_2\": 85, \"final\": 180},\n",
    "    \"S03\": {\"midterm_1\": 77, \"midterm_2\": 90, \"final\": 188},\n",
    "    \"S04\": {\"midterm_1\": 75, \"midterm_2\": 77, \"final\": 149},\n",
    "    \"S05\": {\"midterm_1\": 67, \"midterm_2\": 77, \"final\": 157},\n",
    "    \"S06\": {\"midterm_1\": 71, \"midterm_2\": 64, \"final\": 175},\n",
    "    \"S07\": {\"midterm_1\": 64, \"midterm_2\": 33, \"final\": 110},\n",
    "    \"S08\": {\"midterm_1\": 92, \"midterm_2\": 88, \"final\": 184},\n",
    "    \"S09\": {\"midterm_1\": 80, \"midterm_2\": 39, \"final\": 126},\n",
    "    \"S10\": {\"midterm_1\": 89, \"midterm_2\": 64, \"final\": 116}\n",
    "}\n",
    "cutoff_frequencies = {\n",
    "    \"S01\": {\"midterm_1\": 0.002, \"midterm_2\": 0.002, \"final\": 0.002},\n",
    "    \"S02\": {\"midterm_1\": 0.002, \"midterm_2\": 0.001, \"final\": 0.002},\n",
    "    \"S03\": {\"midterm_1\": 0.0002, \"midterm_2\": 0.0002, \"final\": 0.001},\n",
    "    \"S04\": {\"midterm_1\": 0.002, \"midterm_2\": 0.002, \"final\": 0.002},\n",
    "    \"S05\": {\"midterm_1\": 0.001, \"midterm_2\": 0.001, \"final\": 0.001},\n",
    "    \"S06\": {\"midterm_1\": 0.002, \"midterm_2\": 0.002, \"final\": 0.002},\n",
    "    \"S07\": {\"midterm_1\": 0.001, \"midterm_2\": 0.0002, \"final\": 0.0002},\n",
    "    \"S08\": {\"midterm_1\": 0.0002, \"midterm_2\": 0.002, \"final\": 0.002},\n",
    "    \"S09\": {\"midterm_1\": 0.002, \"midterm_2\": 0.002, \"final\": 0.002},\n",
    "    \"S10\": {\"midterm_1\": 0.002, \"midterm_2\": 0.002, \"final\": 0.002}\n",
    "}\n",
    "sample_rate = 4"
   ]
  },
  {
   "cell_type": "code",
   "execution_count": 111,
   "id": "b99a12af",
   "metadata": {},
   "outputs": [],
   "source": [
    "def get_all_students_eda_dfs(students):\n",
    "    eda_students_dataframes = {}\n",
    "    for student in students:\n",
    "        student_dict = {}\n",
    "        m1,m2,f = read_student_eda_files(student)\n",
    "        student_dict['midterm_1'] = m1\n",
    "        student_dict['midterm_2'] = m2\n",
    "        student_dict['final'] = f\n",
    "        eda_students_dataframes[student] = student_dict\n",
    "        student_dict = {}\n",
    "    \n",
    "    return eda_students_dataframes"
   ]
  },
  {
   "cell_type": "code",
   "execution_count": 112,
   "id": "16e2be23",
   "metadata": {},
   "outputs": [],
   "source": [
    "def get_final_vector(data, Tw, T, sample_rate):\n",
    "    mod_Tw = Tw*60*sample_rate\n",
    "    #mod_Tw = Tw\n",
    "    mod_T = T*60*sample_rate\n",
    "    #mod_T = T\n",
    "    Ystart = data[1:mod_Tw]\n",
    "    Ymid = data[(int(mod_T/2) - int(mod_Tw/2) +1) : (int(mod_T/2) + int(mod_Tw/2))]\n",
    "    Yend = data [(mod_T - mod_Tw +1) : mod_T]\n",
    "\n",
    "    mi_start = np.mean(Ystart)\n",
    "    mi_mid = np.mean(Ymid)\n",
    "    mi_end = np.mean(Yend)\n",
    "    \n",
    "    si_start = np.var(Ystart)\n",
    "    si_mid = np.var(Ymid)\n",
    "    si_end = np.var(Yend)\n",
    "    \n",
    "    ro = mi_mid / (mi_start + mi_end)\n",
    "    \n",
    "    diff = np.array(Yend) - np.array(Ystart)\n",
    "    mi_diff = np.mean(diff)\n",
    "    si_diff = np.var(diff)\n",
    "    \n",
    "    x = [mi_start, mi_mid, mi_end, si_start, si_mid, si_end, ro, mi_diff, si_diff]\n",
    "    \n",
    "    return x"
   ]
  },
  {
   "cell_type": "code",
   "execution_count": 113,
   "id": "749c4ffa",
   "metadata": {},
   "outputs": [],
   "source": [
    "from scipy.signal import butter, filtfilt\n",
    "\n",
    "def lowpass_butter_filter(data, cutoff, sampling_frequency, order=4):\n",
    "    nyq = 0.5 * sampling_frequency\n",
    "    normal_cutoff = cutoff / nyq\n",
    "    b, a = butter(order, normal_cutoff, btype='low', analog=False)\n",
    "    y = filtfilt(b, a, data, axis=0)\n",
    "    \n",
    "    return pd.DataFrame(y, columns=[data.columns[0]])"
   ]
  },
  {
   "cell_type": "code",
   "execution_count": 114,
   "id": "e10d6781",
   "metadata": {},
   "outputs": [],
   "source": [
    "import copy\n",
    "\n",
    "def apply_filter_to_all_students(all_students_dict):\n",
    "    filtered_dict = copy.deepcopy(all_students_dict)\n",
    "    for student in all_students_dict:\n",
    "        for test in all_students_dict[student]:\n",
    "            filtered_dict[student][test] = lowpass_butter_filter(all_students_dict[student][test], cutoff_frequencies[student][test], 4.000)   \n",
    "    \n",
    "    return filtered_dict"
   ]
  },
  {
   "cell_type": "code",
   "execution_count": 116,
   "id": "569762b3",
   "metadata": {},
   "outputs": [],
   "source": [
    "def feature_extraction(filtered_eda_students_dfs, test, Tw, T):\n",
    "    students_vectors = []\n",
    "    for student in filtered_eda_students_dfs:\n",
    "        x = get_final_vector(filtered_eda_students_dfs[student][test].values, Tw, T, 4)\n",
    "        students_vectors.append(x)\n",
    "    return pd.DataFrame(students_vectors)"
   ]
  },
  {
   "cell_type": "code",
   "execution_count": 117,
   "id": "17abae55",
   "metadata": {},
   "outputs": [],
   "source": [
    "def grade_labeling(grades_dict, test):\n",
    "    y = {}"
   ]
  },
  {
   "cell_type": "code",
   "execution_count": 121,
   "id": "6163b89a",
   "metadata": {},
   "outputs": [],
   "source": [
    "from sklearn.neighbors import KNeighborsClassifier\n",
    "from sklearn.model_selection import train_test_split\n",
    "from sklearn.model_selection import KFold\n",
    "from sklearn.svm import SVC\n",
    "\n",
    "def KNN(data, y):\n",
    "    kf = KFold(n_splits=10)\n",
    "    score = []\n",
    "    for i, (train_index, test_index) in enumerate(kf.split(data)):\n",
    "        x_train = data.loc[train_index]\n",
    "        x_test = data.loc[test_index]\n",
    "        y_train = y.loc[train_index]\n",
    "        y_test = y.loc[test_index]\n",
    "        \n",
    "        neigh = SVC(kernel='poly').fit(np.array(x_train), np.array(y_train))\n",
    "        score.append(neigh.score(x_test, y_test))\n",
    "    return score"
   ]
  },
  {
   "cell_type": "code",
   "execution_count": 118,
   "id": "386ff6e3",
   "metadata": {},
   "outputs": [],
   "source": [
    "students_dict = get_all_students_eda_dfs(students)"
   ]
  },
  {
   "cell_type": "code",
   "execution_count": 119,
   "id": "7f67147a",
   "metadata": {},
   "outputs": [],
   "source": [
    "filtered_students_dict = apply_filter_to_all_students(students_dict)"
   ]
  },
  {
   "cell_type": "code",
   "execution_count": 120,
   "id": "7de3e2f2",
   "metadata": {},
   "outputs": [
    {
     "data": {
      "text/html": [
       "<div>\n",
       "<style scoped>\n",
       "    .dataframe tbody tr th:only-of-type {\n",
       "        vertical-align: middle;\n",
       "    }\n",
       "\n",
       "    .dataframe tbody tr th {\n",
       "        vertical-align: top;\n",
       "    }\n",
       "\n",
       "    .dataframe thead th {\n",
       "        text-align: right;\n",
       "    }\n",
       "</style>\n",
       "<table border=\"1\" class=\"dataframe\">\n",
       "  <thead>\n",
       "    <tr style=\"text-align: right;\">\n",
       "      <th></th>\n",
       "      <th>0</th>\n",
       "      <th>1</th>\n",
       "      <th>2</th>\n",
       "      <th>3</th>\n",
       "      <th>4</th>\n",
       "      <th>5</th>\n",
       "      <th>6</th>\n",
       "      <th>7</th>\n",
       "      <th>8</th>\n",
       "    </tr>\n",
       "  </thead>\n",
       "  <tbody>\n",
       "    <tr>\n",
       "      <th>0</th>\n",
       "      <td>0.022607</td>\n",
       "      <td>0.170709</td>\n",
       "      <td>0.184803</td>\n",
       "      <td>0.000027</td>\n",
       "      <td>0.000056</td>\n",
       "      <td>0.000002</td>\n",
       "      <td>0.823049</td>\n",
       "      <td>0.162196</td>\n",
       "      <td>0.000032</td>\n",
       "    </tr>\n",
       "    <tr>\n",
       "      <th>1</th>\n",
       "      <td>0.012681</td>\n",
       "      <td>0.128379</td>\n",
       "      <td>0.106669</td>\n",
       "      <td>0.000037</td>\n",
       "      <td>0.000946</td>\n",
       "      <td>0.000004</td>\n",
       "      <td>1.075654</td>\n",
       "      <td>0.093988</td>\n",
       "      <td>0.000045</td>\n",
       "    </tr>\n",
       "    <tr>\n",
       "      <th>2</th>\n",
       "      <td>0.226247</td>\n",
       "      <td>0.403676</td>\n",
       "      <td>0.118199</td>\n",
       "      <td>0.003450</td>\n",
       "      <td>0.001030</td>\n",
       "      <td>0.000105</td>\n",
       "      <td>1.171956</td>\n",
       "      <td>-0.108048</td>\n",
       "      <td>0.004688</td>\n",
       "    </tr>\n",
       "    <tr>\n",
       "      <th>3</th>\n",
       "      <td>0.101553</td>\n",
       "      <td>0.913398</td>\n",
       "      <td>0.269596</td>\n",
       "      <td>0.053710</td>\n",
       "      <td>0.148279</td>\n",
       "      <td>0.000517</td>\n",
       "      <td>2.460996</td>\n",
       "      <td>0.168043</td>\n",
       "      <td>0.046970</td>\n",
       "    </tr>\n",
       "    <tr>\n",
       "      <th>4</th>\n",
       "      <td>0.159418</td>\n",
       "      <td>0.778916</td>\n",
       "      <td>0.417262</td>\n",
       "      <td>0.056778</td>\n",
       "      <td>0.016107</td>\n",
       "      <td>0.009655</td>\n",
       "      <td>1.350691</td>\n",
       "      <td>0.257844</td>\n",
       "      <td>0.020390</td>\n",
       "    </tr>\n",
       "    <tr>\n",
       "      <th>5</th>\n",
       "      <td>-0.000842</td>\n",
       "      <td>0.430867</td>\n",
       "      <td>0.175613</td>\n",
       "      <td>0.000005</td>\n",
       "      <td>0.029474</td>\n",
       "      <td>0.000213</td>\n",
       "      <td>2.465322</td>\n",
       "      <td>0.176455</td>\n",
       "      <td>0.000230</td>\n",
       "    </tr>\n",
       "    <tr>\n",
       "      <th>6</th>\n",
       "      <td>-0.008506</td>\n",
       "      <td>1.071701</td>\n",
       "      <td>0.050819</td>\n",
       "      <td>0.000233</td>\n",
       "      <td>0.015355</td>\n",
       "      <td>0.007501</td>\n",
       "      <td>25.328291</td>\n",
       "      <td>0.059325</td>\n",
       "      <td>0.006278</td>\n",
       "    </tr>\n",
       "    <tr>\n",
       "      <th>7</th>\n",
       "      <td>0.118777</td>\n",
       "      <td>0.441229</td>\n",
       "      <td>1.006590</td>\n",
       "      <td>0.001082</td>\n",
       "      <td>0.002264</td>\n",
       "      <td>0.003262</td>\n",
       "      <td>0.392075</td>\n",
       "      <td>0.887813</td>\n",
       "      <td>0.000609</td>\n",
       "    </tr>\n",
       "    <tr>\n",
       "      <th>8</th>\n",
       "      <td>0.011391</td>\n",
       "      <td>0.289784</td>\n",
       "      <td>0.438884</td>\n",
       "      <td>0.000008</td>\n",
       "      <td>0.000494</td>\n",
       "      <td>0.007404</td>\n",
       "      <td>0.643570</td>\n",
       "      <td>0.427494</td>\n",
       "      <td>0.007505</td>\n",
       "    </tr>\n",
       "    <tr>\n",
       "      <th>9</th>\n",
       "      <td>0.018803</td>\n",
       "      <td>0.155221</td>\n",
       "      <td>0.156395</td>\n",
       "      <td>0.000020</td>\n",
       "      <td>0.000435</td>\n",
       "      <td>0.000055</td>\n",
       "      <td>0.885971</td>\n",
       "      <td>0.137592</td>\n",
       "      <td>0.000093</td>\n",
       "    </tr>\n",
       "  </tbody>\n",
       "</table>\n",
       "</div>"
      ],
      "text/plain": [
       "          0         1         2         3         4         5          6  \\\n",
       "0  0.022607  0.170709  0.184803  0.000027  0.000056  0.000002   0.823049   \n",
       "1  0.012681  0.128379  0.106669  0.000037  0.000946  0.000004   1.075654   \n",
       "2  0.226247  0.403676  0.118199  0.003450  0.001030  0.000105   1.171956   \n",
       "3  0.101553  0.913398  0.269596  0.053710  0.148279  0.000517   2.460996   \n",
       "4  0.159418  0.778916  0.417262  0.056778  0.016107  0.009655   1.350691   \n",
       "5 -0.000842  0.430867  0.175613  0.000005  0.029474  0.000213   2.465322   \n",
       "6 -0.008506  1.071701  0.050819  0.000233  0.015355  0.007501  25.328291   \n",
       "7  0.118777  0.441229  1.006590  0.001082  0.002264  0.003262   0.392075   \n",
       "8  0.011391  0.289784  0.438884  0.000008  0.000494  0.007404   0.643570   \n",
       "9  0.018803  0.155221  0.156395  0.000020  0.000435  0.000055   0.885971   \n",
       "\n",
       "          7         8  \n",
       "0  0.162196  0.000032  \n",
       "1  0.093988  0.000045  \n",
       "2 -0.108048  0.004688  \n",
       "3  0.168043  0.046970  \n",
       "4  0.257844  0.020390  \n",
       "5  0.176455  0.000230  \n",
       "6  0.059325  0.006278  \n",
       "7  0.887813  0.000609  \n",
       "8  0.427494  0.007505  \n",
       "9  0.137592  0.000093  "
      ]
     },
     "execution_count": 120,
     "metadata": {},
     "output_type": "execute_result"
    }
   ],
   "source": [
    "feature_extraction(filtered_students_dict, 'midterm_1', 15, 90)"
   ]
  },
  {
   "cell_type": "code",
   "execution_count": 214,
   "id": "503b8bfa",
   "metadata": {},
   "outputs": [
    {
     "name": "stdout",
     "output_type": "stream",
     "text": [
      "S01 - midterm_1  :   0.10292479984398711   |  0.10287115715420407 \n",
      "S01 - midterm_2  :   0.32590895987654317   |  0.3258099451001292  \n",
      "S01 - final      :   0.11658823646282328   |  0.11647831526113792 \n",
      "--------------------------------------------------------------------------------\n",
      "S02 - midterm_1  :   0.07829630200501253   |  0.07825633169272297 \n",
      "S02 - midterm_2  :   0.16454142616931614   |  0.16425294799303297 \n",
      "S02 - final      :   0.12559881131158168   |  0.12553709809330751 \n",
      "--------------------------------------------------------------------------------\n",
      "S03 - midterm_1  :   0.16966423930134386   |  0.1723609049104544  \n",
      "S03 - midterm_2  :   0.23662251768607223   |  0.2745560951692351  \n",
      "S03 - final      :   0.5719971969985359    |  0.5731622922727496  \n",
      "--------------------------------------------------------------------------------\n",
      "S04 - midterm_1  :   0.5262481283259511    |  0.5262244275751149  \n",
      "S04 - midterm_2  :   0.3399011036642723    |  0.3398744013782394  \n",
      "S04 - final      :   0.49673588954226405   |  0.4966980245919471  \n",
      "--------------------------------------------------------------------------------\n",
      "S05 - midterm_1  :   0.5420236968653681    |  0.5417852561369868  \n",
      "S05 - midterm_2  :   0.1472828707453235    |  0.14717983256926162 \n",
      "S05 - final      :   0.37560131731369373   |  0.375391055389178   \n",
      "--------------------------------------------------------------------------------\n",
      "S06 - midterm_1  :   0.1297206186848101    |  0.12969374041378928 \n",
      "S06 - midterm_2  :   0.5924046030934768    |  0.5924211223423078  \n",
      "S06 - final      :   0.20533547265680055   |  0.20530721387325926 \n",
      "--------------------------------------------------------------------------------\n",
      "S07 - midterm_1  :   0.21214315664045605   |  0.2120766744530269  \n",
      "S07 - midterm_2  :   0.15194415203084624   |  0.16452505810636314 \n",
      "S07 - final      :   0.26332509871919363   |  0.32814332499837406 \n",
      "--------------------------------------------------------------------------------\n",
      "S08 - midterm_1  :   0.5341993654066437    |  0.5334932170114285  \n",
      "S08 - midterm_2  :   0.4206124305922731    |  0.4204937497248426  \n",
      "S08 - final      :   0.10869093289163277   |  0.10864903446029059 \n",
      "--------------------------------------------------------------------------------\n",
      "S09 - midterm_1  :   0.4012260046985535    |  0.4011586047892989  \n",
      "S09 - midterm_2  :   0.16641479743316773   |  0.1663429661087475  \n",
      "S09 - final      :   0.3166945053692084    |  0.3166169104576916  \n",
      "--------------------------------------------------------------------------------\n",
      "S10 - midterm_1  :   0.11109505347159015   |  0.11104913629126303 \n",
      "S10 - midterm_2  :   0.2015664221323749    |  0.20145950698785384 \n",
      "S10 - final      :   0.1690694989801024    |  0.1689898982098762  \n",
      "--------------------------------------------------------------------------------\n"
     ]
    }
   ],
   "source": [
    "for s in students_dict:\n",
    "    for t in students_dict[s]:\n",
    "        res = \"{:<20}  |  {:<20}\".format(str(students_dict[s][t].values.mean()), str(filtered_students_dict[s][t].values.mean()))\n",
    "        print(\"{} - {:<10} :   \".format(s,t) + res)\n",
    "    print(\"-\"*80)"
   ]
  }
 ],
 "metadata": {
  "kernelspec": {
   "display_name": "Python 3 (ipykernel)",
   "language": "python",
   "name": "python3"
  },
  "language_info": {
   "codemirror_mode": {
    "name": "ipython",
    "version": 3
   },
   "file_extension": ".py",
   "mimetype": "text/x-python",
   "name": "python",
   "nbconvert_exporter": "python",
   "pygments_lexer": "ipython3",
   "version": "3.9.7"
  }
 },
 "nbformat": 4,
 "nbformat_minor": 5
}
