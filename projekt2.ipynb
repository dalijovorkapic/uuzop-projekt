{
 "cells": [
  {
   "cell_type": "markdown",
   "id": "d2cea33e",
   "metadata": {},
   "source": [
    "#### SC - Skin Conductance\n",
    "SC signal se sastoji od sporo promjenjive toničke komponente\n",
    "na čijem vrhu se superponira brže promjenjiva fazna komponenta"
   ]
  },
  {
   "cell_type": "markdown",
   "id": "c7d51b2c",
   "metadata": {},
   "source": [
    "#### Fazna komponenta\n",
    "- Brzo promjenjiva\n",
    "- Očitava se na vrhu toničke komponente\n",
    "- Sastoji se od SCR-ova (skin conductance responses)\n",
    "- Svaki od SCR-ova je generiran neuralnom aktivnosti\n",
    "- Stope po kojima se javljaju SCR-ovi i njihove amplitedu su markeri uzbuđenja"
   ]
  },
  {
   "cell_type": "markdown",
   "id": "395f165c",
   "metadata": {},
   "source": [
    "#### Tonička komponenta\n",
    "- Sporo promjenjiva\n",
    "- Povezana sa termoregulacijom\n",
    "- Ovisi o temperaturi i vlažnosti okoline\n",
    "- Zahvaća opće varijacije u uzbuđenju"
   ]
  },
  {
   "cell_type": "markdown",
   "id": "b9bbb4d2",
   "metadata": {},
   "source": [
    "#### Komponente SC signala\n",
    "<img style=\"float: left;\" src=\"Skin Conductance.png\">"
   ]
  },
  {
   "cell_type": "markdown",
   "id": "4a0470e2",
   "metadata": {},
   "source": [
    "#### 1. korak - Niskopropusni filtar granične frekvencije (!?)\n",
    "- Za izdvajanje SC trendova\n",
    "- Visokopropusna filtrirana komponenta (s niskom graničnom frekvencijom) se oduzima od SC signala da bi se izdvojila tonička komponenta\n",
    "- Oni koriste lowpass FIR filter - (primjer za python: https://scipy-cookbook.readthedocs.io/items/FIRFilter.html)"
   ]
  },
  {
   "cell_type": "markdown",
   "id": "7e03d299",
   "metadata": {},
   "source": [
    "##### Odabir zasebnih graničnih frekvencija za filter (Budući da su razine buke različite za svaki signal)\n",
    "<img style=\"float: left; display:block;\" src=\"cutoff frequency.png\" />\n",
    "<br>\n",
    "- Po tablici se vidi da je za svakog studenta napravljen groupby njegovih očitanja za sva tri testa"
   ]
  },
  {
   "cell_type": "markdown",
   "id": "ea68c14a",
   "metadata": {},
   "source": [
    "#### 2. korak - Izdvajanje značajki i klasifikacija\n",
    "##### Vektor y \n",
    "- vektor svih uzoraka za svakog studenta za određeni ispit\n",
    "\n",
    "#### Ekstrackija tri segmenta iz svakog trenda\n",
    "- Uzimaju se segmenti sa početka, sredine i kraja testa (zbog pretpostavke oscilacija stresa tijekom vremena pisanja testa)\n",
    "- Početni stres - osobni osjećaj sudionika da nije pripremljen\n",
    "- Krajnji stres - zabrinutost u vezi s preostalim vremenom, umor, potreba za dovršavanjem ispita\n",
    "- Tw - trajanje segmenta\n",
    "- T - ukupno trajanje signala\n",
    "\n",
    "<img style=\"float: left; display:block;\" src=\"feature extraction.png\" />\n",
    "<br>\n",
    "- Što se tiće značajki, unutar svakog prozora se izračunava srednja vrijednost i varijanca SC linije trenda"
   ]
  },
  {
   "cell_type": "markdown",
   "id": "1be26ae6",
   "metadata": {},
   "source": [
    "##### Matematički"
   ]
  },
  {
   "cell_type": "markdown",
   "id": "62c7cebb",
   "metadata": {},
   "source": [
    "###### Računjanje segmenata sa Tw:\n",
    "- $y_{i:j}$ označava vektor koji se sastoji od uzoraka između i, j indeksa"
   ]
  },
  {
   "cell_type": "markdown",
   "id": "193d9f1a",
   "metadata": {},
   "source": [
    "<img style=\"float: left; display:block;\" src=\"segmenti.png\" />"
   ]
  },
  {
   "cell_type": "markdown",
   "id": "26baa7ba",
   "metadata": {},
   "source": [
    "##### Računanje srednje vrijednosti i varijance\n",
    "- q € {start, mid, end}"
   ]
  },
  {
   "cell_type": "markdown",
   "id": "198eeeac",
   "metadata": {},
   "source": [
    "<img style=\"float: left; display:block;\" src=\"mean.png\" />"
   ]
  },
  {
   "cell_type": "markdown",
   "id": "e1529244",
   "metadata": {},
   "source": [
    "##### Značajka omjera (ratio feature)\n",
    "- Kako bi vidjeli kako su razine stresa rasle/padale tijekom sredine ispita u usporedbi sa početkom ili krajem ispita"
   ]
  },
  {
   "cell_type": "markdown",
   "id": "12c26ab2",
   "metadata": {},
   "source": [
    "<img style=\"float: left; display:block;\" src=\"ratio.png\" />"
   ]
  },
  {
   "cell_type": "markdown",
   "id": "d393c2fa",
   "metadata": {},
   "source": [
    "##### Difference signal\n",
    "- informacija koliko se brzo/sporo povečavalo/smanjivalo uzbuđenje tijekom ispita"
   ]
  },
  {
   "cell_type": "markdown",
   "id": "403c5404",
   "metadata": {},
   "source": [
    "<img style=\"float: left; display:block;\" src=\"ydiff.png\" />"
   ]
  },
  {
   "cell_type": "markdown",
   "id": "93d804bf",
   "metadata": {},
   "source": [
    "#### Finalni vektor značajki\n",
    "$x = [ \\mu_{start}, \\mu_{mid}, \\mu_{end}, \\sigma^{2}_{start} \\sigma^{2}_{mid}, \\sigma^{2}_{end}, \\rho, \\mu_{diff}, \\sigma^{2}_{diff}]$"
   ]
  },
  {
   "cell_type": "markdown",
   "id": "bc88ffbf",
   "metadata": {},
   "source": [
    "#### Klasifikacija\n",
    "- Značajke se uzimaju za $T_{w} = 5, 15, 30 min$\n",
    "- Treniraju se zasebni klasifikatori za svaki $T_{w}$ te za svaki ispit\n",
    "- Svakom vektoru značajki se dodaje oznaka visoke ili niske ocjene na temelju toga je li sudionik postigao rezultat >= 80%"
   ]
  },
  {
   "cell_type": "markdown",
   "id": "9f61944a",
   "metadata": {},
   "source": [
    "- Koriste se klasifikatori iz aplikacije MATLAB 2017b sa defaultnim postavkama\n",
    "- Procjena izvedbe klasifikatora se vrši sa 10-fold cross-validation"
   ]
  },
  {
   "cell_type": "markdown",
   "id": "9ebc2357",
   "metadata": {},
   "source": [
    "#### Rezultati"
   ]
  },
  {
   "cell_type": "markdown",
   "id": "b8cbeec8",
   "metadata": {},
   "source": [
    "<img style=\"float: left; display:block;\" src=\"rezultati1.png\" />"
   ]
  },
  {
   "cell_type": "code",
   "execution_count": 9,
   "id": "270a0f87",
   "metadata": {},
   "outputs": [],
   "source": [
    "import numpy as np\n",
    "import pandas as pd\n",
    "import os\n",
    "import glob\n",
    "import matplotlib.pyplot as plt\n",
    "import seaborn as sns"
   ]
  },
  {
   "cell_type": "code",
   "execution_count": 10,
   "id": "9a0888e8",
   "metadata": {},
   "outputs": [],
   "source": [
    "path = os.getcwd()\n",
    "s1f = pd.read_csv(path+'\\\\Data\\\\S01\\\\Final\\\\EDA.csv')"
   ]
  },
  {
   "cell_type": "code",
   "execution_count": 89,
   "id": "37279aa3",
   "metadata": {},
   "outputs": [],
   "source": [
    "def read_student_eda_files(student):\n",
    "    csv_files = glob.glob(path+'\\\\Data\\\\'+student+'\\\\*\\\\EDA.csv')\n",
    "    \n",
    "    midterm1_df = pd.read_csv(csv_files[0])\n",
    "    midterm2_df = pd.read_csv(csv_files[1])\n",
    "    final_df = pd.read_csv(csv_files[2])\n",
    "    \n",
    "    midterm1_df = midterm1_df.iloc[1:]\n",
    "    midterm2_df = midterm2_df.iloc[1:]\n",
    "    final_df = final_df.iloc[1:]\n",
    "    \n",
    "    return midterm1_df, midterm2_df, final_df"
   ]
  },
  {
   "cell_type": "code",
   "execution_count": 127,
   "id": "e3dac253",
   "metadata": {},
   "outputs": [],
   "source": [
    "students = ['S01', 'S02', 'S03', 'S04', 'S05', 'S06', 'S07', 'S08', 'S09', 'S10']\n",
    "cutoff_frequencies = {\n",
    "    \"S01\": {\"midterm_1\": 0.002, \"midterm_2\": 0.002, \"final\": 0.002},\n",
    "    \"S02\": {\"midterm_1\": 0.002, \"midterm_2\": 0.001, \"final\": 0.002},\n",
    "    \"S03\": {\"midterm_1\": 0.0002, \"midterm_2\": 0.0002, \"final\": 0.001},\n",
    "    \"S04\": {\"midterm_1\": 0.002, \"midterm_2\": 0.002, \"final\": 0.002},\n",
    "    \"S05\": {\"midterm_1\": 0.001, \"midterm_2\": 0.001, \"final\": 0.001},\n",
    "    \"S06\": {\"midterm_1\": 0.002, \"midterm_2\": 0.002, \"final\": 0.002},\n",
    "    \"S07\": {\"midterm_1\": 0.001, \"midterm_2\": 0.0002, \"final\": 0.0002},\n",
    "    \"S08\": {\"midterm_1\": 0.0002, \"midterm_2\": 0.002, \"final\": 0.002},\n",
    "    \"S09\": {\"midterm_1\": 0.002, \"midterm_2\": 0.002, \"final\": 0.002},\n",
    "    \"S10\": {\"midterm_1\": 0.002, \"midterm_2\": 0.002, \"final\": 0.002}\n",
    "}\n",
    "sample_rate = 4\n",
    "s1f = s1f.iloc[1:]"
   ]
  },
  {
   "cell_type": "code",
   "execution_count": 128,
   "id": "3fcf6a38",
   "metadata": {},
   "outputs": [],
   "source": [
    "def get_all_students_eda_dfs(students):\n",
    "    eda_students_dataframes = {}\n",
    "    for student in students:\n",
    "        student_dict = {}\n",
    "        m1,m2,f = read_student_eda_files(student)\n",
    "        student_dict['midterm_1'] = m1\n",
    "        student_dict['midterm_2'] = m2\n",
    "        student_dict['final'] = f\n",
    "        eda_students_dataframes[student] = student_dict\n",
    "        student_dict = {}\n",
    "    \n",
    "    return eda_students_dataframes"
   ]
  },
  {
   "cell_type": "code",
   "execution_count": 129,
   "id": "4c4d29ac",
   "metadata": {},
   "outputs": [],
   "source": [
    "def get_final_vector(data, Tw, T, sample_rate):\n",
    "    mod_Tw = Tw*60*sample_rate\n",
    "    mod_T = T*60*sample_rate\n",
    "    Ystart = data[0:mod_Tw]\n",
    "    Ymid = data[(int(mod_T/2) - int(mod_Tw/2)) : (int(mod_T/2) + int(mod_Tw/2))]\n",
    "    Yend = data [(mod_T - mod_Tw) : mod_T]\n",
    "\n",
    "    mi_start = np.mean(Ystart)\n",
    "    mi_mid = np.mean(Ymid)\n",
    "    mi_end = np.mean(Yend)\n",
    "    \n",
    "    si_start = np.var(Ystart)\n",
    "    si_mid = np.var(Ymid)\n",
    "    si_end = np.var(Yend)\n",
    "    \n",
    "    ro = mi_mid / (mi_start + mi_end)\n",
    "    \n",
    "    diff = np.array(Yend) - np.array(Ystart)\n",
    "    mi_diff = np.mean(diff)\n",
    "    si_diff = np.var(diff)\n",
    "    \n",
    "    x = [mi_start, mi_mid, mi_end, si_start, si_mid, si_end, ro, mi_diff, si_diff]\n",
    "    \n",
    "    return x"
   ]
  },
  {
   "cell_type": "code",
   "execution_count": 105,
   "id": "4e77a39a",
   "metadata": {},
   "outputs": [
    {
     "name": "stdout",
     "output_type": "stream",
     "text": [
      "[0.022855402222222224, 0.17230403666666666, 0.1913757027777778, 2.455568015439506e-06, 0.020482264257274212, 4.465232180499228e-05, 0.8042904725094269, 0.16852030055555556, 5.379694489688861e-05]\n"
     ]
    }
   ],
   "source": [
    "print(get_final_vector(s1f.values, 15, 90, 4))"
   ]
  },
  {
   "cell_type": "code",
   "execution_count": 150,
   "id": "d95dce49",
   "metadata": {},
   "outputs": [],
   "source": [
    "from scipy.signal import butter, filtfilt\n",
    "\n",
    "def lowpass_butter_filter(data, cutoff, sampling_frequency, order=5):\n",
    "    nyq = 0.5 * sampling_frequency\n",
    "    normal_cutoff = cutoff / nyq\n",
    "    b, a = butter(order, normal_cutoff, btype='low', analog=False)\n",
    "    y = filtfilt(b, a, data, axis=0)\n",
    "    \n",
    "    return pd.DataFrame(y, columns=[data.columns[0]])"
   ]
  },
  {
   "cell_type": "code",
   "execution_count": 206,
   "id": "82d6fbd0",
   "metadata": {},
   "outputs": [],
   "source": [
    "import copy\n",
    "\n",
    "def apply_filter_to_all_students(all_students_dict):\n",
    "    filtered_dict = copy.deepcopy(all_students_dict)\n",
    "    for student in all_students_dict:\n",
    "        for test in all_students_dict[student]:\n",
    "            filtered_dict[student][test] = lowpass_butter_filter(all_students_dict[student][test], cutoff_frequencies[student][test], 4.000, 4)   \n",
    "    \n",
    "    return filtered_dict"
   ]
  },
  {
   "cell_type": "code",
   "execution_count": 207,
   "id": "9c9293af",
   "metadata": {},
   "outputs": [],
   "source": [
    "students_dict = get_all_students_eda_dfs(students)"
   ]
  },
  {
   "cell_type": "code",
   "execution_count": 208,
   "id": "66c061ca",
   "metadata": {},
   "outputs": [],
   "source": [
    "filtered_students_dict = apply_filter_to_all_students(students_dict)"
   ]
  },
  {
   "cell_type": "code",
   "execution_count": 209,
   "id": "e7247a9a",
   "metadata": {},
   "outputs": [
    {
     "name": "stdout",
     "output_type": "stream",
     "text": [
      "S01 - midterm_1  :   0.10292479984398711   |  0.10287115715420407 \n",
      "S01 - midterm_2  :   0.32590895987654317   |  0.3258099451001292  \n",
      "S01 - final      :   0.11658823646282328   |  0.11647831526113792 \n",
      "--------------------------------------------------------------------------------\n",
      "S02 - midterm_1  :   0.07829630200501253   |  0.07825633169272297 \n",
      "S02 - midterm_2  :   0.16454142616931614   |  0.16425294799303297 \n",
      "S02 - final      :   0.12559881131158168   |  0.12553709809330751 \n",
      "--------------------------------------------------------------------------------\n",
      "S03 - midterm_1  :   0.16966423930134386   |  0.1723609049104544  \n",
      "S03 - midterm_2  :   0.23662251768607223   |  0.2745560951692351  \n",
      "S03 - final      :   0.5719971969985359    |  0.5731622922727496  \n",
      "--------------------------------------------------------------------------------\n",
      "S04 - midterm_1  :   0.5262481283259511    |  0.5262244275751149  \n",
      "S04 - midterm_2  :   0.3399011036642723    |  0.3398744013782394  \n",
      "S04 - final      :   0.49673588954226405   |  0.4966980245919471  \n",
      "--------------------------------------------------------------------------------\n",
      "S05 - midterm_1  :   0.5420236968653681    |  0.5417852561369868  \n",
      "S05 - midterm_2  :   0.1472828707453235    |  0.14717983256926162 \n",
      "S05 - final      :   0.37560131731369373   |  0.375391055389178   \n",
      "--------------------------------------------------------------------------------\n",
      "S06 - midterm_1  :   0.1297206186848101    |  0.12969374041378928 \n",
      "S06 - midterm_2  :   0.5924046030934768    |  0.5924211223423078  \n",
      "S06 - final      :   0.20533547265680055   |  0.20530721387325926 \n",
      "--------------------------------------------------------------------------------\n",
      "S07 - midterm_1  :   0.21214315664045605   |  0.2120766744530269  \n",
      "S07 - midterm_2  :   0.15194415203084624   |  0.16452505810636314 \n",
      "S07 - final      :   0.26332509871919363   |  0.32814332499837406 \n",
      "--------------------------------------------------------------------------------\n",
      "S08 - midterm_1  :   0.5341993654066437    |  0.5334932170114285  \n",
      "S08 - midterm_2  :   0.4206124305922731    |  0.4204937497248426  \n",
      "S08 - final      :   0.10869093289163277   |  0.10864903446029059 \n",
      "--------------------------------------------------------------------------------\n",
      "S09 - midterm_1  :   0.4012260046985535    |  0.4011586047892989  \n",
      "S09 - midterm_2  :   0.16641479743316773   |  0.1663429661087475  \n",
      "S09 - final      :   0.3166945053692084    |  0.3166169104576916  \n",
      "--------------------------------------------------------------------------------\n",
      "S10 - midterm_1  :   0.11109505347159015   |  0.11104913629126303 \n",
      "S10 - midterm_2  :   0.2015664221323749    |  0.20145950698785384 \n",
      "S10 - final      :   0.1690694989801024    |  0.1689898982098762  \n",
      "--------------------------------------------------------------------------------\n"
     ]
    }
   ],
   "source": [
    "for s in students_dict:\n",
    "    for t in students_dict[s]:\n",
    "        res = \"{:<20}  |  {:<20}\".format(str(students_dict[s][t].values.mean()), str(filtered_students_dict[s][t].values.mean()))\n",
    "        print(\"{} - {:<10} :   \".format(s,t) + res)\n",
    "    print(\"-\"*80)"
   ]
  },
  {
   "cell_type": "code",
   "execution_count": null,
   "id": "2bb1f391",
   "metadata": {},
   "outputs": [],
   "source": []
  },
  {
   "cell_type": "code",
   "execution_count": null,
   "id": "705f7918",
   "metadata": {},
   "outputs": [],
   "source": []
  }
 ],
 "metadata": {
  "kernelspec": {
   "display_name": "Python 3 (ipykernel)",
   "language": "python",
   "name": "python3"
  },
  "language_info": {
   "codemirror_mode": {
    "name": "ipython",
    "version": 3
   },
   "file_extension": ".py",
   "mimetype": "text/x-python",
   "name": "python",
   "nbconvert_exporter": "python",
   "pygments_lexer": "ipython3",
   "version": "3.9.7"
  }
 },
 "nbformat": 4,
 "nbformat_minor": 5
}
